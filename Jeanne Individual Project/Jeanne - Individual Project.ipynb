{
 "cells": [
  {
   "cell_type": "markdown",
   "id": "fffd42c6",
   "metadata": {},
   "source": [
    "## Statistical & Machine Learning\n",
    "### Individual Project \n"
   ]
  },
  {
   "cell_type": "markdown",
   "id": "c7606a56",
   "metadata": {},
   "source": [
    "Jeanne Harling"
   ]
  },
  {
   "cell_type": "code",
   "execution_count": 1,
   "id": "aceeec32",
   "metadata": {},
   "outputs": [
    {
     "data": {
      "text/html": [
       "'R version 4.0.5 (2021-03-31)'"
      ],
      "text/latex": [
       "'R version 4.0.5 (2021-03-31)'"
      ],
      "text/markdown": [
       "'R version 4.0.5 (2021-03-31)'"
      ],
      "text/plain": [
       "[1] \"R version 4.0.5 (2021-03-31)\""
      ]
     },
     "metadata": {},
     "output_type": "display_data"
    }
   ],
   "source": [
    "R.version.string"
   ]
  },
  {
   "cell_type": "markdown",
   "id": "4bdb0d75",
   "metadata": {},
   "source": [
    "### 1. Importing libraries"
   ]
  },
  {
   "cell_type": "code",
   "execution_count": 2,
   "id": "fccda543",
   "metadata": {},
   "outputs": [
    {
     "name": "stderr",
     "output_type": "stream",
     "text": [
      "Warning message:\n",
      "\"package 'data.table' was built under R version 4.1.2\"\n",
      "Loading required package: ParamHelpers\n",
      "\n",
      "Warning message: 'mlr' is in 'maintenance-only' mode since July 2019.\n",
      "Future development will only happen in 'mlr3'\n",
      "(<https://mlr3.mlr-org.com>). Due to the focus on 'mlr3' there might be\n",
      "uncaught bugs meanwhile in {mlr} - please consider switching.\n",
      "\n",
      "Loading required package: ggplot2\n",
      "\n",
      "Loading required package: lattice\n",
      "\n",
      "\n",
      "Attaching package: 'caret'\n",
      "\n",
      "\n",
      "The following object is masked from 'package:mlr':\n",
      "\n",
      "    train\n",
      "\n",
      "\n",
      "\n",
      "Attaching package: 'rgl'\n",
      "\n",
      "\n",
      "The following object is masked from 'package:plotrix':\n",
      "\n",
      "    mtext3d\n",
      "\n",
      "\n",
      "Warning message:\n",
      "\"package 'tidyverse' was built under R version 4.1.2\"\n",
      "-- \u001b[1mAttaching packages\u001b[22m ------------------------------------------------------------------------------- tidyverse 1.3.1 --\n",
      "\n",
      "\u001b[32mv\u001b[39m \u001b[34mtibble \u001b[39m 3.1.5     \u001b[32mv\u001b[39m \u001b[34mdplyr  \u001b[39m 1.0.7\n",
      "\u001b[32mv\u001b[39m \u001b[34mtidyr  \u001b[39m 1.1.4     \u001b[32mv\u001b[39m \u001b[34mstringr\u001b[39m 1.4.0\n",
      "\u001b[32mv\u001b[39m \u001b[34mreadr  \u001b[39m 2.1.1     \u001b[32mv\u001b[39m \u001b[34mforcats\u001b[39m 0.5.1\n",
      "\u001b[32mv\u001b[39m \u001b[34mpurrr  \u001b[39m 0.3.4     \n",
      "\n",
      "Warning message:\n",
      "\"package 'tibble' was built under R version 4.1.1\"\n",
      "Warning message:\n",
      "\"package 'tidyr' was built under R version 4.1.1\"\n",
      "Warning message:\n",
      "\"package 'readr' was built under R version 4.1.2\"\n",
      "Warning message:\n",
      "\"package 'purrr' was built under R version 4.1.1\"\n",
      "Warning message:\n",
      "\"package 'dplyr' was built under R version 4.1.1\"\n",
      "Warning message:\n",
      "\"package 'stringr' was built under R version 4.1.2\"\n",
      "Warning message:\n",
      "\"package 'forcats' was built under R version 4.1.2\"\n",
      "-- \u001b[1mConflicts\u001b[22m ---------------------------------------------------------------------------------- tidyverse_conflicts() --\n",
      "\u001b[31mx\u001b[39m \u001b[34mdplyr\u001b[39m::\u001b[32mbetween()\u001b[39m   masks \u001b[34mdata.table\u001b[39m::between()\n",
      "\u001b[31mx\u001b[39m \u001b[34mdplyr\u001b[39m::\u001b[32mfilter()\u001b[39m    masks \u001b[34mstats\u001b[39m::filter()\n",
      "\u001b[31mx\u001b[39m \u001b[34mdplyr\u001b[39m::\u001b[32mfirst()\u001b[39m     masks \u001b[34mdata.table\u001b[39m::first()\n",
      "\u001b[31mx\u001b[39m \u001b[34mdplyr\u001b[39m::\u001b[32mlag()\u001b[39m       masks \u001b[34mstats\u001b[39m::lag()\n",
      "\u001b[31mx\u001b[39m \u001b[34mdplyr\u001b[39m::\u001b[32mlast()\u001b[39m      masks \u001b[34mdata.table\u001b[39m::last()\n",
      "\u001b[31mx\u001b[39m \u001b[34mpurrr\u001b[39m::\u001b[32mlift()\u001b[39m      masks \u001b[34mcaret\u001b[39m::lift()\n",
      "\u001b[31mx\u001b[39m \u001b[34mpurrr\u001b[39m::\u001b[32mtranspose()\u001b[39m masks \u001b[34mdata.table\u001b[39m::transpose()\n",
      "\n",
      "Warning message:\n",
      "\"package 'corrplot' was built under R version 4.1.2\"\n",
      "corrplot 0.92 loaded\n",
      "\n",
      "Warning message:\n",
      "\"package 'randomForest' was built under R version 4.1.2\"\n",
      "randomForest 4.6-14\n",
      "\n",
      "Type rfNews() to see new features/changes/bug fixes.\n",
      "\n",
      "\n",
      "Attaching package: 'randomForest'\n",
      "\n",
      "\n",
      "The following object is masked from 'package:dplyr':\n",
      "\n",
      "    combine\n",
      "\n",
      "\n",
      "The following object is masked from 'package:ggplot2':\n",
      "\n",
      "    margin\n",
      "\n",
      "\n",
      "Warning message:\n",
      "\"package 'tree' was built under R version 4.1.2\"\n",
      "Registered S3 method overwritten by 'tree':\n",
      "  method     from\n",
      "  print.tree cli \n",
      "\n",
      "Warning message:\n",
      "\"package 'e1071' was built under R version 4.1.2\"\n",
      "\n",
      "Attaching package: 'e1071'\n",
      "\n",
      "\n",
      "The following object is masked from 'package:mlr':\n",
      "\n",
      "    impute\n",
      "\n",
      "\n",
      "\n",
      "Attaching package: 'MASS'\n",
      "\n",
      "\n",
      "The following object is masked from 'package:dplyr':\n",
      "\n",
      "    select\n",
      "\n",
      "\n"
     ]
    }
   ],
   "source": [
    "# Import libraries\n",
    "library(data.table)  # Data manipulate\n",
    "library(mlr)         # ML toolkit\n",
    "library(caret)       # ML toolkit\n",
    "library(ggplot2)     # Visualization\n",
    "library(plotrix)     # Draw circle\n",
    "library(rgl)         # 3D plots\n",
    "library(tidyverse)\n",
    "library(tracerer)\n",
    "library(ggplot2)\n",
    "library(corrplot)\n",
    "library(DataExplorer)\n",
    "library(randomForest)\n",
    "library(tree)\n",
    "library(e1071)  \n",
    "library(MASS)\n",
    "library(ROCR)\n",
    "library(Hmisc)\n",
    "library(correlation)"
   ]
  },
  {
   "cell_type": "markdown",
   "id": "583b9684",
   "metadata": {},
   "source": [
    "### 2. Importing the data set"
   ]
  },
  {
   "cell_type": "code",
   "execution_count": 3,
   "id": "64f42307",
   "metadata": {
    "scrolled": true
   },
   "outputs": [
    {
     "data": {
      "text/html": [
       "<table class=\"dataframe\">\n",
       "<caption>A data.frame: 20000 × 25</caption>\n",
       "<thead>\n",
       "\t<tr><th scope=col>cust_id</th><th scope=col>LIMIT_BAL</th><th scope=col>SEX</th><th scope=col>EDUCATION</th><th scope=col>MARRIAGE</th><th scope=col>AGE</th><th scope=col>PAY_0</th><th scope=col>PAY_2</th><th scope=col>PAY_3</th><th scope=col>PAY_4</th><th scope=col>⋯</th><th scope=col>BILL_AMT4</th><th scope=col>BILL_AMT5</th><th scope=col>BILL_AMT6</th><th scope=col>PAY_AMT1</th><th scope=col>PAY_AMT2</th><th scope=col>PAY_AMT3</th><th scope=col>PAY_AMT4</th><th scope=col>PAY_AMT5</th><th scope=col>PAY_AMT6</th><th scope=col>default.payment.next.month</th></tr>\n",
       "\t<tr><th scope=col>&lt;int&gt;</th><th scope=col>&lt;int&gt;</th><th scope=col>&lt;int&gt;</th><th scope=col>&lt;int&gt;</th><th scope=col>&lt;int&gt;</th><th scope=col>&lt;int&gt;</th><th scope=col>&lt;int&gt;</th><th scope=col>&lt;int&gt;</th><th scope=col>&lt;int&gt;</th><th scope=col>&lt;int&gt;</th><th scope=col>⋯</th><th scope=col>&lt;int&gt;</th><th scope=col>&lt;int&gt;</th><th scope=col>&lt;int&gt;</th><th scope=col>&lt;int&gt;</th><th scope=col>&lt;int&gt;</th><th scope=col>&lt;int&gt;</th><th scope=col>&lt;int&gt;</th><th scope=col>&lt;int&gt;</th><th scope=col>&lt;int&gt;</th><th scope=col>&lt;int&gt;</th></tr>\n",
       "</thead>\n",
       "<tbody>\n",
       "\t<tr><td>18895</td><td> 70000</td><td>1</td><td>3</td><td>2</td><td>34</td><td> 0</td><td> 0</td><td> 0</td><td> 0</td><td>⋯</td><td> 25559</td><td> 26134</td><td> 26715</td><td> 1700</td><td>  1500</td><td> 2000</td><td> 1000</td><td> 1000</td><td>  2000</td><td>0</td></tr>\n",
       "\t<tr><td>25102</td><td>390000</td><td>2</td><td>2</td><td>2</td><td>26</td><td> 2</td><td> 2</td><td> 2</td><td> 0</td><td>⋯</td><td>140387</td><td>128112</td><td>115514</td><td> 5000</td><td>  3000</td><td> 5000</td><td> 4548</td><td> 4100</td><td>  3300</td><td>0</td></tr>\n",
       "\t<tr><td>28867</td><td> 60000</td><td>1</td><td>1</td><td>2</td><td>27</td><td> 0</td><td> 0</td><td> 0</td><td> 0</td><td>⋯</td><td> 26038</td><td> 28607</td><td> 27997</td><td> 1378</td><td>  1406</td><td> 3000</td><td> 3000</td><td>    0</td><td>   923</td><td>1</td></tr>\n",
       "\t<tr><td> 1842</td><td>140000</td><td>2</td><td>2</td><td>1</td><td>55</td><td> 0</td><td> 0</td><td> 0</td><td> 0</td><td>⋯</td><td> 72391</td><td> 61298</td><td> 62193</td><td> 4200</td><td>  2822</td><td> 2336</td><td> 2588</td><td> 2250</td><td>  2491</td><td>0</td></tr>\n",
       "\t<tr><td> 3371</td><td> 50000</td><td>1</td><td>1</td><td>2</td><td>29</td><td> 2</td><td> 2</td><td> 2</td><td> 0</td><td>⋯</td><td>  1047</td><td>     0</td><td>     0</td><td> 3000</td><td>     0</td><td> 1000</td><td>    0</td><td>    0</td><td>     0</td><td>1</td></tr>\n",
       "\t<tr><td>29925</td><td> 20000</td><td>1</td><td>2</td><td>2</td><td>37</td><td> 0</td><td> 0</td><td> 0</td><td> 0</td><td>⋯</td><td> 19105</td><td> 19609</td><td> 19283</td><td> 1700</td><td>  1600</td><td> 1200</td><td> 1000</td><td>  900</td><td>  1000</td><td>0</td></tr>\n",
       "\t<tr><td>29940</td><td> 50000</td><td>1</td><td>3</td><td>2</td><td>44</td><td> 0</td><td> 0</td><td> 0</td><td> 2</td><td>⋯</td><td> 49952</td><td> 19584</td><td> 19080</td><td> 1762</td><td>  4800</td><td>    0</td><td>  837</td><td>  700</td><td>  1000</td><td>0</td></tr>\n",
       "\t<tr><td>11638</td><td>250000</td><td>1</td><td>2</td><td>2</td><td>30</td><td> 0</td><td> 0</td><td> 0</td><td>-1</td><td>⋯</td><td>  9693</td><td>   799</td><td>  4295</td><td> 2000</td><td>  2305</td><td> 4720</td><td>    0</td><td> 4305</td><td>     0</td><td>0</td></tr>\n",
       "\t<tr><td> 4761</td><td>320000</td><td>2</td><td>2</td><td>2</td><td>36</td><td>-2</td><td>-2</td><td>-2</td><td>-2</td><td>⋯</td><td> 15813</td><td>     0</td><td>     0</td><td> 5000</td><td>  4905</td><td>15873</td><td>    0</td><td>    0</td><td> 21657</td><td>1</td></tr>\n",
       "\t<tr><td> 6746</td><td>300000</td><td>1</td><td>1</td><td>1</td><td>35</td><td> 0</td><td> 0</td><td> 0</td><td> 0</td><td>⋯</td><td> 29368</td><td> 18833</td><td> 93329</td><td> 3260</td><td>  2240</td><td> 1505</td><td> 1250</td><td>80934</td><td>  2700</td><td>0</td></tr>\n",
       "\t<tr><td>26203</td><td>500000</td><td>1</td><td>1</td><td>1</td><td>41</td><td>-1</td><td>-1</td><td>-1</td><td>-2</td><td>⋯</td><td>   -50</td><td> 10037</td><td>    79</td><td> 1558</td><td>     0</td><td>    0</td><td>10087</td><td>   79</td><td>   471</td><td>0</td></tr>\n",
       "\t<tr><td>16128</td><td> 90000</td><td>2</td><td>2</td><td>2</td><td>32</td><td>-2</td><td>-2</td><td>-2</td><td>-2</td><td>⋯</td><td>     0</td><td>     0</td><td>     0</td><td>  157</td><td>     0</td><td>    0</td><td>    0</td><td>    0</td><td>     0</td><td>0</td></tr>\n",
       "\t<tr><td> 2757</td><td> 80000</td><td>2</td><td>2</td><td>2</td><td>29</td><td> 0</td><td> 0</td><td> 0</td><td> 2</td><td>⋯</td><td> 64714</td><td> 62420</td><td> 62990</td><td> 2753</td><td>  3438</td><td> 4400</td><td>    0</td><td> 2400</td><td>  9974</td><td>1</td></tr>\n",
       "\t<tr><td>21491</td><td> 30000</td><td>2</td><td>2</td><td>2</td><td>24</td><td> 0</td><td> 0</td><td> 0</td><td> 2</td><td>⋯</td><td> 28914</td><td> 29357</td><td> 29955</td><td> 2000</td><td>  3600</td><td>    0</td><td> 1200</td><td> 1200</td><td>  1300</td><td>0</td></tr>\n",
       "\t<tr><td>29787</td><td>100000</td><td>2</td><td>3</td><td>1</td><td>41</td><td> 1</td><td> 2</td><td> 0</td><td> 0</td><td>⋯</td><td> 78333</td><td> 78130</td><td> 77761</td><td>    0</td><td>  3475</td><td> 3263</td><td> 2805</td><td> 2888</td><td>  2680</td><td>0</td></tr>\n",
       "\t<tr><td>25529</td><td>300000</td><td>2</td><td>1</td><td>2</td><td>42</td><td>-1</td><td>-1</td><td>-1</td><td> 0</td><td>⋯</td><td>   367</td><td>   -23</td><td>  -413</td><td>  668</td><td>  9800</td><td>    0</td><td>    0</td><td>    0</td><td>     0</td><td>0</td></tr>\n",
       "\t<tr><td>12636</td><td>240000</td><td>1</td><td>2</td><td>2</td><td>27</td><td> 0</td><td> 0</td><td> 0</td><td> 0</td><td>⋯</td><td> 84832</td><td> 87123</td><td> 85363</td><td>15000</td><td>  4000</td><td> 4000</td><td> 4000</td><td> 3000</td><td>  3000</td><td>0</td></tr>\n",
       "\t<tr><td> 9209</td><td>330000</td><td>1</td><td>2</td><td>1</td><td>47</td><td>-2</td><td>-2</td><td>-1</td><td> 0</td><td>⋯</td><td>215506</td><td>138371</td><td> 21757</td><td>25487</td><td>166744</td><td>60057</td><td>  560</td><td>17921</td><td>201134</td><td>0</td></tr>\n",
       "\t<tr><td> 2888</td><td> 20000</td><td>1</td><td>1</td><td>2</td><td>38</td><td> 0</td><td> 0</td><td> 0</td><td> 0</td><td>⋯</td><td> 20086</td><td> 19632</td><td> 20160</td><td> 1700</td><td>  1400</td><td> 1684</td><td>    0</td><td> 1000</td><td>   850</td><td>0</td></tr>\n",
       "\t<tr><td> 6170</td><td> 20000</td><td>1</td><td>3</td><td>1</td><td>52</td><td> 1</td><td> 2</td><td> 0</td><td> 0</td><td>⋯</td><td> 19845</td><td>     0</td><td>     0</td><td>    0</td><td>  1200</td><td>  397</td><td>    0</td><td>    0</td><td>     0</td><td>1</td></tr>\n",
       "\t<tr><td>18951</td><td>220000</td><td>2</td><td>1</td><td>1</td><td>41</td><td> 0</td><td> 0</td><td> 0</td><td> 0</td><td>⋯</td><td> 74457</td><td> 68604</td><td> 53333</td><td> 5068</td><td>  5000</td><td> 2000</td><td> 3000</td><td> 3000</td><td>  1000</td><td>0</td></tr>\n",
       "\t<tr><td>26366</td><td> 30000</td><td>2</td><td>2</td><td>1</td><td>29</td><td> 2</td><td> 2</td><td> 2</td><td> 0</td><td>⋯</td><td> 18416</td><td> 20099</td><td> 21631</td><td> 3175</td><td>     0</td><td> 1317</td><td> 2000</td><td> 2000</td><td>     0</td><td>1</td></tr>\n",
       "\t<tr><td>12499</td><td> 30000</td><td>1</td><td>2</td><td>1</td><td>36</td><td> 1</td><td> 3</td><td> 2</td><td> 5</td><td>⋯</td><td> 21988</td><td> 21057</td><td> 25412</td><td>    0</td><td>  5000</td><td>    0</td><td>    0</td><td> 5000</td><td>     0</td><td>0</td></tr>\n",
       "\t<tr><td>19364</td><td> 80000</td><td>2</td><td>2</td><td>2</td><td>27</td><td>-1</td><td> 0</td><td> 0</td><td> 0</td><td>⋯</td><td> 40969</td><td> 41275</td><td> 41637</td><td> 2000</td><td>  2000</td><td> 1600</td><td> 1500</td><td> 1550</td><td>  1600</td><td>1</td></tr>\n",
       "\t<tr><td> 1614</td><td>200000</td><td>2</td><td>1</td><td>1</td><td>42</td><td>-2</td><td>-2</td><td>-2</td><td>-2</td><td>⋯</td><td>     0</td><td>     0</td><td>     0</td><td>    0</td><td>     0</td><td>    0</td><td>    0</td><td>    0</td><td>   665</td><td>1</td></tr>\n",
       "\t<tr><td>20853</td><td>170000</td><td>2</td><td>3</td><td>2</td><td>26</td><td> 2</td><td> 2</td><td> 2</td><td> 0</td><td>⋯</td><td> 90196</td><td> 50464</td><td> 48282</td><td> 2550</td><td>     0</td><td> 3500</td><td> 3000</td><td> 2001</td><td>  3000</td><td>0</td></tr>\n",
       "\t<tr><td>15180</td><td> 80000</td><td>2</td><td>3</td><td>1</td><td>48</td><td> 0</td><td> 0</td><td> 0</td><td> 0</td><td>⋯</td><td> 48532</td><td> 44469</td><td> 45068</td><td> 1785</td><td> 10000</td><td> 1541</td><td> 1610</td><td> 1604</td><td>  1485</td><td>0</td></tr>\n",
       "\t<tr><td> 9359</td><td>200000</td><td>2</td><td>1</td><td>1</td><td>29</td><td> 0</td><td> 0</td><td> 0</td><td> 0</td><td>⋯</td><td>126854</td><td>139660</td><td>145455</td><td>10000</td><td> 95000</td><td> 4552</td><td>15002</td><td> 8000</td><td>     0</td><td>0</td></tr>\n",
       "\t<tr><td>27168</td><td> 60000</td><td>1</td><td>2</td><td>2</td><td>27</td><td> 1</td><td> 2</td><td> 0</td><td> 0</td><td>⋯</td><td> 49877</td><td> 50734</td><td> 49764</td><td>    0</td><td>  5000</td><td> 4000</td><td> 1800</td><td>    0</td><td>  2000</td><td>1</td></tr>\n",
       "\t<tr><td>24173</td><td>160000</td><td>2</td><td>2</td><td>1</td><td>42</td><td> 0</td><td> 0</td><td> 0</td><td> 0</td><td>⋯</td><td> 41318</td><td> 42605</td><td> 43857</td><td> 3000</td><td>  3000</td><td> 2000</td><td> 2000</td><td> 2000</td><td>  2000</td><td>0</td></tr>\n",
       "\t<tr><td>⋮</td><td>⋮</td><td>⋮</td><td>⋮</td><td>⋮</td><td>⋮</td><td>⋮</td><td>⋮</td><td>⋮</td><td>⋮</td><td>⋱</td><td>⋮</td><td>⋮</td><td>⋮</td><td>⋮</td><td>⋮</td><td>⋮</td><td>⋮</td><td>⋮</td><td>⋮</td><td>⋮</td></tr>\n",
       "\t<tr><td> 1340</td><td>180000</td><td>1</td><td> 1</td><td>2</td><td>26</td><td>-1</td><td>-1</td><td>-1</td><td>-1</td><td>⋯</td><td>   770</td><td>  4159</td><td>  4159</td><td> 9500</td><td> 10122</td><td>  770</td><td> 4159</td><td>    0</td><td> 5243</td><td>0</td></tr>\n",
       "\t<tr><td> 5551</td><td>180000</td><td>1</td><td> 3</td><td>1</td><td>37</td><td>-2</td><td>-2</td><td>-2</td><td>-2</td><td>⋯</td><td>  5760</td><td>     0</td><td>   925</td><td> 3595</td><td>  3842</td><td> 5760</td><td>    0</td><td>  925</td><td> 2755</td><td>0</td></tr>\n",
       "\t<tr><td>29835</td><td>120000</td><td>1</td><td> 1</td><td>2</td><td>28</td><td>-1</td><td> 0</td><td> 0</td><td> 0</td><td>⋯</td><td> 53576</td><td> 57529</td><td> 61392</td><td>35000</td><td>  5000</td><td> 8000</td><td> 5000</td><td> 5000</td><td> 4000</td><td>1</td></tr>\n",
       "\t<tr><td>25741</td><td>270000</td><td>2</td><td> 1</td><td>1</td><td>45</td><td>-2</td><td>-2</td><td>-2</td><td>-2</td><td>⋯</td><td>     0</td><td>     0</td><td>     0</td><td>    0</td><td>     0</td><td>    0</td><td>    0</td><td>    0</td><td>    0</td><td>1</td></tr>\n",
       "\t<tr><td>17884</td><td> 60000</td><td>2</td><td> 2</td><td>2</td><td>27</td><td> 0</td><td> 0</td><td> 0</td><td> 2</td><td>⋯</td><td> 33528</td><td> 32690</td><td> 34661</td><td> 2500</td><td>  3700</td><td> 1200</td><td>    0</td><td> 2500</td><td> 2500</td><td>0</td></tr>\n",
       "\t<tr><td>13675</td><td> 50000</td><td>1</td><td> 3</td><td>2</td><td>40</td><td> 0</td><td> 0</td><td> 0</td><td> 0</td><td>⋯</td><td> 59595</td><td> 55949</td><td> 51225</td><td> 2000</td><td>  2356</td><td> 3494</td><td> 2000</td><td>    0</td><td> 1725</td><td>0</td></tr>\n",
       "\t<tr><td>12348</td><td>350000</td><td>2</td><td> 1</td><td>1</td><td>33</td><td>-2</td><td>-2</td><td>-2</td><td>-2</td><td>⋯</td><td>  9571</td><td>  6370</td><td>  9674</td><td> 4348</td><td>  5596</td><td> 9632</td><td> 6402</td><td> 9722</td><td>24086</td><td>0</td></tr>\n",
       "\t<tr><td> 9755</td><td> 50000</td><td>2</td><td> 2</td><td>2</td><td>48</td><td>-1</td><td>-1</td><td> 0</td><td> 0</td><td>⋯</td><td>  7838</td><td>  7998</td><td>  8161</td><td> 8061</td><td>  1398</td><td> 1000</td><td>  160</td><td>  163</td><td> 9217</td><td>0</td></tr>\n",
       "\t<tr><td>16286</td><td>230000</td><td>2</td><td> 1</td><td>2</td><td>29</td><td>-2</td><td>-1</td><td> 2</td><td>-1</td><td>⋯</td><td>  4571</td><td>  2526</td><td>  5375</td><td>11142</td><td>  1430</td><td> 4571</td><td> 2526</td><td> 5375</td><td> 3133</td><td>0</td></tr>\n",
       "\t<tr><td> 8311</td><td>200000</td><td>2</td><td> 2</td><td>1</td><td>37</td><td> 0</td><td> 0</td><td> 0</td><td> 0</td><td>⋯</td><td>  2732</td><td>  1380</td><td>  1380</td><td> 1068</td><td>  1046</td><td> 1006</td><td>   34</td><td> 1386</td><td> 1386</td><td>0</td></tr>\n",
       "\t<tr><td>29255</td><td> 20000</td><td>2</td><td> 2</td><td>2</td><td>22</td><td>-1</td><td> 3</td><td> 2</td><td> 2</td><td>⋯</td><td> 17846</td><td> 18310</td><td> 18923</td><td>    0</td><td>   600</td><td> 1000</td><td> 1000</td><td> 1000</td><td>  700</td><td>1</td></tr>\n",
       "\t<tr><td>10951</td><td> 60000</td><td>2</td><td> 1</td><td>2</td><td>32</td><td> 0</td><td> 0</td><td> 0</td><td> 0</td><td>⋯</td><td> 28660</td><td> 31398</td><td>  9966</td><td> 2000</td><td>  2300</td><td> 1700</td><td>10000</td><td> 1200</td><td>20000</td><td>0</td></tr>\n",
       "\t<tr><td> 5762</td><td>200000</td><td>2</td><td> 1</td><td>2</td><td>29</td><td>-2</td><td>-2</td><td>-2</td><td>-2</td><td>⋯</td><td>  -792</td><td>  -792</td><td> 69708</td><td>    0</td><td>   792</td><td>    0</td><td>    0</td><td>70500</td><td> 1688</td><td>1</td></tr>\n",
       "\t<tr><td>18182</td><td>180000</td><td>2</td><td> 1</td><td>1</td><td>33</td><td>-1</td><td> 0</td><td> 0</td><td> 0</td><td>⋯</td><td>  2301</td><td>  2364</td><td>  2286</td><td> 1503</td><td>  1400</td><td>  250</td><td>  228</td><td>  106</td><td> 1601</td><td>1</td></tr>\n",
       "\t<tr><td> 5605</td><td> 70000</td><td>2</td><td> 3</td><td>1</td><td>53</td><td> 2</td><td> 2</td><td> 2</td><td> 2</td><td>⋯</td><td> 56814</td><td> 58053</td><td> 59246</td><td> 2600</td><td>     0</td><td> 4400</td><td> 2300</td><td> 2300</td><td> 2100</td><td>1</td></tr>\n",
       "\t<tr><td> 3631</td><td> 50000</td><td>1</td><td> 1</td><td>2</td><td>25</td><td> 0</td><td> 0</td><td> 2</td><td> 2</td><td>⋯</td><td> 49065</td><td> 48057</td><td> 48942</td><td> 2000</td><td>  3134</td><td> 1640</td><td>    0</td><td> 1968</td><td> 1504</td><td>0</td></tr>\n",
       "\t<tr><td> 3024</td><td> 50000</td><td>2</td><td>NA</td><td>2</td><td>22</td><td> 0</td><td> 0</td><td> 0</td><td> 0</td><td>⋯</td><td> 21056</td><td> 20425</td><td> 20632</td><td> 2610</td><td>  2609</td><td>  715</td><td>  930</td><td> 2000</td><td>  770</td><td>0</td></tr>\n",
       "\t<tr><td>13982</td><td>180000</td><td>2</td><td> 1</td><td>1</td><td>44</td><td>-1</td><td>-1</td><td>-1</td><td>-1</td><td>⋯</td><td>     0</td><td> 21398</td><td>   298</td><td> 1071</td><td>  6557</td><td>    0</td><td>21398</td><td>  298</td><td>    0</td><td>0</td></tr>\n",
       "\t<tr><td>13419</td><td>500000</td><td>1</td><td> 2</td><td>1</td><td>48</td><td>-2</td><td>-2</td><td>-2</td><td>-2</td><td>⋯</td><td>  1535</td><td>    NA</td><td>   800</td><td> 5441</td><td>     0</td><td> 1535</td><td> 1100</td><td>  800</td><td> 1297</td><td>0</td></tr>\n",
       "\t<tr><td> 6710</td><td>200000</td><td>1</td><td> 1</td><td>2</td><td>32</td><td>-1</td><td>-1</td><td>-1</td><td>-1</td><td>⋯</td><td> 26975</td><td>  8734</td><td>    NA</td><td> 9139</td><td>  5481</td><td>27110</td><td>29889</td><td>10809</td><td> 2648</td><td>0</td></tr>\n",
       "\t<tr><td>15031</td><td>160000</td><td>2</td><td> 1</td><td>1</td><td>33</td><td>-1</td><td> 2</td><td> 2</td><td>-2</td><td>⋯</td><td>   600</td><td> 65000</td><td>  2206</td><td>    0</td><td>  3161</td><td>    0</td><td>65000</td><td> 2206</td><td>  339</td><td>1</td></tr>\n",
       "\t<tr><td> 7449</td><td>240000</td><td>1</td><td> 1</td><td>2</td><td>35</td><td> 1</td><td>-2</td><td>-2</td><td>-2</td><td>⋯</td><td>     0</td><td>     0</td><td>     0</td><td>    0</td><td>     0</td><td>    0</td><td>    0</td><td>    0</td><td>    0</td><td>0</td></tr>\n",
       "\t<tr><td>13622</td><td>160000</td><td>1</td><td> 2</td><td>2</td><td>27</td><td>-1</td><td>-1</td><td>-1</td><td>-1</td><td>⋯</td><td>     0</td><td>   780</td><td>   390</td><td>  390</td><td>   390</td><td>    0</td><td> 1170</td><td>    0</td><td>  540</td><td>0</td></tr>\n",
       "\t<tr><td>28764</td><td>160000</td><td>2</td><td> 3</td><td>2</td><td>33</td><td>-1</td><td> 2</td><td> 2</td><td> 2</td><td>⋯</td><td> 43228</td><td>  -772</td><td>  -772</td><td>    0</td><td> 43500</td><td>    0</td><td>    0</td><td>    0</td><td> 3000</td><td>0</td></tr>\n",
       "\t<tr><td> 1650</td><td> 30000</td><td>1</td><td> 2</td><td>1</td><td>33</td><td> 0</td><td> 0</td><td> 0</td><td> 0</td><td>⋯</td><td> 26404</td><td> 25806</td><td> 26325</td><td> 1500</td><td>  1433</td><td> 1500</td><td>  920</td><td>  929</td><td>    0</td><td>1</td></tr>\n",
       "\t<tr><td> 5994</td><td>500000</td><td>1</td><td> 2</td><td>2</td><td>36</td><td> 1</td><td>-2</td><td>-1</td><td> 0</td><td>⋯</td><td>116089</td><td>114293</td><td>118081</td><td> 9125</td><td>126768</td><td>   NA</td><td> 4050</td><td>15099</td><td> 5015</td><td>0</td></tr>\n",
       "\t<tr><td>25043</td><td> 30000</td><td>1</td><td> 3</td><td>2</td><td>31</td><td> 0</td><td> 0</td><td> 0</td><td> 0</td><td>⋯</td><td> 28075</td><td> 29682</td><td> 28001</td><td> 2000</td><td>  2000</td><td> 2000</td><td> 2014</td><td> 2000</td><td> 2000</td><td>0</td></tr>\n",
       "\t<tr><td>14281</td><td> 20000</td><td>1</td><td> 2</td><td>2</td><td>30</td><td> 1</td><td> 2</td><td> 4</td><td> 3</td><td>⋯</td><td> 19860</td><td> 19690</td><td>  1735</td><td> 2000</td><td>     0</td><td>    0</td><td>    0</td><td>  500</td><td>    0</td><td>1</td></tr>\n",
       "\t<tr><td>28693</td><td>240000</td><td>1</td><td> 2</td><td>2</td><td>67</td><td> 0</td><td> 0</td><td> 0</td><td> 0</td><td>⋯</td><td>468202</td><td>442401</td><td>419209</td><td>20225</td><td> 17389</td><td>80167</td><td>15167</td><td>16000</td><td>13133</td><td>0</td></tr>\n",
       "\t<tr><td> 8686</td><td>130000</td><td>2</td><td> 2</td><td>1</td><td>37</td><td> 0</td><td> 0</td><td> 0</td><td> 0</td><td>⋯</td><td> 84353</td><td>169121</td><td> 87863</td><td> 6013</td><td>  5312</td><td> 3100</td><td> 3123</td><td> 6293</td><td> 3273</td><td>0</td></tr>\n",
       "</tbody>\n",
       "</table>\n"
      ],
      "text/latex": [
       "A data.frame: 20000 × 25\n",
       "\\begin{tabular}{lllllllllllllllllllll}\n",
       " cust\\_id & LIMIT\\_BAL & SEX & EDUCATION & MARRIAGE & AGE & PAY\\_0 & PAY\\_2 & PAY\\_3 & PAY\\_4 & ⋯ & BILL\\_AMT4 & BILL\\_AMT5 & BILL\\_AMT6 & PAY\\_AMT1 & PAY\\_AMT2 & PAY\\_AMT3 & PAY\\_AMT4 & PAY\\_AMT5 & PAY\\_AMT6 & default.payment.next.month\\\\\n",
       " <int> & <int> & <int> & <int> & <int> & <int> & <int> & <int> & <int> & <int> & ⋯ & <int> & <int> & <int> & <int> & <int> & <int> & <int> & <int> & <int> & <int>\\\\\n",
       "\\hline\n",
       "\t 18895 &  70000 & 1 & 3 & 2 & 34 &  0 &  0 &  0 &  0 & ⋯ &  25559 &  26134 &  26715 &  1700 &   1500 &  2000 &  1000 &  1000 &   2000 & 0\\\\\n",
       "\t 25102 & 390000 & 2 & 2 & 2 & 26 &  2 &  2 &  2 &  0 & ⋯ & 140387 & 128112 & 115514 &  5000 &   3000 &  5000 &  4548 &  4100 &   3300 & 0\\\\\n",
       "\t 28867 &  60000 & 1 & 1 & 2 & 27 &  0 &  0 &  0 &  0 & ⋯ &  26038 &  28607 &  27997 &  1378 &   1406 &  3000 &  3000 &     0 &    923 & 1\\\\\n",
       "\t  1842 & 140000 & 2 & 2 & 1 & 55 &  0 &  0 &  0 &  0 & ⋯ &  72391 &  61298 &  62193 &  4200 &   2822 &  2336 &  2588 &  2250 &   2491 & 0\\\\\n",
       "\t  3371 &  50000 & 1 & 1 & 2 & 29 &  2 &  2 &  2 &  0 & ⋯ &   1047 &      0 &      0 &  3000 &      0 &  1000 &     0 &     0 &      0 & 1\\\\\n",
       "\t 29925 &  20000 & 1 & 2 & 2 & 37 &  0 &  0 &  0 &  0 & ⋯ &  19105 &  19609 &  19283 &  1700 &   1600 &  1200 &  1000 &   900 &   1000 & 0\\\\\n",
       "\t 29940 &  50000 & 1 & 3 & 2 & 44 &  0 &  0 &  0 &  2 & ⋯ &  49952 &  19584 &  19080 &  1762 &   4800 &     0 &   837 &   700 &   1000 & 0\\\\\n",
       "\t 11638 & 250000 & 1 & 2 & 2 & 30 &  0 &  0 &  0 & -1 & ⋯ &   9693 &    799 &   4295 &  2000 &   2305 &  4720 &     0 &  4305 &      0 & 0\\\\\n",
       "\t  4761 & 320000 & 2 & 2 & 2 & 36 & -2 & -2 & -2 & -2 & ⋯ &  15813 &      0 &      0 &  5000 &   4905 & 15873 &     0 &     0 &  21657 & 1\\\\\n",
       "\t  6746 & 300000 & 1 & 1 & 1 & 35 &  0 &  0 &  0 &  0 & ⋯ &  29368 &  18833 &  93329 &  3260 &   2240 &  1505 &  1250 & 80934 &   2700 & 0\\\\\n",
       "\t 26203 & 500000 & 1 & 1 & 1 & 41 & -1 & -1 & -1 & -2 & ⋯ &    -50 &  10037 &     79 &  1558 &      0 &     0 & 10087 &    79 &    471 & 0\\\\\n",
       "\t 16128 &  90000 & 2 & 2 & 2 & 32 & -2 & -2 & -2 & -2 & ⋯ &      0 &      0 &      0 &   157 &      0 &     0 &     0 &     0 &      0 & 0\\\\\n",
       "\t  2757 &  80000 & 2 & 2 & 2 & 29 &  0 &  0 &  0 &  2 & ⋯ &  64714 &  62420 &  62990 &  2753 &   3438 &  4400 &     0 &  2400 &   9974 & 1\\\\\n",
       "\t 21491 &  30000 & 2 & 2 & 2 & 24 &  0 &  0 &  0 &  2 & ⋯ &  28914 &  29357 &  29955 &  2000 &   3600 &     0 &  1200 &  1200 &   1300 & 0\\\\\n",
       "\t 29787 & 100000 & 2 & 3 & 1 & 41 &  1 &  2 &  0 &  0 & ⋯ &  78333 &  78130 &  77761 &     0 &   3475 &  3263 &  2805 &  2888 &   2680 & 0\\\\\n",
       "\t 25529 & 300000 & 2 & 1 & 2 & 42 & -1 & -1 & -1 &  0 & ⋯ &    367 &    -23 &   -413 &   668 &   9800 &     0 &     0 &     0 &      0 & 0\\\\\n",
       "\t 12636 & 240000 & 1 & 2 & 2 & 27 &  0 &  0 &  0 &  0 & ⋯ &  84832 &  87123 &  85363 & 15000 &   4000 &  4000 &  4000 &  3000 &   3000 & 0\\\\\n",
       "\t  9209 & 330000 & 1 & 2 & 1 & 47 & -2 & -2 & -1 &  0 & ⋯ & 215506 & 138371 &  21757 & 25487 & 166744 & 60057 &   560 & 17921 & 201134 & 0\\\\\n",
       "\t  2888 &  20000 & 1 & 1 & 2 & 38 &  0 &  0 &  0 &  0 & ⋯ &  20086 &  19632 &  20160 &  1700 &   1400 &  1684 &     0 &  1000 &    850 & 0\\\\\n",
       "\t  6170 &  20000 & 1 & 3 & 1 & 52 &  1 &  2 &  0 &  0 & ⋯ &  19845 &      0 &      0 &     0 &   1200 &   397 &     0 &     0 &      0 & 1\\\\\n",
       "\t 18951 & 220000 & 2 & 1 & 1 & 41 &  0 &  0 &  0 &  0 & ⋯ &  74457 &  68604 &  53333 &  5068 &   5000 &  2000 &  3000 &  3000 &   1000 & 0\\\\\n",
       "\t 26366 &  30000 & 2 & 2 & 1 & 29 &  2 &  2 &  2 &  0 & ⋯ &  18416 &  20099 &  21631 &  3175 &      0 &  1317 &  2000 &  2000 &      0 & 1\\\\\n",
       "\t 12499 &  30000 & 1 & 2 & 1 & 36 &  1 &  3 &  2 &  5 & ⋯ &  21988 &  21057 &  25412 &     0 &   5000 &     0 &     0 &  5000 &      0 & 0\\\\\n",
       "\t 19364 &  80000 & 2 & 2 & 2 & 27 & -1 &  0 &  0 &  0 & ⋯ &  40969 &  41275 &  41637 &  2000 &   2000 &  1600 &  1500 &  1550 &   1600 & 1\\\\\n",
       "\t  1614 & 200000 & 2 & 1 & 1 & 42 & -2 & -2 & -2 & -2 & ⋯ &      0 &      0 &      0 &     0 &      0 &     0 &     0 &     0 &    665 & 1\\\\\n",
       "\t 20853 & 170000 & 2 & 3 & 2 & 26 &  2 &  2 &  2 &  0 & ⋯ &  90196 &  50464 &  48282 &  2550 &      0 &  3500 &  3000 &  2001 &   3000 & 0\\\\\n",
       "\t 15180 &  80000 & 2 & 3 & 1 & 48 &  0 &  0 &  0 &  0 & ⋯ &  48532 &  44469 &  45068 &  1785 &  10000 &  1541 &  1610 &  1604 &   1485 & 0\\\\\n",
       "\t  9359 & 200000 & 2 & 1 & 1 & 29 &  0 &  0 &  0 &  0 & ⋯ & 126854 & 139660 & 145455 & 10000 &  95000 &  4552 & 15002 &  8000 &      0 & 0\\\\\n",
       "\t 27168 &  60000 & 1 & 2 & 2 & 27 &  1 &  2 &  0 &  0 & ⋯ &  49877 &  50734 &  49764 &     0 &   5000 &  4000 &  1800 &     0 &   2000 & 1\\\\\n",
       "\t 24173 & 160000 & 2 & 2 & 1 & 42 &  0 &  0 &  0 &  0 & ⋯ &  41318 &  42605 &  43857 &  3000 &   3000 &  2000 &  2000 &  2000 &   2000 & 0\\\\\n",
       "\t ⋮ & ⋮ & ⋮ & ⋮ & ⋮ & ⋮ & ⋮ & ⋮ & ⋮ & ⋮ & ⋱ & ⋮ & ⋮ & ⋮ & ⋮ & ⋮ & ⋮ & ⋮ & ⋮ & ⋮ & ⋮\\\\\n",
       "\t  1340 & 180000 & 1 &  1 & 2 & 26 & -1 & -1 & -1 & -1 & ⋯ &    770 &   4159 &   4159 &  9500 &  10122 &   770 &  4159 &     0 &  5243 & 0\\\\\n",
       "\t  5551 & 180000 & 1 &  3 & 1 & 37 & -2 & -2 & -2 & -2 & ⋯ &   5760 &      0 &    925 &  3595 &   3842 &  5760 &     0 &   925 &  2755 & 0\\\\\n",
       "\t 29835 & 120000 & 1 &  1 & 2 & 28 & -1 &  0 &  0 &  0 & ⋯ &  53576 &  57529 &  61392 & 35000 &   5000 &  8000 &  5000 &  5000 &  4000 & 1\\\\\n",
       "\t 25741 & 270000 & 2 &  1 & 1 & 45 & -2 & -2 & -2 & -2 & ⋯ &      0 &      0 &      0 &     0 &      0 &     0 &     0 &     0 &     0 & 1\\\\\n",
       "\t 17884 &  60000 & 2 &  2 & 2 & 27 &  0 &  0 &  0 &  2 & ⋯ &  33528 &  32690 &  34661 &  2500 &   3700 &  1200 &     0 &  2500 &  2500 & 0\\\\\n",
       "\t 13675 &  50000 & 1 &  3 & 2 & 40 &  0 &  0 &  0 &  0 & ⋯ &  59595 &  55949 &  51225 &  2000 &   2356 &  3494 &  2000 &     0 &  1725 & 0\\\\\n",
       "\t 12348 & 350000 & 2 &  1 & 1 & 33 & -2 & -2 & -2 & -2 & ⋯ &   9571 &   6370 &   9674 &  4348 &   5596 &  9632 &  6402 &  9722 & 24086 & 0\\\\\n",
       "\t  9755 &  50000 & 2 &  2 & 2 & 48 & -1 & -1 &  0 &  0 & ⋯ &   7838 &   7998 &   8161 &  8061 &   1398 &  1000 &   160 &   163 &  9217 & 0\\\\\n",
       "\t 16286 & 230000 & 2 &  1 & 2 & 29 & -2 & -1 &  2 & -1 & ⋯ &   4571 &   2526 &   5375 & 11142 &   1430 &  4571 &  2526 &  5375 &  3133 & 0\\\\\n",
       "\t  8311 & 200000 & 2 &  2 & 1 & 37 &  0 &  0 &  0 &  0 & ⋯ &   2732 &   1380 &   1380 &  1068 &   1046 &  1006 &    34 &  1386 &  1386 & 0\\\\\n",
       "\t 29255 &  20000 & 2 &  2 & 2 & 22 & -1 &  3 &  2 &  2 & ⋯ &  17846 &  18310 &  18923 &     0 &    600 &  1000 &  1000 &  1000 &   700 & 1\\\\\n",
       "\t 10951 &  60000 & 2 &  1 & 2 & 32 &  0 &  0 &  0 &  0 & ⋯ &  28660 &  31398 &   9966 &  2000 &   2300 &  1700 & 10000 &  1200 & 20000 & 0\\\\\n",
       "\t  5762 & 200000 & 2 &  1 & 2 & 29 & -2 & -2 & -2 & -2 & ⋯ &   -792 &   -792 &  69708 &     0 &    792 &     0 &     0 & 70500 &  1688 & 1\\\\\n",
       "\t 18182 & 180000 & 2 &  1 & 1 & 33 & -1 &  0 &  0 &  0 & ⋯ &   2301 &   2364 &   2286 &  1503 &   1400 &   250 &   228 &   106 &  1601 & 1\\\\\n",
       "\t  5605 &  70000 & 2 &  3 & 1 & 53 &  2 &  2 &  2 &  2 & ⋯ &  56814 &  58053 &  59246 &  2600 &      0 &  4400 &  2300 &  2300 &  2100 & 1\\\\\n",
       "\t  3631 &  50000 & 1 &  1 & 2 & 25 &  0 &  0 &  2 &  2 & ⋯ &  49065 &  48057 &  48942 &  2000 &   3134 &  1640 &     0 &  1968 &  1504 & 0\\\\\n",
       "\t  3024 &  50000 & 2 & NA & 2 & 22 &  0 &  0 &  0 &  0 & ⋯ &  21056 &  20425 &  20632 &  2610 &   2609 &   715 &   930 &  2000 &   770 & 0\\\\\n",
       "\t 13982 & 180000 & 2 &  1 & 1 & 44 & -1 & -1 & -1 & -1 & ⋯ &      0 &  21398 &    298 &  1071 &   6557 &     0 & 21398 &   298 &     0 & 0\\\\\n",
       "\t 13419 & 500000 & 1 &  2 & 1 & 48 & -2 & -2 & -2 & -2 & ⋯ &   1535 &     NA &    800 &  5441 &      0 &  1535 &  1100 &   800 &  1297 & 0\\\\\n",
       "\t  6710 & 200000 & 1 &  1 & 2 & 32 & -1 & -1 & -1 & -1 & ⋯ &  26975 &   8734 &     NA &  9139 &   5481 & 27110 & 29889 & 10809 &  2648 & 0\\\\\n",
       "\t 15031 & 160000 & 2 &  1 & 1 & 33 & -1 &  2 &  2 & -2 & ⋯ &    600 &  65000 &   2206 &     0 &   3161 &     0 & 65000 &  2206 &   339 & 1\\\\\n",
       "\t  7449 & 240000 & 1 &  1 & 2 & 35 &  1 & -2 & -2 & -2 & ⋯ &      0 &      0 &      0 &     0 &      0 &     0 &     0 &     0 &     0 & 0\\\\\n",
       "\t 13622 & 160000 & 1 &  2 & 2 & 27 & -1 & -1 & -1 & -1 & ⋯ &      0 &    780 &    390 &   390 &    390 &     0 &  1170 &     0 &   540 & 0\\\\\n",
       "\t 28764 & 160000 & 2 &  3 & 2 & 33 & -1 &  2 &  2 &  2 & ⋯ &  43228 &   -772 &   -772 &     0 &  43500 &     0 &     0 &     0 &  3000 & 0\\\\\n",
       "\t  1650 &  30000 & 1 &  2 & 1 & 33 &  0 &  0 &  0 &  0 & ⋯ &  26404 &  25806 &  26325 &  1500 &   1433 &  1500 &   920 &   929 &     0 & 1\\\\\n",
       "\t  5994 & 500000 & 1 &  2 & 2 & 36 &  1 & -2 & -1 &  0 & ⋯ & 116089 & 114293 & 118081 &  9125 & 126768 &    NA &  4050 & 15099 &  5015 & 0\\\\\n",
       "\t 25043 &  30000 & 1 &  3 & 2 & 31 &  0 &  0 &  0 &  0 & ⋯ &  28075 &  29682 &  28001 &  2000 &   2000 &  2000 &  2014 &  2000 &  2000 & 0\\\\\n",
       "\t 14281 &  20000 & 1 &  2 & 2 & 30 &  1 &  2 &  4 &  3 & ⋯ &  19860 &  19690 &   1735 &  2000 &      0 &     0 &     0 &   500 &     0 & 1\\\\\n",
       "\t 28693 & 240000 & 1 &  2 & 2 & 67 &  0 &  0 &  0 &  0 & ⋯ & 468202 & 442401 & 419209 & 20225 &  17389 & 80167 & 15167 & 16000 & 13133 & 0\\\\\n",
       "\t  8686 & 130000 & 2 &  2 & 1 & 37 &  0 &  0 &  0 &  0 & ⋯ &  84353 & 169121 &  87863 &  6013 &   5312 &  3100 &  3123 &  6293 &  3273 & 0\\\\\n",
       "\\end{tabular}\n"
      ],
      "text/markdown": [
       "\n",
       "A data.frame: 20000 × 25\n",
       "\n",
       "| cust_id &lt;int&gt; | LIMIT_BAL &lt;int&gt; | SEX &lt;int&gt; | EDUCATION &lt;int&gt; | MARRIAGE &lt;int&gt; | AGE &lt;int&gt; | PAY_0 &lt;int&gt; | PAY_2 &lt;int&gt; | PAY_3 &lt;int&gt; | PAY_4 &lt;int&gt; | ⋯ ⋯ | BILL_AMT4 &lt;int&gt; | BILL_AMT5 &lt;int&gt; | BILL_AMT6 &lt;int&gt; | PAY_AMT1 &lt;int&gt; | PAY_AMT2 &lt;int&gt; | PAY_AMT3 &lt;int&gt; | PAY_AMT4 &lt;int&gt; | PAY_AMT5 &lt;int&gt; | PAY_AMT6 &lt;int&gt; | default.payment.next.month &lt;int&gt; |\n",
       "|---|---|---|---|---|---|---|---|---|---|---|---|---|---|---|---|---|---|---|---|---|\n",
       "| 18895 |  70000 | 1 | 3 | 2 | 34 |  0 |  0 |  0 |  0 | ⋯ |  25559 |  26134 |  26715 |  1700 |   1500 |  2000 |  1000 |  1000 |   2000 | 0 |\n",
       "| 25102 | 390000 | 2 | 2 | 2 | 26 |  2 |  2 |  2 |  0 | ⋯ | 140387 | 128112 | 115514 |  5000 |   3000 |  5000 |  4548 |  4100 |   3300 | 0 |\n",
       "| 28867 |  60000 | 1 | 1 | 2 | 27 |  0 |  0 |  0 |  0 | ⋯ |  26038 |  28607 |  27997 |  1378 |   1406 |  3000 |  3000 |     0 |    923 | 1 |\n",
       "|  1842 | 140000 | 2 | 2 | 1 | 55 |  0 |  0 |  0 |  0 | ⋯ |  72391 |  61298 |  62193 |  4200 |   2822 |  2336 |  2588 |  2250 |   2491 | 0 |\n",
       "|  3371 |  50000 | 1 | 1 | 2 | 29 |  2 |  2 |  2 |  0 | ⋯ |   1047 |      0 |      0 |  3000 |      0 |  1000 |     0 |     0 |      0 | 1 |\n",
       "| 29925 |  20000 | 1 | 2 | 2 | 37 |  0 |  0 |  0 |  0 | ⋯ |  19105 |  19609 |  19283 |  1700 |   1600 |  1200 |  1000 |   900 |   1000 | 0 |\n",
       "| 29940 |  50000 | 1 | 3 | 2 | 44 |  0 |  0 |  0 |  2 | ⋯ |  49952 |  19584 |  19080 |  1762 |   4800 |     0 |   837 |   700 |   1000 | 0 |\n",
       "| 11638 | 250000 | 1 | 2 | 2 | 30 |  0 |  0 |  0 | -1 | ⋯ |   9693 |    799 |   4295 |  2000 |   2305 |  4720 |     0 |  4305 |      0 | 0 |\n",
       "|  4761 | 320000 | 2 | 2 | 2 | 36 | -2 | -2 | -2 | -2 | ⋯ |  15813 |      0 |      0 |  5000 |   4905 | 15873 |     0 |     0 |  21657 | 1 |\n",
       "|  6746 | 300000 | 1 | 1 | 1 | 35 |  0 |  0 |  0 |  0 | ⋯ |  29368 |  18833 |  93329 |  3260 |   2240 |  1505 |  1250 | 80934 |   2700 | 0 |\n",
       "| 26203 | 500000 | 1 | 1 | 1 | 41 | -1 | -1 | -1 | -2 | ⋯ |    -50 |  10037 |     79 |  1558 |      0 |     0 | 10087 |    79 |    471 | 0 |\n",
       "| 16128 |  90000 | 2 | 2 | 2 | 32 | -2 | -2 | -2 | -2 | ⋯ |      0 |      0 |      0 |   157 |      0 |     0 |     0 |     0 |      0 | 0 |\n",
       "|  2757 |  80000 | 2 | 2 | 2 | 29 |  0 |  0 |  0 |  2 | ⋯ |  64714 |  62420 |  62990 |  2753 |   3438 |  4400 |     0 |  2400 |   9974 | 1 |\n",
       "| 21491 |  30000 | 2 | 2 | 2 | 24 |  0 |  0 |  0 |  2 | ⋯ |  28914 |  29357 |  29955 |  2000 |   3600 |     0 |  1200 |  1200 |   1300 | 0 |\n",
       "| 29787 | 100000 | 2 | 3 | 1 | 41 |  1 |  2 |  0 |  0 | ⋯ |  78333 |  78130 |  77761 |     0 |   3475 |  3263 |  2805 |  2888 |   2680 | 0 |\n",
       "| 25529 | 300000 | 2 | 1 | 2 | 42 | -1 | -1 | -1 |  0 | ⋯ |    367 |    -23 |   -413 |   668 |   9800 |     0 |     0 |     0 |      0 | 0 |\n",
       "| 12636 | 240000 | 1 | 2 | 2 | 27 |  0 |  0 |  0 |  0 | ⋯ |  84832 |  87123 |  85363 | 15000 |   4000 |  4000 |  4000 |  3000 |   3000 | 0 |\n",
       "|  9209 | 330000 | 1 | 2 | 1 | 47 | -2 | -2 | -1 |  0 | ⋯ | 215506 | 138371 |  21757 | 25487 | 166744 | 60057 |   560 | 17921 | 201134 | 0 |\n",
       "|  2888 |  20000 | 1 | 1 | 2 | 38 |  0 |  0 |  0 |  0 | ⋯ |  20086 |  19632 |  20160 |  1700 |   1400 |  1684 |     0 |  1000 |    850 | 0 |\n",
       "|  6170 |  20000 | 1 | 3 | 1 | 52 |  1 |  2 |  0 |  0 | ⋯ |  19845 |      0 |      0 |     0 |   1200 |   397 |     0 |     0 |      0 | 1 |\n",
       "| 18951 | 220000 | 2 | 1 | 1 | 41 |  0 |  0 |  0 |  0 | ⋯ |  74457 |  68604 |  53333 |  5068 |   5000 |  2000 |  3000 |  3000 |   1000 | 0 |\n",
       "| 26366 |  30000 | 2 | 2 | 1 | 29 |  2 |  2 |  2 |  0 | ⋯ |  18416 |  20099 |  21631 |  3175 |      0 |  1317 |  2000 |  2000 |      0 | 1 |\n",
       "| 12499 |  30000 | 1 | 2 | 1 | 36 |  1 |  3 |  2 |  5 | ⋯ |  21988 |  21057 |  25412 |     0 |   5000 |     0 |     0 |  5000 |      0 | 0 |\n",
       "| 19364 |  80000 | 2 | 2 | 2 | 27 | -1 |  0 |  0 |  0 | ⋯ |  40969 |  41275 |  41637 |  2000 |   2000 |  1600 |  1500 |  1550 |   1600 | 1 |\n",
       "|  1614 | 200000 | 2 | 1 | 1 | 42 | -2 | -2 | -2 | -2 | ⋯ |      0 |      0 |      0 |     0 |      0 |     0 |     0 |     0 |    665 | 1 |\n",
       "| 20853 | 170000 | 2 | 3 | 2 | 26 |  2 |  2 |  2 |  0 | ⋯ |  90196 |  50464 |  48282 |  2550 |      0 |  3500 |  3000 |  2001 |   3000 | 0 |\n",
       "| 15180 |  80000 | 2 | 3 | 1 | 48 |  0 |  0 |  0 |  0 | ⋯ |  48532 |  44469 |  45068 |  1785 |  10000 |  1541 |  1610 |  1604 |   1485 | 0 |\n",
       "|  9359 | 200000 | 2 | 1 | 1 | 29 |  0 |  0 |  0 |  0 | ⋯ | 126854 | 139660 | 145455 | 10000 |  95000 |  4552 | 15002 |  8000 |      0 | 0 |\n",
       "| 27168 |  60000 | 1 | 2 | 2 | 27 |  1 |  2 |  0 |  0 | ⋯ |  49877 |  50734 |  49764 |     0 |   5000 |  4000 |  1800 |     0 |   2000 | 1 |\n",
       "| 24173 | 160000 | 2 | 2 | 1 | 42 |  0 |  0 |  0 |  0 | ⋯ |  41318 |  42605 |  43857 |  3000 |   3000 |  2000 |  2000 |  2000 |   2000 | 0 |\n",
       "| ⋮ | ⋮ | ⋮ | ⋮ | ⋮ | ⋮ | ⋮ | ⋮ | ⋮ | ⋮ | ⋱ | ⋮ | ⋮ | ⋮ | ⋮ | ⋮ | ⋮ | ⋮ | ⋮ | ⋮ | ⋮ |\n",
       "|  1340 | 180000 | 1 |  1 | 2 | 26 | -1 | -1 | -1 | -1 | ⋯ |    770 |   4159 |   4159 |  9500 |  10122 |   770 |  4159 |     0 |  5243 | 0 |\n",
       "|  5551 | 180000 | 1 |  3 | 1 | 37 | -2 | -2 | -2 | -2 | ⋯ |   5760 |      0 |    925 |  3595 |   3842 |  5760 |     0 |   925 |  2755 | 0 |\n",
       "| 29835 | 120000 | 1 |  1 | 2 | 28 | -1 |  0 |  0 |  0 | ⋯ |  53576 |  57529 |  61392 | 35000 |   5000 |  8000 |  5000 |  5000 |  4000 | 1 |\n",
       "| 25741 | 270000 | 2 |  1 | 1 | 45 | -2 | -2 | -2 | -2 | ⋯ |      0 |      0 |      0 |     0 |      0 |     0 |     0 |     0 |     0 | 1 |\n",
       "| 17884 |  60000 | 2 |  2 | 2 | 27 |  0 |  0 |  0 |  2 | ⋯ |  33528 |  32690 |  34661 |  2500 |   3700 |  1200 |     0 |  2500 |  2500 | 0 |\n",
       "| 13675 |  50000 | 1 |  3 | 2 | 40 |  0 |  0 |  0 |  0 | ⋯ |  59595 |  55949 |  51225 |  2000 |   2356 |  3494 |  2000 |     0 |  1725 | 0 |\n",
       "| 12348 | 350000 | 2 |  1 | 1 | 33 | -2 | -2 | -2 | -2 | ⋯ |   9571 |   6370 |   9674 |  4348 |   5596 |  9632 |  6402 |  9722 | 24086 | 0 |\n",
       "|  9755 |  50000 | 2 |  2 | 2 | 48 | -1 | -1 |  0 |  0 | ⋯ |   7838 |   7998 |   8161 |  8061 |   1398 |  1000 |   160 |   163 |  9217 | 0 |\n",
       "| 16286 | 230000 | 2 |  1 | 2 | 29 | -2 | -1 |  2 | -1 | ⋯ |   4571 |   2526 |   5375 | 11142 |   1430 |  4571 |  2526 |  5375 |  3133 | 0 |\n",
       "|  8311 | 200000 | 2 |  2 | 1 | 37 |  0 |  0 |  0 |  0 | ⋯ |   2732 |   1380 |   1380 |  1068 |   1046 |  1006 |    34 |  1386 |  1386 | 0 |\n",
       "| 29255 |  20000 | 2 |  2 | 2 | 22 | -1 |  3 |  2 |  2 | ⋯ |  17846 |  18310 |  18923 |     0 |    600 |  1000 |  1000 |  1000 |   700 | 1 |\n",
       "| 10951 |  60000 | 2 |  1 | 2 | 32 |  0 |  0 |  0 |  0 | ⋯ |  28660 |  31398 |   9966 |  2000 |   2300 |  1700 | 10000 |  1200 | 20000 | 0 |\n",
       "|  5762 | 200000 | 2 |  1 | 2 | 29 | -2 | -2 | -2 | -2 | ⋯ |   -792 |   -792 |  69708 |     0 |    792 |     0 |     0 | 70500 |  1688 | 1 |\n",
       "| 18182 | 180000 | 2 |  1 | 1 | 33 | -1 |  0 |  0 |  0 | ⋯ |   2301 |   2364 |   2286 |  1503 |   1400 |   250 |   228 |   106 |  1601 | 1 |\n",
       "|  5605 |  70000 | 2 |  3 | 1 | 53 |  2 |  2 |  2 |  2 | ⋯ |  56814 |  58053 |  59246 |  2600 |      0 |  4400 |  2300 |  2300 |  2100 | 1 |\n",
       "|  3631 |  50000 | 1 |  1 | 2 | 25 |  0 |  0 |  2 |  2 | ⋯ |  49065 |  48057 |  48942 |  2000 |   3134 |  1640 |     0 |  1968 |  1504 | 0 |\n",
       "|  3024 |  50000 | 2 | NA | 2 | 22 |  0 |  0 |  0 |  0 | ⋯ |  21056 |  20425 |  20632 |  2610 |   2609 |   715 |   930 |  2000 |   770 | 0 |\n",
       "| 13982 | 180000 | 2 |  1 | 1 | 44 | -1 | -1 | -1 | -1 | ⋯ |      0 |  21398 |    298 |  1071 |   6557 |     0 | 21398 |   298 |     0 | 0 |\n",
       "| 13419 | 500000 | 1 |  2 | 1 | 48 | -2 | -2 | -2 | -2 | ⋯ |   1535 |     NA |    800 |  5441 |      0 |  1535 |  1100 |   800 |  1297 | 0 |\n",
       "|  6710 | 200000 | 1 |  1 | 2 | 32 | -1 | -1 | -1 | -1 | ⋯ |  26975 |   8734 |     NA |  9139 |   5481 | 27110 | 29889 | 10809 |  2648 | 0 |\n",
       "| 15031 | 160000 | 2 |  1 | 1 | 33 | -1 |  2 |  2 | -2 | ⋯ |    600 |  65000 |   2206 |     0 |   3161 |     0 | 65000 |  2206 |   339 | 1 |\n",
       "|  7449 | 240000 | 1 |  1 | 2 | 35 |  1 | -2 | -2 | -2 | ⋯ |      0 |      0 |      0 |     0 |      0 |     0 |     0 |     0 |     0 | 0 |\n",
       "| 13622 | 160000 | 1 |  2 | 2 | 27 | -1 | -1 | -1 | -1 | ⋯ |      0 |    780 |    390 |   390 |    390 |     0 |  1170 |     0 |   540 | 0 |\n",
       "| 28764 | 160000 | 2 |  3 | 2 | 33 | -1 |  2 |  2 |  2 | ⋯ |  43228 |   -772 |   -772 |     0 |  43500 |     0 |     0 |     0 |  3000 | 0 |\n",
       "|  1650 |  30000 | 1 |  2 | 1 | 33 |  0 |  0 |  0 |  0 | ⋯ |  26404 |  25806 |  26325 |  1500 |   1433 |  1500 |   920 |   929 |     0 | 1 |\n",
       "|  5994 | 500000 | 1 |  2 | 2 | 36 |  1 | -2 | -1 |  0 | ⋯ | 116089 | 114293 | 118081 |  9125 | 126768 |    NA |  4050 | 15099 |  5015 | 0 |\n",
       "| 25043 |  30000 | 1 |  3 | 2 | 31 |  0 |  0 |  0 |  0 | ⋯ |  28075 |  29682 |  28001 |  2000 |   2000 |  2000 |  2014 |  2000 |  2000 | 0 |\n",
       "| 14281 |  20000 | 1 |  2 | 2 | 30 |  1 |  2 |  4 |  3 | ⋯ |  19860 |  19690 |   1735 |  2000 |      0 |     0 |     0 |   500 |     0 | 1 |\n",
       "| 28693 | 240000 | 1 |  2 | 2 | 67 |  0 |  0 |  0 |  0 | ⋯ | 468202 | 442401 | 419209 | 20225 |  17389 | 80167 | 15167 | 16000 | 13133 | 0 |\n",
       "|  8686 | 130000 | 2 |  2 | 1 | 37 |  0 |  0 |  0 |  0 | ⋯ |  84353 | 169121 |  87863 |  6013 |   5312 |  3100 |  3123 |  6293 |  3273 | 0 |\n",
       "\n"
      ],
      "text/plain": [
       "      cust_id LIMIT_BAL SEX EDUCATION MARRIAGE AGE PAY_0 PAY_2 PAY_3 PAY_4\n",
       "1     18895    70000    1   3         2        34   0     0     0     0   \n",
       "2     25102   390000    2   2         2        26   2     2     2     0   \n",
       "3     28867    60000    1   1         2        27   0     0     0     0   \n",
       "4      1842   140000    2   2         1        55   0     0     0     0   \n",
       "5      3371    50000    1   1         2        29   2     2     2     0   \n",
       "6     29925    20000    1   2         2        37   0     0     0     0   \n",
       "7     29940    50000    1   3         2        44   0     0     0     2   \n",
       "8     11638   250000    1   2         2        30   0     0     0    -1   \n",
       "9      4761   320000    2   2         2        36  -2    -2    -2    -2   \n",
       "10     6746   300000    1   1         1        35   0     0     0     0   \n",
       "11    26203   500000    1   1         1        41  -1    -1    -1    -2   \n",
       "12    16128    90000    2   2         2        32  -2    -2    -2    -2   \n",
       "13     2757    80000    2   2         2        29   0     0     0     2   \n",
       "14    21491    30000    2   2         2        24   0     0     0     2   \n",
       "15    29787   100000    2   3         1        41   1     2     0     0   \n",
       "16    25529   300000    2   1         2        42  -1    -1    -1     0   \n",
       "17    12636   240000    1   2         2        27   0     0     0     0   \n",
       "18     9209   330000    1   2         1        47  -2    -2    -1     0   \n",
       "19     2888    20000    1   1         2        38   0     0     0     0   \n",
       "20     6170    20000    1   3         1        52   1     2     0     0   \n",
       "21    18951   220000    2   1         1        41   0     0     0     0   \n",
       "22    26366    30000    2   2         1        29   2     2     2     0   \n",
       "23    12499    30000    1   2         1        36   1     3     2     5   \n",
       "24    19364    80000    2   2         2        27  -1     0     0     0   \n",
       "25     1614   200000    2   1         1        42  -2    -2    -2    -2   \n",
       "26    20853   170000    2   3         2        26   2     2     2     0   \n",
       "27    15180    80000    2   3         1        48   0     0     0     0   \n",
       "28     9359   200000    2   1         1        29   0     0     0     0   \n",
       "29    27168    60000    1   2         2        27   1     2     0     0   \n",
       "30    24173   160000    2   2         1        42   0     0     0     0   \n",
       "<U+22EE>     <U+22EE> <U+22EE>  <U+22EE> <U+22EE>  <U+22EE> <U+22EE> <U+22EE> <U+22EE> <U+22EE> <U+22EE>\n",
       "19971  1340   180000    1    1        2        26  -1    -1    -1    -1   \n",
       "19972  5551   180000    1    3        1        37  -2    -2    -2    -2   \n",
       "19973 29835   120000    1    1        2        28  -1     0     0     0   \n",
       "19974 25741   270000    2    1        1        45  -2    -2    -2    -2   \n",
       "19975 17884    60000    2    2        2        27   0     0     0     2   \n",
       "19976 13675    50000    1    3        2        40   0     0     0     0   \n",
       "19977 12348   350000    2    1        1        33  -2    -2    -2    -2   \n",
       "19978  9755    50000    2    2        2        48  -1    -1     0     0   \n",
       "19979 16286   230000    2    1        2        29  -2    -1     2    -1   \n",
       "19980  8311   200000    2    2        1        37   0     0     0     0   \n",
       "19981 29255    20000    2    2        2        22  -1     3     2     2   \n",
       "19982 10951    60000    2    1        2        32   0     0     0     0   \n",
       "19983  5762   200000    2    1        2        29  -2    -2    -2    -2   \n",
       "19984 18182   180000    2    1        1        33  -1     0     0     0   \n",
       "19985  5605    70000    2    3        1        53   2     2     2     2   \n",
       "19986  3631    50000    1    1        2        25   0     0     2     2   \n",
       "19987  3024    50000    2   NA        2        22   0     0     0     0   \n",
       "19988 13982   180000    2    1        1        44  -1    -1    -1    -1   \n",
       "19989 13419   500000    1    2        1        48  -2    -2    -2    -2   \n",
       "19990  6710   200000    1    1        2        32  -1    -1    -1    -1   \n",
       "19991 15031   160000    2    1        1        33  -1     2     2    -2   \n",
       "19992  7449   240000    1    1        2        35   1    -2    -2    -2   \n",
       "19993 13622   160000    1    2        2        27  -1    -1    -1    -1   \n",
       "19994 28764   160000    2    3        2        33  -1     2     2     2   \n",
       "19995  1650    30000    1    2        1        33   0     0     0     0   \n",
       "19996  5994   500000    1    2        2        36   1    -2    -1     0   \n",
       "19997 25043    30000    1    3        2        31   0     0     0     0   \n",
       "19998 14281    20000    1    2        2        30   1     2     4     3   \n",
       "19999 28693   240000    1    2        2        67   0     0     0     0   \n",
       "20000  8686   130000    2    2        1        37   0     0     0     0   \n",
       "      <U+22EF>        BILL_AMT4 BILL_AMT5 BILL_AMT6 PAY_AMT1 PAY_AMT2 PAY_AMT3\n",
       "1     <U+22EF>  25559     26134     26715     1700      1500    2000   \n",
       "2     <U+22EF> 140387    128112    115514     5000      3000    5000   \n",
       "3     <U+22EF>  26038     28607     27997     1378      1406    3000   \n",
       "4     <U+22EF>  72391     61298     62193     4200      2822    2336   \n",
       "5     <U+22EF>   1047         0         0     3000         0    1000   \n",
       "6     <U+22EF>  19105     19609     19283     1700      1600    1200   \n",
       "7     <U+22EF>  49952     19584     19080     1762      4800       0   \n",
       "8     <U+22EF>   9693       799      4295     2000      2305    4720   \n",
       "9     <U+22EF>  15813         0         0     5000      4905   15873   \n",
       "10    <U+22EF>  29368     18833     93329     3260      2240    1505   \n",
       "11    <U+22EF>    -50     10037        79     1558         0       0   \n",
       "12    <U+22EF>      0         0         0      157         0       0   \n",
       "13    <U+22EF>  64714     62420     62990     2753      3438    4400   \n",
       "14    <U+22EF>  28914     29357     29955     2000      3600       0   \n",
       "15    <U+22EF>  78333     78130     77761        0      3475    3263   \n",
       "16    <U+22EF>    367       -23      -413      668      9800       0   \n",
       "17    <U+22EF>  84832     87123     85363    15000      4000    4000   \n",
       "18    <U+22EF> 215506    138371     21757    25487    166744   60057   \n",
       "19    <U+22EF>  20086     19632     20160     1700      1400    1684   \n",
       "20    <U+22EF>  19845         0         0        0      1200     397   \n",
       "21    <U+22EF>  74457     68604     53333     5068      5000    2000   \n",
       "22    <U+22EF>  18416     20099     21631     3175         0    1317   \n",
       "23    <U+22EF>  21988     21057     25412        0      5000       0   \n",
       "24    <U+22EF>  40969     41275     41637     2000      2000    1600   \n",
       "25    <U+22EF>      0         0         0        0         0       0   \n",
       "26    <U+22EF>  90196     50464     48282     2550         0    3500   \n",
       "27    <U+22EF>  48532     44469     45068     1785     10000    1541   \n",
       "28    <U+22EF> 126854    139660    145455    10000     95000    4552   \n",
       "29    <U+22EF>  49877     50734     49764        0      5000    4000   \n",
       "30    <U+22EF>  41318     42605     43857     3000      3000    2000   \n",
       "<U+22EE>     <U+22F1> <U+22EE>  <U+22EE>  <U+22EE>  <U+22EE> <U+22EE> <U+22EE>\n",
       "19971 <U+22EF>    770      4159      4159     9500     10122     770   \n",
       "19972 <U+22EF>   5760         0       925     3595      3842    5760   \n",
       "19973 <U+22EF>  53576     57529     61392    35000      5000    8000   \n",
       "19974 <U+22EF>      0         0         0        0         0       0   \n",
       "19975 <U+22EF>  33528     32690     34661     2500      3700    1200   \n",
       "19976 <U+22EF>  59595     55949     51225     2000      2356    3494   \n",
       "19977 <U+22EF>   9571      6370      9674     4348      5596    9632   \n",
       "19978 <U+22EF>   7838      7998      8161     8061      1398    1000   \n",
       "19979 <U+22EF>   4571      2526      5375    11142      1430    4571   \n",
       "19980 <U+22EF>   2732      1380      1380     1068      1046    1006   \n",
       "19981 <U+22EF>  17846     18310     18923        0       600    1000   \n",
       "19982 <U+22EF>  28660     31398      9966     2000      2300    1700   \n",
       "19983 <U+22EF>   -792      -792     69708        0       792       0   \n",
       "19984 <U+22EF>   2301      2364      2286     1503      1400     250   \n",
       "19985 <U+22EF>  56814     58053     59246     2600         0    4400   \n",
       "19986 <U+22EF>  49065     48057     48942     2000      3134    1640   \n",
       "19987 <U+22EF>  21056     20425     20632     2610      2609     715   \n",
       "19988 <U+22EF>      0     21398       298     1071      6557       0   \n",
       "19989 <U+22EF>   1535        NA       800     5441         0    1535   \n",
       "19990 <U+22EF>  26975      8734        NA     9139      5481   27110   \n",
       "19991 <U+22EF>    600     65000      2206        0      3161       0   \n",
       "19992 <U+22EF>      0         0         0        0         0       0   \n",
       "19993 <U+22EF>      0       780       390      390       390       0   \n",
       "19994 <U+22EF>  43228      -772      -772        0     43500       0   \n",
       "19995 <U+22EF>  26404     25806     26325     1500      1433    1500   \n",
       "19996 <U+22EF> 116089    114293    118081     9125    126768      NA   \n",
       "19997 <U+22EF>  28075     29682     28001     2000      2000    2000   \n",
       "19998 <U+22EF>  19860     19690      1735     2000         0       0   \n",
       "19999 <U+22EF> 468202    442401    419209    20225     17389   80167   \n",
       "20000 <U+22EF>  84353    169121     87863     6013      5312    3100   \n",
       "      PAY_AMT4 PAY_AMT5 PAY_AMT6 default.payment.next.month\n",
       "1      1000     1000      2000   0                         \n",
       "2      4548     4100      3300   0                         \n",
       "3      3000        0       923   1                         \n",
       "4      2588     2250      2491   0                         \n",
       "5         0        0         0   1                         \n",
       "6      1000      900      1000   0                         \n",
       "7       837      700      1000   0                         \n",
       "8         0     4305         0   0                         \n",
       "9         0        0     21657   1                         \n",
       "10     1250    80934      2700   0                         \n",
       "11    10087       79       471   0                         \n",
       "12        0        0         0   0                         \n",
       "13        0     2400      9974   1                         \n",
       "14     1200     1200      1300   0                         \n",
       "15     2805     2888      2680   0                         \n",
       "16        0        0         0   0                         \n",
       "17     4000     3000      3000   0                         \n",
       "18      560    17921    201134   0                         \n",
       "19        0     1000       850   0                         \n",
       "20        0        0         0   1                         \n",
       "21     3000     3000      1000   0                         \n",
       "22     2000     2000         0   1                         \n",
       "23        0     5000         0   0                         \n",
       "24     1500     1550      1600   1                         \n",
       "25        0        0       665   1                         \n",
       "26     3000     2001      3000   0                         \n",
       "27     1610     1604      1485   0                         \n",
       "28    15002     8000         0   0                         \n",
       "29     1800        0      2000   1                         \n",
       "30     2000     2000      2000   0                         \n",
       "<U+22EE>     <U+22EE> <U+22EE> <U+22EE> <U+22EE>                  \n",
       "19971  4159        0     5243    0                         \n",
       "19972     0      925     2755    0                         \n",
       "19973  5000     5000     4000    1                         \n",
       "19974     0        0        0    1                         \n",
       "19975     0     2500     2500    0                         \n",
       "19976  2000        0     1725    0                         \n",
       "19977  6402     9722    24086    0                         \n",
       "19978   160      163     9217    0                         \n",
       "19979  2526     5375     3133    0                         \n",
       "19980    34     1386     1386    0                         \n",
       "19981  1000     1000      700    1                         \n",
       "19982 10000     1200    20000    0                         \n",
       "19983     0    70500     1688    1                         \n",
       "19984   228      106     1601    1                         \n",
       "19985  2300     2300     2100    1                         \n",
       "19986     0     1968     1504    0                         \n",
       "19987   930     2000      770    0                         \n",
       "19988 21398      298        0    0                         \n",
       "19989  1100      800     1297    0                         \n",
       "19990 29889    10809     2648    0                         \n",
       "19991 65000     2206      339    1                         \n",
       "19992     0        0        0    0                         \n",
       "19993  1170        0      540    0                         \n",
       "19994     0        0     3000    0                         \n",
       "19995   920      929        0    1                         \n",
       "19996  4050    15099     5015    0                         \n",
       "19997  2014     2000     2000    0                         \n",
       "19998     0      500        0    1                         \n",
       "19999 15167    16000    13133    0                         \n",
       "20000  3123     6293     3273    0                         "
      ]
     },
     "metadata": {},
     "output_type": "display_data"
    }
   ],
   "source": [
    "credit_default <- read.csv(\"C:/Users/jharling/OneDrive - IESEG/Desktop/MSc/Statistical And Machine Learning/Individual Project/credit_default_train.csv\")\n",
    "credit_default"
   ]
  },
  {
   "cell_type": "markdown",
   "id": "193e1a4c",
   "metadata": {},
   "source": [
    "### 3. Dealing with missing values"
   ]
  },
  {
   "cell_type": "code",
   "execution_count": 4,
   "id": "fe2d7989",
   "metadata": {},
   "outputs": [
    {
     "data": {
      "text/html": [
       "4448"
      ],
      "text/latex": [
       "4448"
      ],
      "text/markdown": [
       "4448"
      ],
      "text/plain": [
       "[1] 4448"
      ]
     },
     "metadata": {},
     "output_type": "display_data"
    }
   ],
   "source": [
    "# Sum of missing values in credit_default data set\n",
    "sum(is.na(credit_default))"
   ]
  },
  {
   "cell_type": "code",
   "execution_count": 5,
   "id": "2fd75180",
   "metadata": {},
   "outputs": [
    {
     "data": {
      "text/html": [
       "<style>\n",
       ".dl-inline {width: auto; margin:0; padding: 0}\n",
       ".dl-inline>dt, .dl-inline>dd {float: none; width: auto; display: inline-block}\n",
       ".dl-inline>dt::after {content: \":\\0020\"; padding-right: .5ex}\n",
       ".dl-inline>dt:not(:first-of-type) {padding-left: .5ex}\n",
       "</style><dl class=dl-inline><dt>cust_id</dt><dd>0</dd><dt>LIMIT_BAL</dt><dd>202</dd><dt>SEX</dt><dd>161</dd><dt>EDUCATION</dt><dd>199</dd><dt>MARRIAGE</dt><dd>170</dd><dt>AGE</dt><dd>214</dd><dt>PAY_0</dt><dd>195</dd><dt>PAY_2</dt><dd>219</dd><dt>PAY_3</dt><dd>217</dd><dt>PAY_4</dt><dd>199</dd><dt>PAY_5</dt><dd>185</dd><dt>PAY_6</dt><dd>203</dd><dt>BILL_AMT1</dt><dd>185</dd><dt>BILL_AMT2</dt><dd>209</dd><dt>BILL_AMT3</dt><dd>175</dd><dt>BILL_AMT4</dt><dd>165</dd><dt>BILL_AMT5</dt><dd>181</dd><dt>BILL_AMT6</dt><dd>197</dd><dt>PAY_AMT1</dt><dd>204</dd><dt>PAY_AMT2</dt><dd>184</dd><dt>PAY_AMT3</dt><dd>212</dd><dt>PAY_AMT4</dt><dd>197</dd><dt>PAY_AMT5</dt><dd>179</dd><dt>PAY_AMT6</dt><dd>196</dd><dt>default.payment.next.month</dt><dd>0</dd></dl>\n"
      ],
      "text/latex": [
       "\\begin{description*}\n",
       "\\item[cust\\textbackslash{}\\_id] 0\n",
       "\\item[LIMIT\\textbackslash{}\\_BAL] 202\n",
       "\\item[SEX] 161\n",
       "\\item[EDUCATION] 199\n",
       "\\item[MARRIAGE] 170\n",
       "\\item[AGE] 214\n",
       "\\item[PAY\\textbackslash{}\\_0] 195\n",
       "\\item[PAY\\textbackslash{}\\_2] 219\n",
       "\\item[PAY\\textbackslash{}\\_3] 217\n",
       "\\item[PAY\\textbackslash{}\\_4] 199\n",
       "\\item[PAY\\textbackslash{}\\_5] 185\n",
       "\\item[PAY\\textbackslash{}\\_6] 203\n",
       "\\item[BILL\\textbackslash{}\\_AMT1] 185\n",
       "\\item[BILL\\textbackslash{}\\_AMT2] 209\n",
       "\\item[BILL\\textbackslash{}\\_AMT3] 175\n",
       "\\item[BILL\\textbackslash{}\\_AMT4] 165\n",
       "\\item[BILL\\textbackslash{}\\_AMT5] 181\n",
       "\\item[BILL\\textbackslash{}\\_AMT6] 197\n",
       "\\item[PAY\\textbackslash{}\\_AMT1] 204\n",
       "\\item[PAY\\textbackslash{}\\_AMT2] 184\n",
       "\\item[PAY\\textbackslash{}\\_AMT3] 212\n",
       "\\item[PAY\\textbackslash{}\\_AMT4] 197\n",
       "\\item[PAY\\textbackslash{}\\_AMT5] 179\n",
       "\\item[PAY\\textbackslash{}\\_AMT6] 196\n",
       "\\item[default.payment.next.month] 0\n",
       "\\end{description*}\n"
      ],
      "text/markdown": [
       "cust_id\n",
       ":   0LIMIT_BAL\n",
       ":   202SEX\n",
       ":   161EDUCATION\n",
       ":   199MARRIAGE\n",
       ":   170AGE\n",
       ":   214PAY_0\n",
       ":   195PAY_2\n",
       ":   219PAY_3\n",
       ":   217PAY_4\n",
       ":   199PAY_5\n",
       ":   185PAY_6\n",
       ":   203BILL_AMT1\n",
       ":   185BILL_AMT2\n",
       ":   209BILL_AMT3\n",
       ":   175BILL_AMT4\n",
       ":   165BILL_AMT5\n",
       ":   181BILL_AMT6\n",
       ":   197PAY_AMT1\n",
       ":   204PAY_AMT2\n",
       ":   184PAY_AMT3\n",
       ":   212PAY_AMT4\n",
       ":   197PAY_AMT5\n",
       ":   179PAY_AMT6\n",
       ":   196default.payment.next.month\n",
       ":   0\n",
       "\n"
      ],
      "text/plain": [
       "                   cust_id                  LIMIT_BAL \n",
       "                         0                        202 \n",
       "                       SEX                  EDUCATION \n",
       "                       161                        199 \n",
       "                  MARRIAGE                        AGE \n",
       "                       170                        214 \n",
       "                     PAY_0                      PAY_2 \n",
       "                       195                        219 \n",
       "                     PAY_3                      PAY_4 \n",
       "                       217                        199 \n",
       "                     PAY_5                      PAY_6 \n",
       "                       185                        203 \n",
       "                 BILL_AMT1                  BILL_AMT2 \n",
       "                       185                        209 \n",
       "                 BILL_AMT3                  BILL_AMT4 \n",
       "                       175                        165 \n",
       "                 BILL_AMT5                  BILL_AMT6 \n",
       "                       181                        197 \n",
       "                  PAY_AMT1                   PAY_AMT2 \n",
       "                       204                        184 \n",
       "                  PAY_AMT3                   PAY_AMT4 \n",
       "                       212                        197 \n",
       "                  PAY_AMT5                   PAY_AMT6 \n",
       "                       179                        196 \n",
       "default.payment.next.month \n",
       "                         0 "
      ]
     },
     "metadata": {},
     "output_type": "display_data"
    }
   ],
   "source": [
    "# Where are the missing values\n",
    "missing_values <- sapply(credit_default, function(x) sum(is.na(x)))\n",
    "missing_values"
   ]
  },
  {
   "cell_type": "markdown",
   "id": "3d838888",
   "metadata": {},
   "source": [
    "First, let's separate encoding variables from non encoding ones.\n",
    "\n",
    "\n",
    "• For encoded values we will replace the missing values with the mode. (The most replicated value)\n",
    "These variables are sex, education and marriage. \n",
    "\n",
    "• Not encoded variables will be replaced by the mean or the median, depending if the variables are categorical or not.  \n",
    "1. Categorical : LIMIT_BALL, PAY variables\n",
    "2. None categorical variables are BILL_AMT, PAY_AMT and AGE"
   ]
  },
  {
   "cell_type": "markdown",
   "id": "80149b59",
   "metadata": {},
   "source": [
    "##### Encoded variables"
   ]
  },
  {
   "cell_type": "code",
   "execution_count": 6,
   "id": "e38aa49c",
   "metadata": {},
   "outputs": [],
   "source": [
    "# First, creating a calc to get the mode (see sources)\n",
    "\n",
    "calc_mode <- function(x){\n",
    "  \n",
    "  # List the distinct / unique values\n",
    "  distinct_values <- unique(x)\n",
    "  \n",
    "  # Count the occurrence of each distinct value\n",
    "  distinct_tabulate <- tabulate(match(x, distinct_values))\n",
    "  \n",
    "  # Return the value with the highest occurrence\n",
    "  distinct_values[which.max(distinct_tabulate)]\n",
    "}"
   ]
  },
  {
   "cell_type": "code",
   "execution_count": 7,
   "id": "8b8d2ef0",
   "metadata": {},
   "outputs": [],
   "source": [
    "# Encoded variables: sex, education and marriage\n",
    "\n",
    "# Sex\n",
    "credit_default = credit_default %>% \n",
    "  mutate(SEX = if_else(is.na(SEX), \n",
    "                         calc_mode(SEX), \n",
    "                         SEX))\n",
    "\n",
    "# Education\n",
    "credit_default = credit_default %>% \n",
    "  mutate(EDUCATION = if_else(is.na(EDUCATION), \n",
    "                         calc_mode(EDUCATION), \n",
    "                         EDUCATION))\n",
    "\n",
    "# Marriage\n",
    "credit_default = credit_default %>% \n",
    "  mutate(MARRIAGE = if_else(is.na(MARRIAGE), \n",
    "                         calc_mode(MARRIAGE), \n",
    "                         MARRIAGE))"
   ]
  },
  {
   "cell_type": "markdown",
   "id": "e0b5e300",
   "metadata": {},
   "source": [
    "##### Categorical variables"
   ]
  },
  {
   "cell_type": "code",
   "execution_count": 8,
   "id": "575a1695",
   "metadata": {},
   "outputs": [],
   "source": [
    "# Now replacing categorical data with the median for PAY variables\n",
    "\n",
    "credit_default$PAY_0[is.na(credit_default$PAY_0)]<-median(credit_default$PAY_0,na.rm=TRUE)\n",
    "credit_default$PAY_2[is.na(credit_default$PAY_2)]<-median(credit_default$PAY_2,na.rm=TRUE)\n",
    "credit_default$PAY_3[is.na(credit_default$PAY_3)]<-median(credit_default$PAY_3,na.rm=TRUE)\n",
    "credit_default$PAY_4[is.na(credit_default$PAY_4)]<-median(credit_default$PAY_4,na.rm=TRUE)\n",
    "credit_default$PAY_5[is.na(credit_default$PAY_5)]<-median(credit_default$PAY_5,na.rm=TRUE)\n",
    "credit_default$PAY_6[is.na(credit_default$PAY_6)]<-median(credit_default$PAY_6,na.rm=TRUE)\n",
    "\n",
    "# Replacing LIMIT_BAL with median \n",
    "\n",
    "credit_default$LIMIT_BAL[is.na(credit_default$LIMIT_BAL)]<-median(credit_default$LIMIT_BAL,na.rm=TRUE)"
   ]
  },
  {
   "cell_type": "markdown",
   "id": "ec57afbb",
   "metadata": {},
   "source": [
    "##### Ratio variables"
   ]
  },
  {
   "cell_type": "code",
   "execution_count": 9,
   "id": "a673116a",
   "metadata": {},
   "outputs": [],
   "source": [
    "# Replacing Age, Bill AMT and Pay AMT by the mean \n",
    "\n",
    "# Age: mean rounded\n",
    "credit_default$AGE[is.na(credit_default$AGE)]<-mean(credit_default$AGE,na.rm=TRUE)\n",
    "credit_default$AGE <- round(credit_default$AGE)\n",
    "\n",
    "# Bill_AMT\n",
    "credit_default$BILL_AMT1[is.na(credit_default$BILL_AMT1)]<-mean(credit_default$BILL_AMT1,na.rm=TRUE)\n",
    "credit_default$BILL_AMT2[is.na(credit_default$BILL_AMT2)]<-mean(credit_default$BILL_AMT2,na.rm=TRUE)\n",
    "credit_default$BILL_AMT3[is.na(credit_default$BILL_AMT3)]<-mean(credit_default$BILL_AMT3,na.rm=TRUE)\n",
    "credit_default$BILL_AMT4[is.na(credit_default$BILL_AMT4)]<-mean(credit_default$BILL_AMT4,na.rm=TRUE)\n",
    "credit_default$BILL_AMT5[is.na(credit_default$BILL_AMT5)]<-mean(credit_default$BILL_AMT5,na.rm=TRUE)\n",
    "credit_default$BILL_AMT6[is.na(credit_default$BILL_AMT6)]<-mean(credit_default$BILL_AMT6,na.rm=TRUE)\n",
    "\n",
    "# PAY AMT\n",
    "credit_default$PAY_AMT1[is.na(credit_default$PAY_AMT1)]<-mean(credit_default$PAY_AMT1,na.rm=TRUE)\n",
    "credit_default$PAY_AMT2[is.na(credit_default$PAY_AMT2)]<-mean(credit_default$PAY_AMT2,na.rm=TRUE)\n",
    "credit_default$PAY_AMT3[is.na(credit_default$PAY_AMT3)]<-mean(credit_default$PAY_AMT3,na.rm=TRUE)\n",
    "credit_default$PAY_AMT4[is.na(credit_default$PAY_AMT4)]<-mean(credit_default$PAY_AMT4,na.rm=TRUE)\n",
    "credit_default$PAY_AMT5[is.na(credit_default$PAY_AMT5)]<-mean(credit_default$PAY_AMT5,na.rm=TRUE)\n",
    "credit_default$PAY_AMT6[is.na(credit_default$PAY_AMT6)]<-mean(credit_default$PAY_AMT6,na.rm=TRUE)"
   ]
  },
  {
   "cell_type": "code",
   "execution_count": 10,
   "id": "57fd533f",
   "metadata": {},
   "outputs": [
    {
     "data": {
      "text/html": [
       "<style>\n",
       ".dl-inline {width: auto; margin:0; padding: 0}\n",
       ".dl-inline>dt, .dl-inline>dd {float: none; width: auto; display: inline-block}\n",
       ".dl-inline>dt::after {content: \":\\0020\"; padding-right: .5ex}\n",
       ".dl-inline>dt:not(:first-of-type) {padding-left: .5ex}\n",
       "</style><dl class=dl-inline><dt>cust_id</dt><dd>0</dd><dt>LIMIT_BAL</dt><dd>0</dd><dt>SEX</dt><dd>0</dd><dt>EDUCATION</dt><dd>0</dd><dt>MARRIAGE</dt><dd>0</dd><dt>AGE</dt><dd>0</dd><dt>PAY_0</dt><dd>0</dd><dt>PAY_2</dt><dd>0</dd><dt>PAY_3</dt><dd>0</dd><dt>PAY_4</dt><dd>0</dd><dt>PAY_5</dt><dd>0</dd><dt>PAY_6</dt><dd>0</dd><dt>BILL_AMT1</dt><dd>0</dd><dt>BILL_AMT2</dt><dd>0</dd><dt>BILL_AMT3</dt><dd>0</dd><dt>BILL_AMT4</dt><dd>0</dd><dt>BILL_AMT5</dt><dd>0</dd><dt>BILL_AMT6</dt><dd>0</dd><dt>PAY_AMT1</dt><dd>0</dd><dt>PAY_AMT2</dt><dd>0</dd><dt>PAY_AMT3</dt><dd>0</dd><dt>PAY_AMT4</dt><dd>0</dd><dt>PAY_AMT5</dt><dd>0</dd><dt>PAY_AMT6</dt><dd>0</dd><dt>default.payment.next.month</dt><dd>0</dd></dl>\n"
      ],
      "text/latex": [
       "\\begin{description*}\n",
       "\\item[cust\\textbackslash{}\\_id] 0\n",
       "\\item[LIMIT\\textbackslash{}\\_BAL] 0\n",
       "\\item[SEX] 0\n",
       "\\item[EDUCATION] 0\n",
       "\\item[MARRIAGE] 0\n",
       "\\item[AGE] 0\n",
       "\\item[PAY\\textbackslash{}\\_0] 0\n",
       "\\item[PAY\\textbackslash{}\\_2] 0\n",
       "\\item[PAY\\textbackslash{}\\_3] 0\n",
       "\\item[PAY\\textbackslash{}\\_4] 0\n",
       "\\item[PAY\\textbackslash{}\\_5] 0\n",
       "\\item[PAY\\textbackslash{}\\_6] 0\n",
       "\\item[BILL\\textbackslash{}\\_AMT1] 0\n",
       "\\item[BILL\\textbackslash{}\\_AMT2] 0\n",
       "\\item[BILL\\textbackslash{}\\_AMT3] 0\n",
       "\\item[BILL\\textbackslash{}\\_AMT4] 0\n",
       "\\item[BILL\\textbackslash{}\\_AMT5] 0\n",
       "\\item[BILL\\textbackslash{}\\_AMT6] 0\n",
       "\\item[PAY\\textbackslash{}\\_AMT1] 0\n",
       "\\item[PAY\\textbackslash{}\\_AMT2] 0\n",
       "\\item[PAY\\textbackslash{}\\_AMT3] 0\n",
       "\\item[PAY\\textbackslash{}\\_AMT4] 0\n",
       "\\item[PAY\\textbackslash{}\\_AMT5] 0\n",
       "\\item[PAY\\textbackslash{}\\_AMT6] 0\n",
       "\\item[default.payment.next.month] 0\n",
       "\\end{description*}\n"
      ],
      "text/markdown": [
       "cust_id\n",
       ":   0LIMIT_BAL\n",
       ":   0SEX\n",
       ":   0EDUCATION\n",
       ":   0MARRIAGE\n",
       ":   0AGE\n",
       ":   0PAY_0\n",
       ":   0PAY_2\n",
       ":   0PAY_3\n",
       ":   0PAY_4\n",
       ":   0PAY_5\n",
       ":   0PAY_6\n",
       ":   0BILL_AMT1\n",
       ":   0BILL_AMT2\n",
       ":   0BILL_AMT3\n",
       ":   0BILL_AMT4\n",
       ":   0BILL_AMT5\n",
       ":   0BILL_AMT6\n",
       ":   0PAY_AMT1\n",
       ":   0PAY_AMT2\n",
       ":   0PAY_AMT3\n",
       ":   0PAY_AMT4\n",
       ":   0PAY_AMT5\n",
       ":   0PAY_AMT6\n",
       ":   0default.payment.next.month\n",
       ":   0\n",
       "\n"
      ],
      "text/plain": [
       "                   cust_id                  LIMIT_BAL \n",
       "                         0                          0 \n",
       "                       SEX                  EDUCATION \n",
       "                         0                          0 \n",
       "                  MARRIAGE                        AGE \n",
       "                         0                          0 \n",
       "                     PAY_0                      PAY_2 \n",
       "                         0                          0 \n",
       "                     PAY_3                      PAY_4 \n",
       "                         0                          0 \n",
       "                     PAY_5                      PAY_6 \n",
       "                         0                          0 \n",
       "                 BILL_AMT1                  BILL_AMT2 \n",
       "                         0                          0 \n",
       "                 BILL_AMT3                  BILL_AMT4 \n",
       "                         0                          0 \n",
       "                 BILL_AMT5                  BILL_AMT6 \n",
       "                         0                          0 \n",
       "                  PAY_AMT1                   PAY_AMT2 \n",
       "                         0                          0 \n",
       "                  PAY_AMT3                   PAY_AMT4 \n",
       "                         0                          0 \n",
       "                  PAY_AMT5                   PAY_AMT6 \n",
       "                         0                          0 \n",
       "default.payment.next.month \n",
       "                         0 "
      ]
     },
     "metadata": {},
     "output_type": "display_data"
    }
   ],
   "source": [
    "# Checking if we have any missing values left\n",
    "missing_values <- sapply(credit_default, function(x) sum(is.na(x)))\n",
    "missing_values"
   ]
  },
  {
   "cell_type": "code",
   "execution_count": 11,
   "id": "d0476d38",
   "metadata": {},
   "outputs": [
    {
     "data": {
      "text/html": [
       "0"
      ],
      "text/latex": [
       "0"
      ],
      "text/markdown": [
       "0"
      ],
      "text/plain": [
       "[1] 0"
      ]
     },
     "metadata": {},
     "output_type": "display_data"
    }
   ],
   "source": [
    "sum(is.na(credit_default))"
   ]
  },
  {
   "cell_type": "markdown",
   "id": "ce191bdb",
   "metadata": {},
   "source": [
    "### 4. Checking for unique values"
   ]
  },
  {
   "cell_type": "code",
   "execution_count": 12,
   "id": "1905973b",
   "metadata": {},
   "outputs": [
    {
     "data": {
      "text/html": [
       "<style>\n",
       ".list-inline {list-style: none; margin:0; padding: 0}\n",
       ".list-inline>li {display: inline-block}\n",
       ".list-inline>li:not(:last-child)::after {content: \"\\00b7\"; padding: 0 .5ex}\n",
       "</style>\n",
       "<ol class=list-inline><li>1</li><li>2</li></ol>\n"
      ],
      "text/latex": [
       "\\begin{enumerate*}\n",
       "\\item 1\n",
       "\\item 2\n",
       "\\end{enumerate*}\n"
      ],
      "text/markdown": [
       "1. 1\n",
       "2. 2\n",
       "\n",
       "\n"
      ],
      "text/plain": [
       "[1] 1 2"
      ]
     },
     "metadata": {},
     "output_type": "display_data"
    },
    {
     "data": {
      "text/html": [
       "<style>\n",
       ".list-inline {list-style: none; margin:0; padding: 0}\n",
       ".list-inline>li {display: inline-block}\n",
       ".list-inline>li:not(:last-child)::after {content: \"\\00b7\"; padding: 0 .5ex}\n",
       "</style>\n",
       "<ol class=list-inline><li>2</li><li>1</li><li>3</li><li>0</li></ol>\n"
      ],
      "text/latex": [
       "\\begin{enumerate*}\n",
       "\\item 2\n",
       "\\item 1\n",
       "\\item 3\n",
       "\\item 0\n",
       "\\end{enumerate*}\n"
      ],
      "text/markdown": [
       "1. 2\n",
       "2. 1\n",
       "3. 3\n",
       "4. 0\n",
       "\n",
       "\n"
      ],
      "text/plain": [
       "[1] 2 1 3 0"
      ]
     },
     "metadata": {},
     "output_type": "display_data"
    },
    {
     "data": {
      "text/html": [
       "<style>\n",
       ".list-inline {list-style: none; margin:0; padding: 0}\n",
       ".list-inline>li {display: inline-block}\n",
       ".list-inline>li:not(:last-child)::after {content: \"\\00b7\"; padding: 0 .5ex}\n",
       "</style>\n",
       "<ol class=list-inline><li>3</li><li>2</li><li>1</li><li>5</li><li>4</li><li>6</li><li>0</li></ol>\n"
      ],
      "text/latex": [
       "\\begin{enumerate*}\n",
       "\\item 3\n",
       "\\item 2\n",
       "\\item 1\n",
       "\\item 5\n",
       "\\item 4\n",
       "\\item 6\n",
       "\\item 0\n",
       "\\end{enumerate*}\n"
      ],
      "text/markdown": [
       "1. 3\n",
       "2. 2\n",
       "3. 1\n",
       "4. 5\n",
       "5. 4\n",
       "6. 6\n",
       "7. 0\n",
       "\n",
       "\n"
      ],
      "text/plain": [
       "[1] 3 2 1 5 4 6 0"
      ]
     },
     "metadata": {},
     "output_type": "display_data"
    }
   ],
   "source": [
    "# checking all unique values inside each encoded variables\n",
    "\n",
    "unique(credit_default$SEX)\n",
    "unique(credit_default$MARRIAGE)\n",
    "unique(credit_default$EDUCATION)"
   ]
  },
  {
   "cell_type": "code",
   "execution_count": 13,
   "id": "1e38c4e8",
   "metadata": {},
   "outputs": [],
   "source": [
    "# MARRIAGE: I will replace 0 values per 'others' (value number 3)\n",
    "\n",
    "credit_default[\"MARRIAGE\"][credit_default[\"MARRIAGE\"] == 0] <- 3"
   ]
  },
  {
   "cell_type": "code",
   "execution_count": 14,
   "id": "70fcf759",
   "metadata": {},
   "outputs": [],
   "source": [
    "# EDUCATION: Replacing 0, 5 and 6 with 'others' (value 4)\n",
    "\n",
    "credit_default[\"EDUCATION\"][credit_default[\"EDUCATION\"] == 0] <- 4\n",
    "credit_default[\"EDUCATION\"][credit_default[\"EDUCATION\"] == 5] <- 4\n",
    "credit_default[\"EDUCATION\"][credit_default[\"EDUCATION\"] == 6] <- 4"
   ]
  },
  {
   "cell_type": "markdown",
   "id": "ffd57f5a",
   "metadata": {},
   "source": [
    "## Exploratory Analysis"
   ]
  },
  {
   "cell_type": "markdown",
   "id": "e61cab67",
   "metadata": {},
   "source": [
    "##### Summary"
   ]
  },
  {
   "cell_type": "code",
   "execution_count": 15,
   "id": "1fd613c8",
   "metadata": {},
   "outputs": [
    {
     "data": {
      "text/plain": [
       "    cust_id        LIMIT_BAL            SEX          EDUCATION    \n",
       " Min.   :    2   Min.   :  10000   Min.   :1.000   Min.   :1.000  \n",
       " 1st Qu.: 7471   1st Qu.:  50000   1st Qu.:1.000   1st Qu.:1.000  \n",
       " Median :15003   Median : 140000   Median :2.000   Median :2.000  \n",
       " Mean   :15008   Mean   : 166432   Mean   :1.607   Mean   :1.842  \n",
       " 3rd Qu.:22533   3rd Qu.: 240000   3rd Qu.:2.000   3rd Qu.:2.000  \n",
       " Max.   :30000   Max.   :1000000   Max.   :2.000   Max.   :4.000  \n",
       "    MARRIAGE          AGE            PAY_0             PAY_2        \n",
       " Min.   :1.000   Min.   :21.00   Min.   :-2.0000   Min.   :-2.0000  \n",
       " 1st Qu.:1.000   1st Qu.:28.00   1st Qu.:-1.0000   1st Qu.:-1.0000  \n",
       " Median :2.000   Median :34.00   Median : 0.0000   Median : 0.0000  \n",
       " Mean   :1.565   Mean   :35.47   Mean   :-0.0199   Mean   :-0.1293  \n",
       " 3rd Qu.:2.000   3rd Qu.:41.00   3rd Qu.: 0.0000   3rd Qu.: 0.0000  \n",
       " Max.   :3.000   Max.   :75.00   Max.   : 8.0000   Max.   : 8.0000  \n",
       "     PAY_3             PAY_4             PAY_5            PAY_6       \n",
       " Min.   :-2.0000   Min.   :-2.0000   Min.   :-2.000   Min.   :-2.000  \n",
       " 1st Qu.:-1.0000   1st Qu.:-1.0000   1st Qu.:-1.000   1st Qu.:-1.000  \n",
       " Median : 0.0000   Median : 0.0000   Median : 0.000   Median : 0.000  \n",
       " Mean   :-0.1643   Mean   :-0.2205   Mean   :-0.266   Mean   :-0.292  \n",
       " 3rd Qu.: 0.0000   3rd Qu.: 0.0000   3rd Qu.: 0.000   3rd Qu.: 0.000  \n",
       " Max.   : 8.0000   Max.   : 8.0000   Max.   : 8.000   Max.   : 8.000  \n",
       "   BILL_AMT1         BILL_AMT2        BILL_AMT3         BILL_AMT4      \n",
       " Min.   :-165580   Min.   :-69777   Min.   : -61506   Min.   :-170000  \n",
       " 1st Qu.:   3600   1st Qu.:  3067   1st Qu.:   2708   1st Qu.:   2339  \n",
       " Median :  22866   Median : 21545   Median :  20215   Median :  19192  \n",
       " Mean   :  51041   Mean   : 48957   Mean   :  46901   Mean   :  43049  \n",
       " 3rd Qu.:  65606   3rd Qu.: 61928   3rd Qu.:  59269   3rd Qu.:  53390  \n",
       " Max.   : 964511   Max.   :983931   Max.   :1664089   Max.   : 891586  \n",
       "   BILL_AMT5        BILL_AMT6          PAY_AMT1         PAY_AMT2      \n",
       " Min.   :-81334   Min.   :-339603   Min.   :     0   Min.   :      0  \n",
       " 1st Qu.:  1773   1st Qu.:   1301   1st Qu.:  1000   1st Qu.:    900  \n",
       " Median : 18339   Median :  17344   Median :  2100   Median :   2019  \n",
       " Mean   : 40210   Mean   :  38799   Mean   :  5496   Mean   :   5810  \n",
       " 3rd Qu.: 49724   3rd Qu.:  48655   3rd Qu.:  5100   3rd Qu.:   5000  \n",
       " Max.   :927171   Max.   : 961664   Max.   :505000   Max.   :1684259  \n",
       "    PAY_AMT3         PAY_AMT4         PAY_AMT5         PAY_AMT6     \n",
       " Min.   :     0   Min.   :     0   Min.   :     0   Min.   :     0  \n",
       " 1st Qu.:   396   1st Qu.:   300   1st Qu.:   291   1st Qu.:   138  \n",
       " Median :  1832   Median :  1500   Median :  1539   Median :  1500  \n",
       " Mean   :  5208   Mean   :  4796   Mean   :  4828   Mean   :  5236  \n",
       " 3rd Qu.:  4646   3rd Qu.:  4174   3rd Qu.:  4200   3rd Qu.:  4127  \n",
       " Max.   :896040   Max.   :528897   Max.   :388071   Max.   :528666  \n",
       " default.payment.next.month\n",
       " Min.   :0.0000            \n",
       " 1st Qu.:0.0000            \n",
       " Median :0.0000            \n",
       " Mean   :0.2207            \n",
       " 3rd Qu.:0.0000            \n",
       " Max.   :1.0000            "
      ]
     },
     "metadata": {},
     "output_type": "display_data"
    }
   ],
   "source": [
    "# Summary of all our variables\n",
    "# Be carefull of encoded variables such as cust_id, sex, education and marriage, the mean, median and quarters doesn't mean anything.\n",
    "\n",
    "summary(credit_default)"
   ]
  },
  {
   "cell_type": "markdown",
   "id": "463eee97",
   "metadata": {},
   "source": [
    "##### General Plots"
   ]
  },
  {
   "cell_type": "code",
   "execution_count": 16,
   "id": "7522316b",
   "metadata": {},
   "outputs": [
    {
     "data": {
      "image/png": "[encoded data removed]",
      "text/plain": [
       "plot without title"
      ]
     },
     "metadata": {
      "image/png": {
       "height": 420,
       "width": 420
      }
     },
     "output_type": "display_data"
    },
    {
     "data": {
      "image/png": "[encoded data removed]",
      "text/plain": [
       "plot without title"
      ]
     },
     "metadata": {
      "image/png": {
       "height": 420,
       "width": 420
      }
     },
     "output_type": "display_data"
    }
   ],
   "source": [
    "# Overall view of how our data looks like\n",
    "\n",
    "plot_histogram(credit_default)"
   ]
  },
  {
   "cell_type": "markdown",
   "id": "44768045",
   "metadata": {},
   "source": [
    "From the graphs above we can notice that most of our variables are positively skewed. (The mean will be greater than the median and the mode). An exception occure from PAY_0 to PAY_6 that are negatively skewed. \n",
    "\n",
    "\n",
    "• Mean age is 35 years old\n",
    "\n",
    "• We have 61% of women and 39% of men\n",
    "\n",
    "• 53% of our clientele is single and 45% is married (2% for others)\n",
    "\n",
    "• Mean of the amount of given credit is equal to 166 432$\n",
    "\n",
    "• Mean of all BILL AMT is equal to 44 826$ and decrease month after month\n",
    "\n",
    "• Mean of all PAY AMT is equal to 5229$\n",
    "\n",
    "• 22% percent of our clients pay the default payment next month (Our target variable)"
   ]
  },
  {
   "cell_type": "code",
   "execution_count": 17,
   "id": "0923ddd4",
   "metadata": {},
   "outputs": [
    {
     "data": {
      "text/html": [
       "<table class=\"dataframe\">\n",
       "<caption>A data.frame: 4 × 2</caption>\n",
       "<thead>\n",
       "\t<tr><th scope=col>vars</th><th scope=col>n</th></tr>\n",
       "\t<tr><th scope=col>&lt;dbl&gt;</th><th scope=col>&lt;int&gt;</th></tr>\n",
       "</thead>\n",
       "<tbody>\n",
       "\t<tr><td>1</td><td>6987</td></tr>\n",
       "\t<tr><td>2</td><td>9484</td></tr>\n",
       "\t<tr><td>3</td><td>3225</td></tr>\n",
       "\t<tr><td>4</td><td> 304</td></tr>\n",
       "</tbody>\n",
       "</table>\n"
      ],
      "text/latex": [
       "A data.frame: 4 × 2\n",
       "\\begin{tabular}{ll}\n",
       " vars & n\\\\\n",
       " <dbl> & <int>\\\\\n",
       "\\hline\n",
       "\t 1 & 6987\\\\\n",
       "\t 2 & 9484\\\\\n",
       "\t 3 & 3225\\\\\n",
       "\t 4 &  304\\\\\n",
       "\\end{tabular}\n"
      ],
      "text/markdown": [
       "\n",
       "A data.frame: 4 × 2\n",
       "\n",
       "| vars &lt;dbl&gt; | n &lt;int&gt; |\n",
       "|---|---|\n",
       "| 1 | 6987 |\n",
       "| 2 | 9484 |\n",
       "| 3 | 3225 |\n",
       "| 4 |  304 |\n",
       "\n"
      ],
      "text/plain": [
       "  vars n   \n",
       "1 1    6987\n",
       "2 2    9484\n",
       "3 3    3225\n",
       "4 4     304"
      ]
     },
     "metadata": {},
     "output_type": "display_data"
    }
   ],
   "source": [
    "# EDUCATION count\n",
    "# Most of our clients went in graduating school and university. \n",
    "\n",
    "count(credit_default, vars = EDUCATION)"
   ]
  },
  {
   "cell_type": "code",
   "execution_count": 18,
   "id": "d05cddc9",
   "metadata": {},
   "outputs": [
    {
     "data": {
      "text/html": [
       "<table class=\"dataframe\">\n",
       "<caption>A data.frame: 2 × 2</caption>\n",
       "<thead>\n",
       "\t<tr><th scope=col>vars</th><th scope=col>n</th></tr>\n",
       "\t<tr><th scope=col>&lt;int&gt;</th><th scope=col>&lt;int&gt;</th></tr>\n",
       "</thead>\n",
       "<tbody>\n",
       "\t<tr><td>1</td><td> 7855</td></tr>\n",
       "\t<tr><td>2</td><td>12145</td></tr>\n",
       "</tbody>\n",
       "</table>\n"
      ],
      "text/latex": [
       "A data.frame: 2 × 2\n",
       "\\begin{tabular}{ll}\n",
       " vars & n\\\\\n",
       " <int> & <int>\\\\\n",
       "\\hline\n",
       "\t 1 &  7855\\\\\n",
       "\t 2 & 12145\\\\\n",
       "\\end{tabular}\n"
      ],
      "text/markdown": [
       "\n",
       "A data.frame: 2 × 2\n",
       "\n",
       "| vars &lt;int&gt; | n &lt;int&gt; |\n",
       "|---|---|\n",
       "| 1 |  7855 |\n",
       "| 2 | 12145 |\n",
       "\n"
      ],
      "text/plain": [
       "  vars n    \n",
       "1 1     7855\n",
       "2 2    12145"
      ]
     },
     "metadata": {},
     "output_type": "display_data"
    }
   ],
   "source": [
    "# GENDER count\n",
    "# 1 is for male and 2 for female\n",
    "# We have more female than male clients\n",
    "\n",
    "count(credit_default, vars = SEX)"
   ]
  },
  {
   "cell_type": "code",
   "execution_count": 19,
   "id": "8d7bb79f",
   "metadata": {},
   "outputs": [
    {
     "data": {
      "text/html": [
       "<table class=\"dataframe\">\n",
       "<caption>A data.frame: 3 × 2</caption>\n",
       "<thead>\n",
       "\t<tr><th scope=col>vars</th><th scope=col>n</th></tr>\n",
       "\t<tr><th scope=col>&lt;dbl&gt;</th><th scope=col>&lt;int&gt;</th></tr>\n",
       "</thead>\n",
       "<tbody>\n",
       "\t<tr><td>1</td><td> 8958</td></tr>\n",
       "\t<tr><td>2</td><td>10793</td></tr>\n",
       "\t<tr><td>3</td><td>  249</td></tr>\n",
       "</tbody>\n",
       "</table>\n"
      ],
      "text/latex": [
       "A data.frame: 3 × 2\n",
       "\\begin{tabular}{ll}\n",
       " vars & n\\\\\n",
       " <dbl> & <int>\\\\\n",
       "\\hline\n",
       "\t 1 &  8958\\\\\n",
       "\t 2 & 10793\\\\\n",
       "\t 3 &   249\\\\\n",
       "\\end{tabular}\n"
      ],
      "text/markdown": [
       "\n",
       "A data.frame: 3 × 2\n",
       "\n",
       "| vars &lt;dbl&gt; | n &lt;int&gt; |\n",
       "|---|---|\n",
       "| 1 |  8958 |\n",
       "| 2 | 10793 |\n",
       "| 3 |   249 |\n",
       "\n"
      ],
      "text/plain": [
       "  vars n    \n",
       "1 1     8958\n",
       "2 2    10793\n",
       "3 3      249"
      ]
     },
     "metadata": {},
     "output_type": "display_data"
    }
   ],
   "source": [
    "# MARITAL STATUS count\n",
    "# 1 is married, 2 is single and 3 is 'others'. \n",
    "\n",
    "count(credit_default, vars = MARRIAGE)"
   ]
  },
  {
   "cell_type": "code",
   "execution_count": 20,
   "id": "aa194768",
   "metadata": {},
   "outputs": [
    {
     "data": {
      "text/html": [
       "<table class=\"dataframe\">\n",
       "<caption>A data.frame: 2 × 2</caption>\n",
       "<thead>\n",
       "\t<tr><th scope=col>vars</th><th scope=col>n</th></tr>\n",
       "\t<tr><th scope=col>&lt;int&gt;</th><th scope=col>&lt;int&gt;</th></tr>\n",
       "</thead>\n",
       "<tbody>\n",
       "\t<tr><td>0</td><td>15586</td></tr>\n",
       "\t<tr><td>1</td><td> 4414</td></tr>\n",
       "</tbody>\n",
       "</table>\n"
      ],
      "text/latex": [
       "A data.frame: 2 × 2\n",
       "\\begin{tabular}{ll}\n",
       " vars & n\\\\\n",
       " <int> & <int>\\\\\n",
       "\\hline\n",
       "\t 0 & 15586\\\\\n",
       "\t 1 &  4414\\\\\n",
       "\\end{tabular}\n"
      ],
      "text/markdown": [
       "\n",
       "A data.frame: 2 × 2\n",
       "\n",
       "| vars &lt;int&gt; | n &lt;int&gt; |\n",
       "|---|---|\n",
       "| 0 | 15586 |\n",
       "| 1 |  4414 |\n",
       "\n"
      ],
      "text/plain": [
       "  vars n    \n",
       "1 0    15586\n",
       "2 1     4414"
      ]
     },
     "metadata": {},
     "output_type": "display_data"
    }
   ],
   "source": [
    "# Default Payment \n",
    "# Only 22% of clients pay the default payment for the next month\n",
    "\n",
    "count(credit_default, vars = default.payment.next.month)"
   ]
  },
  {
   "cell_type": "markdown",
   "id": "b63e4533",
   "metadata": {},
   "source": [
    "##### Correlation matrix"
   ]
  },
  {
   "cell_type": "code",
   "execution_count": 21,
   "id": "0eea3cf4",
   "metadata": {},
   "outputs": [
    {
     "data": {
      "image/png": "[encoded data removed]",
      "text/plain": [
       "plot without title"
      ]
     },
     "metadata": {
      "image/png": {
       "height": 420,
       "width": 420
      }
     },
     "output_type": "display_data"
    }
   ],
   "source": [
    "# Plotting correlation\n",
    "\n",
    "plot_correlation(na.omit(credit_default), maxcat = 5L)"
   ]
  },
  {
   "cell_type": "markdown",
   "id": "fe12f8b8",
   "metadata": {},
   "source": [
    "The correlation matrix will help us to chose which variables we should consider for the algorithms.  \n",
    "\n",
    "The most correlated variables to ou target one (default_payment) are the payment ones (from PAY_0 to PAY_6). There is also a negative correlation between LIMIT_BAL and default_payment. PAY AMT only has a slight negative correlation but it is not obvious yet. "
   ]
  },
  {
   "cell_type": "code",
   "execution_count": 54,
   "id": "f93d0304",
   "metadata": {
    "scrolled": true
   },
   "outputs": [
    {
     "data": {
      "image/png": "[encoded data removed]",
      "text/plain": [
       "Plot with title \"\""
      ]
     },
     "metadata": {
      "image/png": {
       "height": 300,
       "width": 600
      }
     },
     "output_type": "display_data"
    }
   ],
   "source": [
    "# Other possibility \n",
    "\n",
    "credit_default$default.payment.next.month = as.numeric(credit_default$default.payment.next.month)\n",
    "r = cor(credit_default[-c(3, 4, 5, 26, 27)])\n",
    "corrplot(r, method = \"circle\")"
   ]
  },
  {
   "cell_type": "markdown",
   "id": "c6963f76",
   "metadata": {},
   "source": [
    "##### Statistics and P value"
   ]
  },
  {
   "cell_type": "code",
   "execution_count": 190,
   "id": "6589b75c",
   "metadata": {},
   "outputs": [],
   "source": [
    "# Creating the flattenCorrMatrix\n",
    "# cormat : matrix of the correlation coefficients\n",
    "# pmat : matrix of the correlation p-values\n",
    "\n",
    "flattenCorrMatrix <- function(cormat, pmat) {\n",
    "  ut <- upper.tri(cormat)\n",
    "  data.frame(\n",
    "    row = rownames(cormat)[row(cormat)[ut]],\n",
    "    column = rownames(cormat)[col(cormat)[ut]],\n",
    "    cor  =(cormat)[ut],\n",
    "    p = pmat[ut]\n",
    "    )\n",
    "}\n",
    "\n",
    "# Sources: http://www.sthda.com/english/wiki/correlation-matrix-a-quick-start-guide-to-analyze-format-and-visualize-a-correlation-matrix-using-r-software"
   ]
  },
  {
   "cell_type": "code",
   "execution_count": 230,
   "id": "5e66b7f6",
   "metadata": {},
   "outputs": [],
   "source": [
    "# Plotting without customer_id\n",
    "credit = credit_default[,-1]"
   ]
  },
  {
   "cell_type": "code",
   "execution_count": 231,
   "id": "e892d30d",
   "metadata": {},
   "outputs": [
    {
     "data": {
      "text/html": [
       "<table class=\"dataframe\">\n",
       "<caption>A data.frame: 23 × 4</caption>\n",
       "<thead>\n",
       "\t<tr><th scope=col>row</th><th scope=col>column</th><th scope=col>cor</th><th scope=col>p</th></tr>\n",
       "\t<tr><th scope=col>&lt;chr&gt;</th><th scope=col>&lt;chr&gt;</th><th scope=col>&lt;dbl&gt;</th><th scope=col>&lt;dbl&gt;</th></tr>\n",
       "</thead>\n",
       "<tbody>\n",
       "\t<tr><td>LIMIT_BAL</td><td>default.payment.next.month</td><td>-0.144974874</td><td>0.000000e+00</td></tr>\n",
       "\t<tr><td>SEX      </td><td>default.payment.next.month</td><td>-0.035402044</td><td>5.503803e-07</td></tr>\n",
       "\t<tr><td>EDUCATION</td><td>default.payment.next.month</td><td> 0.028064628</td><td>7.203221e-05</td></tr>\n",
       "\t<tr><td>MARRIAGE </td><td>default.payment.next.month</td><td>-0.020836263</td><td>3.210514e-03</td></tr>\n",
       "\t<tr><td>AGE      </td><td>default.payment.next.month</td><td> 0.007350303</td><td>2.986007e-01</td></tr>\n",
       "\t<tr><td>PAY_0    </td><td>default.payment.next.month</td><td> 0.312584177</td><td>0.000000e+00</td></tr>\n",
       "\t<tr><td>PAY_2    </td><td>default.payment.next.month</td><td> 0.251610378</td><td>0.000000e+00</td></tr>\n",
       "\t<tr><td>PAY_3    </td><td>default.payment.next.month</td><td> 0.227611921</td><td>0.000000e+00</td></tr>\n",
       "\t<tr><td>PAY_4    </td><td>default.payment.next.month</td><td> 0.209690291</td><td>0.000000e+00</td></tr>\n",
       "\t<tr><td>PAY_5    </td><td>default.payment.next.month</td><td> 0.198287262</td><td>0.000000e+00</td></tr>\n",
       "\t<tr><td>PAY_6    </td><td>default.payment.next.month</td><td> 0.180031625</td><td>0.000000e+00</td></tr>\n",
       "\t<tr><td>BILL_AMT1</td><td>default.payment.next.month</td><td>-0.020108777</td><td>4.456220e-03</td></tr>\n",
       "\t<tr><td>BILL_AMT2</td><td>default.payment.next.month</td><td>-0.013242636</td><td>6.110200e-02</td></tr>\n",
       "\t<tr><td>BILL_AMT3</td><td>default.payment.next.month</td><td>-0.013342324</td><td>5.917975e-02</td></tr>\n",
       "\t<tr><td>BILL_AMT4</td><td>default.payment.next.month</td><td>-0.010045863</td><td>1.554195e-01</td></tr>\n",
       "\t<tr><td>BILL_AMT5</td><td>default.payment.next.month</td><td>-0.007639951</td><td>2.799639e-01</td></tr>\n",
       "\t<tr><td>BILL_AMT6</td><td>default.payment.next.month</td><td>-0.006668107</td><td>3.456992e-01</td></tr>\n",
       "\t<tr><td>PAY_AMT1 </td><td>default.payment.next.month</td><td>-0.074581511</td><td>0.000000e+00</td></tr>\n",
       "\t<tr><td>PAY_AMT2 </td><td>default.payment.next.month</td><td>-0.059854846</td><td>0.000000e+00</td></tr>\n",
       "\t<tr><td>PAY_AMT3 </td><td>default.payment.next.month</td><td>-0.053831469</td><td>2.575717e-14</td></tr>\n",
       "\t<tr><td>PAY_AMT4 </td><td>default.payment.next.month</td><td>-0.064027578</td><td>0.000000e+00</td></tr>\n",
       "\t<tr><td>PAY_AMT5 </td><td>default.payment.next.month</td><td>-0.059714887</td><td>0.000000e+00</td></tr>\n",
       "\t<tr><td>PAY_AMT6 </td><td>default.payment.next.month</td><td>-0.054249580</td><td>1.620926e-14</td></tr>\n",
       "</tbody>\n",
       "</table>\n"
      ],
      "text/latex": [
       "A data.frame: 23 × 4\n",
       "\\begin{tabular}{llll}\n",
       " row & column & cor & p\\\\\n",
       " <chr> & <chr> & <dbl> & <dbl>\\\\\n",
       "\\hline\n",
       "\t LIMIT\\_BAL & default.payment.next.month & -0.144974874 & 0.000000e+00\\\\\n",
       "\t SEX       & default.payment.next.month & -0.035402044 & 5.503803e-07\\\\\n",
       "\t EDUCATION & default.payment.next.month &  0.028064628 & 7.203221e-05\\\\\n",
       "\t MARRIAGE  & default.payment.next.month & -0.020836263 & 3.210514e-03\\\\\n",
       "\t AGE       & default.payment.next.month &  0.007350303 & 2.986007e-01\\\\\n",
       "\t PAY\\_0     & default.payment.next.month &  0.312584177 & 0.000000e+00\\\\\n",
       "\t PAY\\_2     & default.payment.next.month &  0.251610378 & 0.000000e+00\\\\\n",
       "\t PAY\\_3     & default.payment.next.month &  0.227611921 & 0.000000e+00\\\\\n",
       "\t PAY\\_4     & default.payment.next.month &  0.209690291 & 0.000000e+00\\\\\n",
       "\t PAY\\_5     & default.payment.next.month &  0.198287262 & 0.000000e+00\\\\\n",
       "\t PAY\\_6     & default.payment.next.month &  0.180031625 & 0.000000e+00\\\\\n",
       "\t BILL\\_AMT1 & default.payment.next.month & -0.020108777 & 4.456220e-03\\\\\n",
       "\t BILL\\_AMT2 & default.payment.next.month & -0.013242636 & 6.110200e-02\\\\\n",
       "\t BILL\\_AMT3 & default.payment.next.month & -0.013342324 & 5.917975e-02\\\\\n",
       "\t BILL\\_AMT4 & default.payment.next.month & -0.010045863 & 1.554195e-01\\\\\n",
       "\t BILL\\_AMT5 & default.payment.next.month & -0.007639951 & 2.799639e-01\\\\\n",
       "\t BILL\\_AMT6 & default.payment.next.month & -0.006668107 & 3.456992e-01\\\\\n",
       "\t PAY\\_AMT1  & default.payment.next.month & -0.074581511 & 0.000000e+00\\\\\n",
       "\t PAY\\_AMT2  & default.payment.next.month & -0.059854846 & 0.000000e+00\\\\\n",
       "\t PAY\\_AMT3  & default.payment.next.month & -0.053831469 & 2.575717e-14\\\\\n",
       "\t PAY\\_AMT4  & default.payment.next.month & -0.064027578 & 0.000000e+00\\\\\n",
       "\t PAY\\_AMT5  & default.payment.next.month & -0.059714887 & 0.000000e+00\\\\\n",
       "\t PAY\\_AMT6  & default.payment.next.month & -0.054249580 & 1.620926e-14\\\\\n",
       "\\end{tabular}\n"
      ],
      "text/markdown": [
       "\n",
       "A data.frame: 23 × 4\n",
       "\n",
       "| row &lt;chr&gt; | column &lt;chr&gt; | cor &lt;dbl&gt; | p &lt;dbl&gt; |\n",
       "|---|---|---|---|\n",
       "| LIMIT_BAL | default.payment.next.month | -0.144974874 | 0.000000e+00 |\n",
       "| SEX       | default.payment.next.month | -0.035402044 | 5.503803e-07 |\n",
       "| EDUCATION | default.payment.next.month |  0.028064628 | 7.203221e-05 |\n",
       "| MARRIAGE  | default.payment.next.month | -0.020836263 | 3.210514e-03 |\n",
       "| AGE       | default.payment.next.month |  0.007350303 | 2.986007e-01 |\n",
       "| PAY_0     | default.payment.next.month |  0.312584177 | 0.000000e+00 |\n",
       "| PAY_2     | default.payment.next.month |  0.251610378 | 0.000000e+00 |\n",
       "| PAY_3     | default.payment.next.month |  0.227611921 | 0.000000e+00 |\n",
       "| PAY_4     | default.payment.next.month |  0.209690291 | 0.000000e+00 |\n",
       "| PAY_5     | default.payment.next.month |  0.198287262 | 0.000000e+00 |\n",
       "| PAY_6     | default.payment.next.month |  0.180031625 | 0.000000e+00 |\n",
       "| BILL_AMT1 | default.payment.next.month | -0.020108777 | 4.456220e-03 |\n",
       "| BILL_AMT2 | default.payment.next.month | -0.013242636 | 6.110200e-02 |\n",
       "| BILL_AMT3 | default.payment.next.month | -0.013342324 | 5.917975e-02 |\n",
       "| BILL_AMT4 | default.payment.next.month | -0.010045863 | 1.554195e-01 |\n",
       "| BILL_AMT5 | default.payment.next.month | -0.007639951 | 2.799639e-01 |\n",
       "| BILL_AMT6 | default.payment.next.month | -0.006668107 | 3.456992e-01 |\n",
       "| PAY_AMT1  | default.payment.next.month | -0.074581511 | 0.000000e+00 |\n",
       "| PAY_AMT2  | default.payment.next.month | -0.059854846 | 0.000000e+00 |\n",
       "| PAY_AMT3  | default.payment.next.month | -0.053831469 | 2.575717e-14 |\n",
       "| PAY_AMT4  | default.payment.next.month | -0.064027578 | 0.000000e+00 |\n",
       "| PAY_AMT5  | default.payment.next.month | -0.059714887 | 0.000000e+00 |\n",
       "| PAY_AMT6  | default.payment.next.month | -0.054249580 | 1.620926e-14 |\n",
       "\n"
      ],
      "text/plain": [
       "   row       column                     cor          p           \n",
       "1  LIMIT_BAL default.payment.next.month -0.144974874 0.000000e+00\n",
       "2  SEX       default.payment.next.month -0.035402044 5.503803e-07\n",
       "3  EDUCATION default.payment.next.month  0.028064628 7.203221e-05\n",
       "4  MARRIAGE  default.payment.next.month -0.020836263 3.210514e-03\n",
       "5  AGE       default.payment.next.month  0.007350303 2.986007e-01\n",
       "6  PAY_0     default.payment.next.month  0.312584177 0.000000e+00\n",
       "7  PAY_2     default.payment.next.month  0.251610378 0.000000e+00\n",
       "8  PAY_3     default.payment.next.month  0.227611921 0.000000e+00\n",
       "9  PAY_4     default.payment.next.month  0.209690291 0.000000e+00\n",
       "10 PAY_5     default.payment.next.month  0.198287262 0.000000e+00\n",
       "11 PAY_6     default.payment.next.month  0.180031625 0.000000e+00\n",
       "12 BILL_AMT1 default.payment.next.month -0.020108777 4.456220e-03\n",
       "13 BILL_AMT2 default.payment.next.month -0.013242636 6.110200e-02\n",
       "14 BILL_AMT3 default.payment.next.month -0.013342324 5.917975e-02\n",
       "15 BILL_AMT4 default.payment.next.month -0.010045863 1.554195e-01\n",
       "16 BILL_AMT5 default.payment.next.month -0.007639951 2.799639e-01\n",
       "17 BILL_AMT6 default.payment.next.month -0.006668107 3.456992e-01\n",
       "18 PAY_AMT1  default.payment.next.month -0.074581511 0.000000e+00\n",
       "19 PAY_AMT2  default.payment.next.month -0.059854846 0.000000e+00\n",
       "20 PAY_AMT3  default.payment.next.month -0.053831469 2.575717e-14\n",
       "21 PAY_AMT4  default.payment.next.month -0.064027578 0.000000e+00\n",
       "22 PAY_AMT5  default.payment.next.month -0.059714887 0.000000e+00\n",
       "23 PAY_AMT6  default.payment.next.month -0.054249580 1.620926e-14"
      ]
     },
     "metadata": {},
     "output_type": "display_data"
    }
   ],
   "source": [
    "# Results\n",
    "results<-rcorr(as.matrix(credit))\n",
    "results <-flattenCorrMatrix(results$r, results$P)\n",
    "results = results %>% filter( \n",
    "            column == \"default.payment.next.month\")\n",
    "results "
   ]
  },
  {
   "cell_type": "code",
   "execution_count": 232,
   "id": "acb6e1f7",
   "metadata": {},
   "outputs": [
    {
     "name": "stderr",
     "output_type": "stream",
     "text": [
      "For i = 2 j = 1  A cell entry of 0 was replaced with correct =  0.5.  Check your data!\n",
      "\n",
      "For i = 2 j = 1  A cell entry of 0 was replaced with correct =  0.5.  Check your data!\n",
      "\n",
      "For i = 2 j = 1  A cell entry of 0 was replaced with correct =  0.5.  Check your data!\n",
      "\n",
      "For i = 2 j = 1  A cell entry of 0 was replaced with correct =  0.5.  Check your data!\n",
      "\n",
      "For i = 2 j = 1  A cell entry of 0 was replaced with correct =  0.5.  Check your data!\n",
      "\n",
      "For i = 2 j = 1  A cell entry of 0 was replaced with correct =  0.5.  Check your data!\n",
      "\n",
      "For i = 2 j = 1  A cell entry of 0 was replaced with correct =  0.5.  Check your data!\n",
      "\n",
      "For i = 2 j = 1  A cell entry of 0 was replaced with correct =  0.5.  Check your data!\n",
      "\n",
      "For i = 2 j = 1  A cell entry of 0 was replaced with correct =  0.5.  Check your data!\n",
      "\n",
      "For i = 2 j = 1  A cell entry of 0 was replaced with correct =  0.5.  Check your data!\n",
      "\n"
     ]
    }
   ],
   "source": [
    "# correlation\n",
    "\n",
    "corr_results <- correlation::correlation(credit,\n",
    "                                          include_factors = TRUE, \n",
    "                                          method = \"auto\")"
   ]
  },
  {
   "cell_type": "code",
   "execution_count": 233,
   "id": "ee038cbb",
   "metadata": {
    "scrolled": true
   },
   "outputs": [
    {
     "name": "stdout",
     "output_type": "stream",
     "text": [
      "\u001b[34m# Correlation Matrix (auto-method)\u001b[39m\n",
      "\n",
      "Parameter1  |                 Parameter2 |         r |         95% CI | t(19998) |         p\n",
      "--------------------------------------------------------------------------------------------\n",
      "LIMIT_BAL   | default.payment.next.month |     -0.14 | [-0.16, -0.13] |   -20.72 | < .001***\n",
      "SEX.1       | default.payment.next.month |      0.06 | [ 0.05,  0.08] |     8.85 | < .001***\n",
      "SEX.2       | default.payment.next.month |     -0.06 | [-0.08, -0.05] |    -8.85 | < .001***\n",
      "EDUCATION.1 | default.payment.next.month |     -0.08 | [-0.10, -0.07] |   -11.58 | < .001***\n",
      "EDUCATION.2 | default.payment.next.month |      0.06 | [ 0.04,  0.07] |     8.08 | < .001***\n",
      "EDUCATION.3 | default.payment.next.month |      0.06 | [ 0.05,  0.07] |     8.52 | < .001***\n",
      "EDUCATION.4 | default.payment.next.month |     -0.27 | [-0.29, -0.26] |   -40.06 | < .001***\n",
      "MARRIAGE.1  | default.payment.next.month |      0.04 | [ 0.03,  0.05] |     5.66 | < .001***\n",
      "MARRIAGE.2  | default.payment.next.month |     -0.04 | [-0.06, -0.03] |    -5.88 | < .001***\n",
      "MARRIAGE.3  | default.payment.next.month |      0.02 | [ 0.01,  0.03] |     2.94 | 0.320    \n",
      "AGE         | default.payment.next.month |  7.35e-03 | [-0.01,  0.02] |     1.04 | > .999   \n",
      "PAY_0       | default.payment.next.month |      0.31 | [ 0.30,  0.33] |    46.54 | < .001***\n",
      "PAY_2       | default.payment.next.month |      0.25 | [ 0.24,  0.26] |    36.76 | < .001***\n",
      "PAY_3       | default.payment.next.month |      0.23 | [ 0.21,  0.24] |    33.06 | < .001***\n",
      "PAY_4       | default.payment.next.month |      0.21 | [ 0.20,  0.22] |    30.33 | < .001***\n",
      "PAY_5       | default.payment.next.month |      0.20 | [ 0.18,  0.21] |    28.61 | < .001***\n",
      "PAY_6       | default.payment.next.month |      0.18 | [ 0.17,  0.19] |    25.88 | < .001***\n",
      "BILL_AMT1   | default.payment.next.month |     -0.02 | [-0.03, -0.01] |    -2.84 | 0.410    \n",
      "BILL_AMT2   | default.payment.next.month |     -0.01 | [-0.03,  0.00] |    -1.87 | > .999   \n",
      "BILL_AMT3   | default.payment.next.month |     -0.01 | [-0.03,  0.00] |    -1.89 | > .999   \n",
      "BILL_AMT4   | default.payment.next.month |     -0.01 | [-0.02,  0.00] |    -1.42 | > .999   \n",
      "BILL_AMT5   | default.payment.next.month | -7.64e-03 | [-0.02,  0.01] |    -1.08 | > .999   \n",
      "BILL_AMT6   | default.payment.next.month | -6.67e-03 | [-0.02,  0.01] |    -0.94 | > .999   \n",
      "PAY_AMT1    | default.payment.next.month |     -0.07 | [-0.09, -0.06] |   -10.58 | < .001***\n",
      "PAY_AMT2    | default.payment.next.month |     -0.06 | [-0.07, -0.05] |    -8.48 | < .001***\n",
      "PAY_AMT3    | default.payment.next.month |     -0.05 | [-0.07, -0.04] |    -7.62 | < .001***\n",
      "PAY_AMT4    | default.payment.next.month |     -0.06 | [-0.08, -0.05] |    -9.07 | < .001***\n",
      "PAY_AMT5    | default.payment.next.month |     -0.06 | [-0.07, -0.05] |    -8.46 | < .001***\n",
      "PAY_AMT6    | default.payment.next.month |     -0.05 | [-0.07, -0.04] |    -7.68 | < .001***\n",
      "\n",
      "p-value adjustment method: Holm (1979)\n",
      "Observations: 20000\n"
     ]
    }
   ],
   "source": [
    "# T stats and p value for credit table and default.payment.next.month, according to Holm adjustment method\n",
    "\n",
    "corr_result = corr_results %>% filter( \n",
    "            Parameter2 == \"default.payment.next.month\")\n",
    "print(corr_result)"
   ]
  },
  {
   "cell_type": "markdown",
   "id": "8f9e672f",
   "metadata": {},
   "source": [
    "##### Plotting Main differences "
   ]
  },
  {
   "cell_type": "code",
   "execution_count": 24,
   "id": "66e2c0ef",
   "metadata": {},
   "outputs": [],
   "source": [
    "# First, selection most relevant variables from PAY_0 to PAY_6 and LIMIT BAL.\n",
    "\n",
    "new_credit <- credit_default[c(2,7,8,9,10,11,12,25)]"
   ]
  },
  {
   "cell_type": "code",
   "execution_count": 25,
   "id": "9a4cce84",
   "metadata": {},
   "outputs": [
    {
     "data": {
      "image/png": "[encoded data removed]",
      "text/plain": [
       "plot without title"
      ]
     },
     "metadata": {
      "image/png": {
       "height": 420,
       "width": 420
      }
     },
     "output_type": "display_data"
    }
   ],
   "source": [
    "# Then, plotting a quick analysis to check which predictor has the highest predictability\n",
    "\n",
    "cols <- rep('blue', nrow(new_credit))  # Not default\n",
    "cols[new_credit$default.payment.next.month == 1] <- 'red'  # Default\n",
    "pairs(new_credit, col=cols)"
   ]
  },
  {
   "cell_type": "markdown",
   "id": "9ca05302",
   "metadata": {},
   "source": [
    "In each monthly payment (from PAY_0 to PAY_6) we can find that the default values are generally higher than the others. \n",
    "The high rates in this PAY variable mean delay.\n",
    "This indicates that generally their late payment will accentuate other tardiveness. "
   ]
  },
  {
   "cell_type": "code",
   "execution_count": 176,
   "id": "2c293c5c",
   "metadata": {},
   "outputs": [
    {
     "data": {
      "image/png": "[encoded data removed]",
      "text/plain": [
       "plot without title"
      ]
     },
     "metadata": {
      "image/png": {
       "height": 480,
       "width": 720
      }
     },
     "output_type": "display_data"
    }
   ],
   "source": [
    "# What interpretability for LIMIT BAL ?\n",
    "\n",
    "# Relationship between LIMIT BAL and default\n",
    "options(repr.plot.width=12, repr.plot.height=8)\n",
    "cols <- rep('blue', nrow(credit))  # Not default\n",
    "cols[credit$default.payment.next.month == 1] <- 'red'  # Default\n",
    "\n",
    "boxplot(LIMIT_BAL ~ default.payment.next.month, data=credit,\n",
    "        col=c('blue', 'red'),\n",
    "        xlab='Default', ylab='LIMIT BAL')"
   ]
  },
  {
   "cell_type": "markdown",
   "id": "0e083f66",
   "metadata": {},
   "source": [
    "The relationship between the limit balance and the default payment is quite significant.\n",
    "The average non-payer generally has a lower limit balance than the average payer.\n"
   ]
  },
  {
   "cell_type": "markdown",
   "id": "e8705d80",
   "metadata": {},
   "source": [
    "# Machine Learning Models"
   ]
  },
  {
   "cell_type": "markdown",
   "id": "72d493f0",
   "metadata": {},
   "source": [
    "#### 1. Creating Factors"
   ]
  },
  {
   "cell_type": "code",
   "execution_count": 27,
   "id": "63318f86",
   "metadata": {},
   "outputs": [],
   "source": [
    "# Creating factors for our categorical data \n",
    "\n",
    "credit_default$SEX = as.factor(credit_default$SEX)\n",
    "credit_default$MARRIAGE = as.factor(credit_default$MARRIAGE)\n",
    "credit_default$EDUCATION = as.factor(credit_default$EDUCATION)\n",
    "credit_default$default.payment.next.month = as.factor(credit_default$default.payment.next.month)"
   ]
  },
  {
   "cell_type": "code",
   "execution_count": 235,
   "id": "176dc850",
   "metadata": {},
   "outputs": [],
   "source": [
    "# Uploading the basetable as a csv\n",
    "\n",
    "write.csv(credit_default, \"C:/Users/jharling/OneDrive - IESEG/Desktop/MSc/Statistical And Machine Learning/Individual Project/BaseTable.csv\", row.names = FALSE)"
   ]
  },
  {
   "cell_type": "markdown",
   "id": "eebf0e66",
   "metadata": {},
   "source": [
    "#### 2. Train and Test"
   ]
  },
  {
   "cell_type": "markdown",
   "id": "73cd28e4",
   "metadata": {},
   "source": [
    "In order to run our model we will split our data into train and test set. For this, we will remove all the none necessary variables such as client_id."
   ]
  },
  {
   "cell_type": "code",
   "execution_count": 28,
   "id": "0206901a",
   "metadata": {},
   "outputs": [
    {
     "name": "stdout",
     "output_type": "stream",
     "text": [
      "'data.frame':\t20000 obs. of  24 variables:\n",
      " $ LIMIT_BAL                 : num  70000 390000 60000 140000 50000 20000 50000 250000 320000 300000 ...\n",
      " $ SEX                       : Factor w/ 2 levels \"1\",\"2\": 1 2 1 2 1 1 1 1 2 1 ...\n",
      " $ EDUCATION                 : Factor w/ 4 levels \"1\",\"2\",\"3\",\"4\": 3 2 1 2 1 2 3 2 2 1 ...\n",
      " $ MARRIAGE                  : Factor w/ 3 levels \"1\",\"2\",\"3\": 2 2 2 1 2 2 2 2 2 1 ...\n",
      " $ AGE                       : num  34 26 27 55 29 37 44 30 36 35 ...\n",
      " $ PAY_0                     : int  0 2 0 0 2 0 0 0 -2 0 ...\n",
      " $ PAY_2                     : int  0 2 0 0 2 0 0 0 -2 0 ...\n",
      " $ PAY_3                     : int  0 2 0 0 2 0 0 0 -2 0 ...\n",
      " $ PAY_4                     : int  0 0 0 0 0 0 2 -1 -2 0 ...\n",
      " $ PAY_5                     : int  0 0 0 0 0 0 0 2 -2 0 ...\n",
      " $ PAY_6                     : int  0 0 2 0 -2 0 0 -1 -2 0 ...\n",
      " $ BILL_AMT1                 : num  53972 185111 21387 108038 7881 ...\n",
      " $ BILL_AMT2                 : num  23149 172865 22416 110216 10415 ...\n",
      " $ BILL_AMT3                 : num  23968 153795 23444 84516 3997 ...\n",
      " $ BILL_AMT4                 : num  25559 140387 26038 72391 1047 ...\n",
      " $ BILL_AMT5                 : num  26134 128112 28607 61298 0 ...\n",
      " $ BILL_AMT6                 : num  26715 115514 27997 62193 0 ...\n",
      " $ PAY_AMT1                  : num  1700 5000 1378 4200 3000 ...\n",
      " $ PAY_AMT2                  : num  1500 3000 1406 2822 0 ...\n",
      " $ PAY_AMT3                  : num  2000 5000 3000 2336 1000 ...\n",
      " $ PAY_AMT4                  : num  1000 4548 3000 2588 0 ...\n",
      " $ PAY_AMT5                  : num  1000 4100 0 2250 0 ...\n",
      " $ PAY_AMT6                  : num  2000 3300 923 2491 0 ...\n",
      " $ default.payment.next.month: Factor w/ 2 levels \"0\",\"1\": 1 1 2 1 2 1 1 1 2 1 ...\n"
     ]
    }
   ],
   "source": [
    "credit = credit_default[,-1]\n",
    "str(credit)"
   ]
  },
  {
   "cell_type": "code",
   "execution_count": 29,
   "id": "fb485d19",
   "metadata": {},
   "outputs": [],
   "source": [
    "# Creating train and test data\n",
    "\n",
    "mysample = sort(sample(nrow(credit),nrow(credit)*.8))\n",
    "\n",
    "train <- credit[mysample,]\n",
    "test <- credit[-mysample,]"
   ]
  },
  {
   "cell_type": "code",
   "execution_count": 30,
   "id": "df33a9b3",
   "metadata": {},
   "outputs": [
    {
     "data": {
      "text/plain": [
       "\n",
       "     0      1 \n",
       "0.7793 0.2207 "
      ]
     },
     "metadata": {},
     "output_type": "display_data"
    },
    {
     "data": {
      "text/plain": [
       "\n",
       "       0        1 \n",
       "0.779375 0.220625 "
      ]
     },
     "metadata": {},
     "output_type": "display_data"
    },
    {
     "data": {
      "text/plain": [
       "\n",
       "    0     1 \n",
       "0.779 0.221 "
      ]
     },
     "metadata": {},
     "output_type": "display_data"
    }
   ],
   "source": [
    "# Checking proportion of yes and no in each table\n",
    "\n",
    "# Our data set\n",
    "prop.table(table(credit$default.payment.next.month))\n",
    "\n",
    "# Training set\n",
    "prop.table(table(train$default.payment.next.month))\n",
    "\n",
    "# Test set\n",
    "prop.table(table(test$default.payment.next.month))\n"
   ]
  },
  {
   "cell_type": "markdown",
   "id": "376809b2",
   "metadata": {},
   "source": [
    "### 1. Random Forest"
   ]
  },
  {
   "cell_type": "code",
   "execution_count": 31,
   "id": "5a0cfca4",
   "metadata": {},
   "outputs": [
    {
     "data": {
      "text/plain": [
       "                Length Class  Mode     \n",
       "call                4  -none- call     \n",
       "type                1  -none- character\n",
       "predicted       16000  factor numeric  \n",
       "err.rate           30  -none- numeric  \n",
       "confusion           6  -none- numeric  \n",
       "votes           32000  matrix numeric  \n",
       "oob.times       16000  -none- numeric  \n",
       "classes             2  -none- character\n",
       "importance         23  -none- numeric  \n",
       "importanceSD        0  -none- NULL     \n",
       "localImportance     0  -none- NULL     \n",
       "proximity           0  -none- NULL     \n",
       "ntree               1  -none- numeric  \n",
       "mtry                1  -none- numeric  \n",
       "forest             14  -none- list     \n",
       "y               16000  factor numeric  \n",
       "test                0  -none- NULL     \n",
       "inbag               0  -none- NULL     \n",
       "terms               3  terms  call     "
      ]
     },
     "metadata": {},
     "output_type": "display_data"
    }
   ],
   "source": [
    "# Fitting the random forest to our training set\n",
    "\n",
    "randomforestmodel = randomForest(formula = default.payment.next.month ~., \n",
    "                           data = train, ntree = 10)\n",
    "\n",
    "summary(randomforestmodel)"
   ]
  },
  {
   "cell_type": "code",
   "execution_count": 169,
   "id": "e8f9e04d",
   "metadata": {},
   "outputs": [
    {
     "data": {
      "text/html": [
       "<table class=\"dataframe\">\n",
       "<caption>A matrix: 23 × 1 of type dbl</caption>\n",
       "<thead>\n",
       "\t<tr><th></th><th scope=col>MeanDecreaseGini</th></tr>\n",
       "</thead>\n",
       "<tbody>\n",
       "\t<tr><th scope=row>LIMIT_BAL</th><td>290.55636</td></tr>\n",
       "\t<tr><th scope=row>SEX</th><td> 52.03213</td></tr>\n",
       "\t<tr><th scope=row>EDUCATION</th><td>117.57607</td></tr>\n",
       "\t<tr><th scope=row>MARRIAGE</th><td> 68.85500</td></tr>\n",
       "\t<tr><th scope=row>AGE</th><td>323.16663</td></tr>\n",
       "\t<tr><th scope=row>PAY_0</th><td>425.53856</td></tr>\n",
       "\t<tr><th scope=row>PAY_2</th><td>279.34155</td></tr>\n",
       "\t<tr><th scope=row>PAY_3</th><td>136.88085</td></tr>\n",
       "\t<tr><th scope=row>PAY_4</th><td>101.59406</td></tr>\n",
       "\t<tr><th scope=row>PAY_5</th><td>153.83334</td></tr>\n",
       "\t<tr><th scope=row>PAY_6</th><td>155.35755</td></tr>\n",
       "\t<tr><th scope=row>BILL_AMT1</th><td>318.51436</td></tr>\n",
       "\t<tr><th scope=row>BILL_AMT2</th><td>298.41285</td></tr>\n",
       "\t<tr><th scope=row>BILL_AMT3</th><td>274.82015</td></tr>\n",
       "\t<tr><th scope=row>BILL_AMT4</th><td>275.53325</td></tr>\n",
       "\t<tr><th scope=row>BILL_AMT5</th><td>277.29188</td></tr>\n",
       "\t<tr><th scope=row>BILL_AMT6</th><td>282.86281</td></tr>\n",
       "\t<tr><th scope=row>PAY_AMT1</th><td>284.09185</td></tr>\n",
       "\t<tr><th scope=row>PAY_AMT2</th><td>250.27959</td></tr>\n",
       "\t<tr><th scope=row>PAY_AMT3</th><td>243.20204</td></tr>\n",
       "\t<tr><th scope=row>PAY_AMT4</th><td>230.46316</td></tr>\n",
       "\t<tr><th scope=row>PAY_AMT5</th><td>248.44309</td></tr>\n",
       "\t<tr><th scope=row>PAY_AMT6</th><td>284.25418</td></tr>\n",
       "</tbody>\n",
       "</table>\n"
      ],
      "text/latex": [
       "A matrix: 23 × 1 of type dbl\n",
       "\\begin{tabular}{r|l}\n",
       "  & MeanDecreaseGini\\\\\n",
       "\\hline\n",
       "\tLIMIT\\_BAL & 290.55636\\\\\n",
       "\tSEX &  52.03213\\\\\n",
       "\tEDUCATION & 117.57607\\\\\n",
       "\tMARRIAGE &  68.85500\\\\\n",
       "\tAGE & 323.16663\\\\\n",
       "\tPAY\\_0 & 425.53856\\\\\n",
       "\tPAY\\_2 & 279.34155\\\\\n",
       "\tPAY\\_3 & 136.88085\\\\\n",
       "\tPAY\\_4 & 101.59406\\\\\n",
       "\tPAY\\_5 & 153.83334\\\\\n",
       "\tPAY\\_6 & 155.35755\\\\\n",
       "\tBILL\\_AMT1 & 318.51436\\\\\n",
       "\tBILL\\_AMT2 & 298.41285\\\\\n",
       "\tBILL\\_AMT3 & 274.82015\\\\\n",
       "\tBILL\\_AMT4 & 275.53325\\\\\n",
       "\tBILL\\_AMT5 & 277.29188\\\\\n",
       "\tBILL\\_AMT6 & 282.86281\\\\\n",
       "\tPAY\\_AMT1 & 284.09185\\\\\n",
       "\tPAY\\_AMT2 & 250.27959\\\\\n",
       "\tPAY\\_AMT3 & 243.20204\\\\\n",
       "\tPAY\\_AMT4 & 230.46316\\\\\n",
       "\tPAY\\_AMT5 & 248.44309\\\\\n",
       "\tPAY\\_AMT6 & 284.25418\\\\\n",
       "\\end{tabular}\n"
      ],
      "text/markdown": [
       "\n",
       "A matrix: 23 × 1 of type dbl\n",
       "\n",
       "| <!--/--> | MeanDecreaseGini |\n",
       "|---|---|\n",
       "| LIMIT_BAL | 290.55636 |\n",
       "| SEX |  52.03213 |\n",
       "| EDUCATION | 117.57607 |\n",
       "| MARRIAGE |  68.85500 |\n",
       "| AGE | 323.16663 |\n",
       "| PAY_0 | 425.53856 |\n",
       "| PAY_2 | 279.34155 |\n",
       "| PAY_3 | 136.88085 |\n",
       "| PAY_4 | 101.59406 |\n",
       "| PAY_5 | 153.83334 |\n",
       "| PAY_6 | 155.35755 |\n",
       "| BILL_AMT1 | 318.51436 |\n",
       "| BILL_AMT2 | 298.41285 |\n",
       "| BILL_AMT3 | 274.82015 |\n",
       "| BILL_AMT4 | 275.53325 |\n",
       "| BILL_AMT5 | 277.29188 |\n",
       "| BILL_AMT6 | 282.86281 |\n",
       "| PAY_AMT1 | 284.09185 |\n",
       "| PAY_AMT2 | 250.27959 |\n",
       "| PAY_AMT3 | 243.20204 |\n",
       "| PAY_AMT4 | 230.46316 |\n",
       "| PAY_AMT5 | 248.44309 |\n",
       "| PAY_AMT6 | 284.25418 |\n",
       "\n"
      ],
      "text/plain": [
       "          MeanDecreaseGini\n",
       "LIMIT_BAL 290.55636       \n",
       "SEX        52.03213       \n",
       "EDUCATION 117.57607       \n",
       "MARRIAGE   68.85500       \n",
       "AGE       323.16663       \n",
       "PAY_0     425.53856       \n",
       "PAY_2     279.34155       \n",
       "PAY_3     136.88085       \n",
       "PAY_4     101.59406       \n",
       "PAY_5     153.83334       \n",
       "PAY_6     155.35755       \n",
       "BILL_AMT1 318.51436       \n",
       "BILL_AMT2 298.41285       \n",
       "BILL_AMT3 274.82015       \n",
       "BILL_AMT4 275.53325       \n",
       "BILL_AMT5 277.29188       \n",
       "BILL_AMT6 282.86281       \n",
       "PAY_AMT1  284.09185       \n",
       "PAY_AMT2  250.27959       \n",
       "PAY_AMT3  243.20204       \n",
       "PAY_AMT4  230.46316       \n",
       "PAY_AMT5  248.44309       \n",
       "PAY_AMT6  284.25418       "
      ]
     },
     "metadata": {},
     "output_type": "display_data"
    }
   ],
   "source": [
    "# Feature importance\n",
    "\n",
    "importance(randomforestmodel)"
   ]
  },
  {
   "cell_type": "code",
   "execution_count": 170,
   "id": "61d62af5",
   "metadata": {},
   "outputs": [
    {
     "data": {
      "image/png": "[encoded data removed]",
      "text/plain": [
       "Plot with title \"Variable Importance - RF\""
      ]
     },
     "metadata": {
      "image/png": {
       "height": 390,
       "width": 360
      }
     },
     "output_type": "display_data"
    }
   ],
   "source": [
    "# Plotting feature importance\n",
    "\n",
    "options(repr.plot.width=6, repr.plot.height=6.5)\n",
    "varImpPlot(randomforestmodel, type=2, main='Variable Importance - RF')"
   ]
  },
  {
   "cell_type": "code",
   "execution_count": 32,
   "id": "458bbc98",
   "metadata": {},
   "outputs": [],
   "source": [
    "# Predictions\n",
    "\n",
    "RF_prediction = predict(randomforestmodel, newdata = test, type = \"class\")"
   ]
  },
  {
   "cell_type": "code",
   "execution_count": 33,
   "id": "60d71c6c",
   "metadata": {},
   "outputs": [
    {
     "data": {
      "text/plain": [
       "Confusion Matrix and Statistics\n",
       "\n",
       "          Reference\n",
       "Prediction    0    1\n",
       "         0 2907  592\n",
       "         1  209  292\n",
       "                                         \n",
       "               Accuracy : 0.7998         \n",
       "                 95% CI : (0.787, 0.8121)\n",
       "    No Information Rate : 0.779          \n",
       "    P-Value [Acc > NIR] : 0.0007443      \n",
       "                                         \n",
       "                  Kappa : 0.3116         \n",
       "                                         \n",
       " Mcnemar's Test P-Value : < 2.2e-16      \n",
       "                                         \n",
       "            Sensitivity : 0.9329         \n",
       "            Specificity : 0.3303         \n",
       "         Pos Pred Value : 0.8308         \n",
       "         Neg Pred Value : 0.5828         \n",
       "             Prevalence : 0.7790         \n",
       "         Detection Rate : 0.7268         \n",
       "   Detection Prevalence : 0.8748         \n",
       "      Balanced Accuracy : 0.6316         \n",
       "                                         \n",
       "       'Positive' Class : 0              \n",
       "                                         "
      ]
     },
     "metadata": {},
     "output_type": "display_data"
    }
   ],
   "source": [
    "# Evaluation \n",
    "\n",
    "confusionMatrix(RF_prediction, test$default.payment.next.month)"
   ]
  },
  {
   "cell_type": "code",
   "execution_count": 69,
   "id": "882222d7",
   "metadata": {},
   "outputs": [],
   "source": [
    "# AUC \n",
    "\n",
    "#To get AUC i need probability so i change type to \"prob\"\n",
    "\n",
    "RF_predictions = predict(randomforestmodel, newdata = test, type = \"prob\")\n",
    "\n",
    "# keeping only probability of the second column, corresponding to the '1'\n",
    "\n",
    "RF_predictions = RF_predictions[,2]"
   ]
  },
  {
   "cell_type": "code",
   "execution_count": 75,
   "id": "eecf9923",
   "metadata": {},
   "outputs": [
    {
     "name": "stderr",
     "output_type": "stream",
     "text": [
      "Setting levels: control = 0, case = 1\n",
      "\n",
      "Setting direction: controls < cases\n",
      "\n"
     ]
    },
    {
     "name": "stdout",
     "output_type": "stream",
     "text": [
      "[1] \"AUC = 0.730282761865485\"\n"
     ]
    }
   ],
   "source": [
    "print(paste0('AUC = ', pROC::auc(pROC::roc(test$default.payment.next.month, RF_predictions))))"
   ]
  },
  {
   "cell_type": "code",
   "execution_count": 35,
   "id": "ea129430",
   "metadata": {},
   "outputs": [],
   "source": [
    "# Using K-fold cross validation\n",
    "\n",
    "folds = createFolds(y = train$default.payment.next.month, k = 10)\n",
    "\n",
    "RF_crossvalidation = lapply(folds, function(var){\n",
    "  train_fold = train[-var, ]\n",
    "  test_fold = train[var, ]\n",
    "  \n",
    "  RF_classify = randomForest(formula = default.payment.next.month ~., \n",
    "                               data = train_fold, ntree = 20)\n",
    "  RF_prediction_folds = predict(RF_classify, newdata = test_fold, type = \"class\")\n",
    "  \n",
    "  randomforest_folds = confusionMatrix(RF_prediction_folds, test_fold$default.payment.next.month)\n",
    "  accuracy = randomforest_folds$overall[1]\n",
    "  \n",
    "  return(accuracy)\n",
    "})"
   ]
  },
  {
   "cell_type": "code",
   "execution_count": 36,
   "id": "b9161a6a",
   "metadata": {},
   "outputs": [
    {
     "data": {
      "text/html": [
       "0.812875"
      ],
      "text/latex": [
       "0.812875"
      ],
      "text/markdown": [
       "0.812875"
      ],
      "text/plain": [
       "[1] 0.812875"
      ]
     },
     "metadata": {},
     "output_type": "display_data"
    }
   ],
   "source": [
    "# Checking the accuracy after k-fold cross validation\n",
    "\n",
    "mean(as.numeric(RF_crossvalidation))"
   ]
  },
  {
   "cell_type": "markdown",
   "id": "afd60ee6",
   "metadata": {},
   "source": [
    "### 2. Logistic Regression"
   ]
  },
  {
   "cell_type": "code",
   "execution_count": 38,
   "id": "31992c39",
   "metadata": {
    "scrolled": true
   },
   "outputs": [
    {
     "data": {
      "text/plain": [
       "\n",
       "Call:\n",
       "glm(formula = default.payment.next.month ~ ., family = binomial(link = \"logit\"), \n",
       "    data = train)\n",
       "\n",
       "Deviance Residuals: \n",
       "    Min       1Q   Median       3Q      Max  \n",
       "-3.0315  -0.7045  -0.5507  -0.2854   3.1846  \n",
       "\n",
       "Coefficients:\n",
       "              Estimate Std. Error z value Pr(>|z|)    \n",
       "(Intercept) -9.862e-01  1.181e-01  -8.351  < 2e-16 ***\n",
       "LIMIT_BAL   -5.045e-07  2.142e-07  -2.355 0.018546 *  \n",
       "SEX2        -9.502e-02  4.204e-02  -2.260 0.023814 *  \n",
       "EDUCATION2  -1.367e-01  4.841e-02  -2.825 0.004734 ** \n",
       "EDUCATION3  -1.484e-01  6.529e-02  -2.273 0.023029 *  \n",
       "EDUCATION4  -1.462e+00  2.885e-01  -5.069    4e-07 ***\n",
       "MARRIAGE2   -1.687e-01  4.716e-02  -3.576 0.000349 ***\n",
       "MARRIAGE3   -2.466e-01  1.807e-01  -1.365 0.172228    \n",
       "AGE          5.581e-03  2.533e-03   2.203 0.027582 *  \n",
       "PAY_0        5.927e-01  2.429e-02  24.399  < 2e-16 ***\n",
       "PAY_2        5.371e-02  2.751e-02   1.953 0.050864 .  \n",
       "PAY_3        7.303e-02  3.071e-02   2.378 0.017411 *  \n",
       "PAY_4        1.435e-02  3.360e-02   0.427 0.669238    \n",
       "PAY_5        4.217e-02  3.566e-02   1.182 0.237052    \n",
       "PAY_6        9.183e-03  2.979e-02   0.308 0.757907    \n",
       "BILL_AMT1   -4.799e-06  1.337e-06  -3.589 0.000333 ***\n",
       "BILL_AMT2    2.311e-06  1.704e-06   1.356 0.175081    \n",
       "BILL_AMT3    1.302e-06  1.596e-06   0.816 0.414752    \n",
       "BILL_AMT4   -2.191e-06  1.658e-06  -1.321 0.186378    \n",
       "BILL_AMT5    7.698e-07  1.926e-06   0.400 0.689409    \n",
       "BILL_AMT6    1.771e-06  1.578e-06   1.122 0.261919    \n",
       "PAY_AMT1    -1.045e-05  2.876e-06  -3.634 0.000279 ***\n",
       "PAY_AMT2    -1.128e-05  3.074e-06  -3.669 0.000244 ***\n",
       "PAY_AMT3    -1.557e-07  2.065e-06  -0.075 0.939899    \n",
       "PAY_AMT4    -8.598e-06  2.755e-06  -3.121 0.001803 ** \n",
       "PAY_AMT5    -7.050e-06  2.693e-06  -2.618 0.008844 ** \n",
       "PAY_AMT6    -3.851e-06  1.899e-06  -2.027 0.042616 *  \n",
       "---\n",
       "Signif. codes:  0 '***' 0.001 '**' 0.01 '*' 0.05 '.' 0.1 ' ' 1\n",
       "\n",
       "(Dispersion parameter for binomial family taken to be 1)\n",
       "\n",
       "    Null deviance: 16886  on 15999  degrees of freedom\n",
       "Residual deviance: 14921  on 15973  degrees of freedom\n",
       "AIC: 14975\n",
       "\n",
       "Number of Fisher Scoring iterations: 6\n"
      ]
     },
     "metadata": {},
     "output_type": "display_data"
    }
   ],
   "source": [
    "# Fitting the Logic Regression to our training set\n",
    "\n",
    "LogisticRegressionModel <- glm(default.payment.next.month ~., data = train, family = binomial(link = \"logit\"))\n",
    "summary(LogisticRegressionModel)"
   ]
  },
  {
   "cell_type": "code",
   "execution_count": 179,
   "id": "1f7ed5ae",
   "metadata": {},
   "outputs": [
    {
     "data": {
      "image/png": "[encoded data removed]",
      "text/plain": [
       "plot without title"
      ]
     },
     "metadata": {
      "image/png": {
       "height": 480,
       "width": 480
      }
     },
     "output_type": "display_data"
    }
   ],
   "source": [
    "# Relationship between Limit Balance and default payment\n",
    "\n",
    "options(repr.plot.width=8, repr.plot.height=8)\n",
    "cols <- rep('blue', nrow(credit))  # Not default\n",
    "cols[credit$default.payment.next.month == 1] <- 'red'  # Default\n",
    "\n",
    "plot(x=credit$LIMIT_BAL, y=credit$default.payment.next.month,  # Plot the data\n",
    "     xlab='Limit Balance', ylab='Default Payment',\n",
    "     pch='|', cex=0.5, col=cols)\n",
    "\n",
    "# Prepare data for the Logistic Regression plot\n",
    "df_sort <- credit[order(credit$LIMIT_BAL), ]  # Sort the data\n",
    "xweight <- df_sort$LIMIT_BAL\n",
    "yweight <- predict(LogisticRegressionModel, df_sort, type=\"response\")\n",
    "\n",
    "lines(xweight, yweight)  # Plot the LR"
   ]
  },
  {
   "cell_type": "code",
   "execution_count": 186,
   "id": "eb58edba",
   "metadata": {},
   "outputs": [
    {
     "data": {
      "image/png": "[encoded data removed]",
      "text/plain": [
       "Plot with title \"Paid = Yes\""
      ]
     },
     "metadata": {
      "image/png": {
       "height": 300,
       "width": 720
      }
     },
     "output_type": "display_data"
    }
   ],
   "source": [
    "# Explain the limit balance of non payer\n",
    "\n",
    "options(repr.plot.width=12, repr.plot.height=5)\n",
    "par(mfrow=c(1, 2))\n",
    "hist(credit[credit$default.payment.next.month == 1, 'LIMIT_BAL'], breaks=20,\n",
    "     xlim=c(0, max(credit$LIMIT_BAL)), ylim=c(0, 3800),\n",
    "     main='Paid = No', xlab=' Limit Balance')\n",
    "hist(credit[credit$default.payment.next.month == 0, 'LIMIT_BAL'], breaks=20,\n",
    "     xlim=c(0, max(credit$LIMIT_BAL)), ylim=c(0, 3800),\n",
    "     main='Paid = Yes', xlab='Limit Balance')"
   ]
  },
  {
   "cell_type": "code",
   "execution_count": 150,
   "id": "87b93a8e",
   "metadata": {},
   "outputs": [
    {
     "name": "stderr",
     "output_type": "stream",
     "text": [
      "Warning message:\n",
      "\"glm.fit: fitted probabilities numerically 0 or 1 occurred\"\n",
      "Warning message:\n",
      "\"glm.fit: fitted probabilities numerically 0 or 1 occurred\"\n",
      "Warning message:\n",
      "\"glm.fit: fitted probabilities numerically 0 or 1 occurred\"\n",
      "Warning message:\n",
      "\"glm.fit: fitted probabilities numerically 0 or 1 occurred\"\n",
      "Warning message:\n",
      "\"glm.fit: fitted probabilities numerically 0 or 1 occurred\"\n"
     ]
    },
    {
     "data": {
      "text/html": [
       "<table class=\"dataframe\">\n",
       "<caption>A Anova: 7 × 6</caption>\n",
       "<thead>\n",
       "\t<tr><th scope=col>Step</th><th scope=col>Df</th><th scope=col>Deviance</th><th scope=col>Resid. Df</th><th scope=col>Resid. Dev</th><th scope=col>AIC</th></tr>\n",
       "\t<tr><th scope=col>&lt;chr&gt;</th><th scope=col>&lt;dbl&gt;</th><th scope=col>&lt;dbl&gt;</th><th scope=col>&lt;dbl&gt;</th><th scope=col>&lt;dbl&gt;</th><th scope=col>&lt;dbl&gt;</th></tr>\n",
       "</thead>\n",
       "<tbody>\n",
       "\t<tr><td>           </td><td>NA</td><td>         NA</td><td>15973</td><td>14920.95</td><td>14974.95</td></tr>\n",
       "\t<tr><td>- PAY_AMT3 </td><td> 1</td><td>0.005708993</td><td>15974</td><td>14920.96</td><td>14972.96</td></tr>\n",
       "\t<tr><td>- PAY_6    </td><td> 1</td><td>0.095333712</td><td>15975</td><td>14921.05</td><td>14971.05</td></tr>\n",
       "\t<tr><td>- BILL_AMT5</td><td> 1</td><td>0.167622526</td><td>15976</td><td>14921.22</td><td>14969.22</td></tr>\n",
       "\t<tr><td>- PAY_4    </td><td> 1</td><td>0.196542325</td><td>15977</td><td>14921.42</td><td>14967.42</td></tr>\n",
       "\t<tr><td>- BILL_AMT3</td><td> 1</td><td>0.938128768</td><td>15978</td><td>14922.36</td><td>14966.36</td></tr>\n",
       "\t<tr><td>- BILL_AMT4</td><td> 1</td><td>1.453509337</td><td>15979</td><td>14923.81</td><td>14965.81</td></tr>\n",
       "</tbody>\n",
       "</table>\n"
      ],
      "text/latex": [
       "A Anova: 7 × 6\n",
       "\\begin{tabular}{llllll}\n",
       " Step & Df & Deviance & Resid. Df & Resid. Dev & AIC\\\\\n",
       " <chr> & <dbl> & <dbl> & <dbl> & <dbl> & <dbl>\\\\\n",
       "\\hline\n",
       "\t             & NA &          NA & 15973 & 14920.95 & 14974.95\\\\\n",
       "\t - PAY\\_AMT3  &  1 & 0.005708993 & 15974 & 14920.96 & 14972.96\\\\\n",
       "\t - PAY\\_6     &  1 & 0.095333712 & 15975 & 14921.05 & 14971.05\\\\\n",
       "\t - BILL\\_AMT5 &  1 & 0.167622526 & 15976 & 14921.22 & 14969.22\\\\\n",
       "\t - PAY\\_4     &  1 & 0.196542325 & 15977 & 14921.42 & 14967.42\\\\\n",
       "\t - BILL\\_AMT3 &  1 & 0.938128768 & 15978 & 14922.36 & 14966.36\\\\\n",
       "\t - BILL\\_AMT4 &  1 & 1.453509337 & 15979 & 14923.81 & 14965.81\\\\\n",
       "\\end{tabular}\n"
      ],
      "text/markdown": [
       "\n",
       "A Anova: 7 × 6\n",
       "\n",
       "| Step &lt;chr&gt; | Df &lt;dbl&gt; | Deviance &lt;dbl&gt; | Resid. Df &lt;dbl&gt; | Resid. Dev &lt;dbl&gt; | AIC &lt;dbl&gt; |\n",
       "|---|---|---|---|---|---|\n",
       "| <!----> | NA |          NA | 15973 | 14920.95 | 14974.95 |\n",
       "| - PAY_AMT3  |  1 | 0.005708993 | 15974 | 14920.96 | 14972.96 |\n",
       "| - PAY_6     |  1 | 0.095333712 | 15975 | 14921.05 | 14971.05 |\n",
       "| - BILL_AMT5 |  1 | 0.167622526 | 15976 | 14921.22 | 14969.22 |\n",
       "| - PAY_4     |  1 | 0.196542325 | 15977 | 14921.42 | 14967.42 |\n",
       "| - BILL_AMT3 |  1 | 0.938128768 | 15978 | 14922.36 | 14966.36 |\n",
       "| - BILL_AMT4 |  1 | 1.453509337 | 15979 | 14923.81 | 14965.81 |\n",
       "\n"
      ],
      "text/plain": [
       "  Step        Df Deviance    Resid. Df Resid. Dev AIC     \n",
       "1             NA          NA 15973     14920.95   14974.95\n",
       "2 - PAY_AMT3   1 0.005708993 15974     14920.96   14972.96\n",
       "3 - PAY_6      1 0.095333712 15975     14921.05   14971.05\n",
       "4 - BILL_AMT5  1 0.167622526 15976     14921.22   14969.22\n",
       "5 - PAY_4      1 0.196542325 15977     14921.42   14967.42\n",
       "6 - BILL_AMT3  1 0.938128768 15978     14922.36   14966.36\n",
       "7 - BILL_AMT4  1 1.453509337 15979     14923.81   14965.81"
      ]
     },
     "metadata": {},
     "output_type": "display_data"
    }
   ],
   "source": [
    "# stepwise \n",
    "\n",
    "step <- stepAIC(object = LogisticRegressionModel,trace=FALSE)\n",
    "step$anova"
   ]
  },
  {
   "cell_type": "code",
   "execution_count": 151,
   "id": "98781de4",
   "metadata": {},
   "outputs": [
    {
     "data": {
      "text/plain": [
       "\n",
       "Call:\n",
       "glm(formula = default.payment.next.month ~ LIMIT_BAL + SEX + \n",
       "    EDUCATION + MARRIAGE + AGE + PAY_0 + PAY_2 + PAY_3 + PAY_5 + \n",
       "    BILL_AMT1 + BILL_AMT2 + BILL_AMT6 + PAY_AMT1 + PAY_AMT2 + \n",
       "    PAY_AMT4 + PAY_AMT5 + PAY_AMT6, family = binomial(link = \"logit\"), \n",
       "    data = train)\n",
       "\n",
       "Deviance Residuals: \n",
       "    Min       1Q   Median       3Q      Max  \n",
       "-3.0340  -0.7041  -0.5507  -0.2860   3.3678  \n",
       "\n",
       "Coefficients:\n",
       "              Estimate Std. Error z value Pr(>|z|)    \n",
       "(Intercept) -9.887e-01  1.181e-01  -8.374  < 2e-16 ***\n",
       "LIMIT_BAL   -5.374e-07  2.127e-07  -2.527 0.011498 *  \n",
       "SEX2        -9.441e-02  4.202e-02  -2.247 0.024658 *  \n",
       "EDUCATION2  -1.368e-01  4.838e-02  -2.828 0.004681 ** \n",
       "EDUCATION3  -1.493e-01  6.524e-02  -2.288 0.022154 *  \n",
       "EDUCATION4  -1.470e+00  2.885e-01  -5.094  3.5e-07 ***\n",
       "MARRIAGE2   -1.695e-01  4.715e-02  -3.596 0.000324 ***\n",
       "MARRIAGE3   -2.451e-01  1.806e-01  -1.357 0.174716    \n",
       "AGE          5.616e-03  2.533e-03   2.217 0.026637 *  \n",
       "PAY_0        5.944e-01  2.423e-02  24.530  < 2e-16 ***\n",
       "PAY_2        5.379e-02  2.747e-02   1.958 0.050186 .  \n",
       "PAY_3        8.100e-02  2.763e-02   2.932 0.003367 ** \n",
       "PAY_5        5.352e-02  2.429e-02   2.204 0.027553 *  \n",
       "BILL_AMT1   -4.816e-06  1.325e-06  -3.636 0.000277 ***\n",
       "BILL_AMT2    2.558e-06  1.475e-06   1.734 0.082830 .  \n",
       "BILL_AMT6    1.416e-06  8.084e-07   1.751 0.079944 .  \n",
       "PAY_AMT1    -1.067e-05  2.882e-06  -3.703 0.000213 ***\n",
       "PAY_AMT2    -1.083e-05  2.817e-06  -3.843 0.000121 ***\n",
       "PAY_AMT4    -7.708e-06  2.538e-06  -3.036 0.002394 ** \n",
       "PAY_AMT5    -6.947e-06  2.438e-06  -2.849 0.004387 ** \n",
       "PAY_AMT6    -3.930e-06  1.894e-06  -2.075 0.037970 *  \n",
       "---\n",
       "Signif. codes:  0 '***' 0.001 '**' 0.01 '*' 0.05 '.' 0.1 ' ' 1\n",
       "\n",
       "(Dispersion parameter for binomial family taken to be 1)\n",
       "\n",
       "    Null deviance: 16886  on 15999  degrees of freedom\n",
       "Residual deviance: 14924  on 15979  degrees of freedom\n",
       "AIC: 14966\n",
       "\n",
       "Number of Fisher Scoring iterations: 6\n"
      ]
     },
     "metadata": {},
     "output_type": "display_data"
    }
   ],
   "source": [
    "summary(step)"
   ]
  },
  {
   "cell_type": "code",
   "execution_count": 153,
   "id": "3e94818c",
   "metadata": {},
   "outputs": [
    {
     "data": {
      "text/plain": [
       "Confusion Matrix and Statistics\n",
       "\n",
       "          Reference\n",
       "Prediction    0    1\n",
       "         0 3019  674\n",
       "         1   97  210\n",
       "                                          \n",
       "               Accuracy : 0.8072          \n",
       "                 95% CI : (0.7947, 0.8194)\n",
       "    No Information Rate : 0.779           \n",
       "    P-Value [Acc > NIR] : 6.717e-06       \n",
       "                                          \n",
       "                  Kappa : 0.2694          \n",
       "                                          \n",
       " Mcnemar's Test P-Value : < 2.2e-16       \n",
       "                                          \n",
       "            Sensitivity : 0.9689          \n",
       "            Specificity : 0.2376          \n",
       "         Pos Pred Value : 0.8175          \n",
       "         Neg Pred Value : 0.6840          \n",
       "             Prevalence : 0.7790          \n",
       "         Detection Rate : 0.7548          \n",
       "   Detection Prevalence : 0.9233          \n",
       "      Balanced Accuracy : 0.6032          \n",
       "                                          \n",
       "       'Positive' Class : 0               \n",
       "                                          "
      ]
     },
     "metadata": {},
     "output_type": "display_data"
    },
    {
     "name": "stderr",
     "output_type": "stream",
     "text": [
      "Setting levels: control = 0, case = 1\n",
      "\n",
      "Setting direction: controls < cases\n",
      "\n"
     ]
    },
    {
     "name": "stdout",
     "output_type": "stream",
     "text": [
      "[1] \"AUC = 0.71999140329579\"\n"
     ]
    }
   ],
   "source": [
    "# Predictions\n",
    "\n",
    "LR_predictions <- predict(step, test, type=\"response\")\n",
    "\n",
    "\n",
    "# As our predictions in logistics regression are probablity percentage we need to assign a value equal to 0 or 1 \n",
    "# If the prediction is greater than 0.5, then we can assign a value of 1. \n",
    "\n",
    "LR_prediction <- ifelse(LR_predictions > 0.5, 1, 0)\n",
    "\n",
    "# Evaluation\n",
    "\n",
    "confusionMatrix(factor(LR_prediction), test$default.payment.next.month)\n",
    "\n",
    "# AUC\n",
    "\n",
    "print(paste0('AUC = ', pROC::auc(pROC::roc(test$default.payment.next.month, LR_predictions))))"
   ]
  },
  {
   "cell_type": "code",
   "execution_count": 39,
   "id": "4392ef15",
   "metadata": {},
   "outputs": [],
   "source": [
    "# Predictions without stepwise\n",
    "\n",
    "LR_predictions <- predict(LogisticRegressionModel, test, type=\"response\")\n",
    "\n",
    "\n",
    "# As our predictions in logistics regression are probablity percentage we need to assign a value equal to 0 or 1 \n",
    "# If the prediction is greater than 0.5, then we can assign a value of 1. \n",
    "\n",
    "LR_prediction <- ifelse(LR_predictions > 0.5, 1, 0)"
   ]
  },
  {
   "cell_type": "code",
   "execution_count": 40,
   "id": "ed226d69",
   "metadata": {},
   "outputs": [
    {
     "data": {
      "text/plain": [
       "Confusion Matrix and Statistics\n",
       "\n",
       "          Reference\n",
       "Prediction    0    1\n",
       "         0 3020  676\n",
       "         1   96  208\n",
       "                                          \n",
       "               Accuracy : 0.807           \n",
       "                 95% CI : (0.7944, 0.8191)\n",
       "    No Information Rate : 0.779           \n",
       "    P-Value [Acc > NIR] : 8.034e-06       \n",
       "                                          \n",
       "                  Kappa : 0.2673          \n",
       "                                          \n",
       " Mcnemar's Test P-Value : < 2.2e-16       \n",
       "                                          \n",
       "            Sensitivity : 0.9692          \n",
       "            Specificity : 0.2353          \n",
       "         Pos Pred Value : 0.8171          \n",
       "         Neg Pred Value : 0.6842          \n",
       "             Prevalence : 0.7790          \n",
       "         Detection Rate : 0.7550          \n",
       "   Detection Prevalence : 0.9240          \n",
       "      Balanced Accuracy : 0.6022          \n",
       "                                          \n",
       "       'Positive' Class : 0               \n",
       "                                          "
      ]
     },
     "metadata": {},
     "output_type": "display_data"
    }
   ],
   "source": [
    "# Evaluation\n",
    "\n",
    "confusionMatrix(factor(LR_prediction), test$default.payment.next.month)"
   ]
  },
  {
   "cell_type": "code",
   "execution_count": 41,
   "id": "badae8ec",
   "metadata": {},
   "outputs": [
    {
     "name": "stderr",
     "output_type": "stream",
     "text": [
      "Setting levels: control = 0, case = 1\n",
      "\n",
      "Setting direction: controls < cases\n",
      "\n"
     ]
    },
    {
     "name": "stdout",
     "output_type": "stream",
     "text": [
      "[1] \"AUC = 0.71975034706289\"\n"
     ]
    }
   ],
   "source": [
    "# AUC\n",
    "\n",
    "print(paste0('AUC = ', pROC::auc(pROC::roc(test$default.payment.next.month, LR_predictions))))"
   ]
  },
  {
   "cell_type": "code",
   "execution_count": 133,
   "id": "bf2ec54f",
   "metadata": {},
   "outputs": [],
   "source": [
    "# Using k-fold Cross validation\n",
    "\n",
    "folds = createFolds(y = train$default.payment.next.month, k = 10)\n",
    "\n",
    "LR_crossvalidation = lapply(folds, function(var){\n",
    "  train_fold = train[-var, ]\n",
    "  test_fold = train[var, ]\n",
    "  \n",
    "   LR_classify = glm(default.payment.next.month ~., data = train, family = binomial(link = \"logit\"))\n",
    "    \n",
    "  LR_prediction_folds = predict(LR_classify, newdata = test, type = \"response\")\n",
    "  LR_prediction_folds = round(LR_prediction_folds)\n",
    "  LR_prediction_folds = as.factor(LR_prediction_folds)\n",
    "  \n",
    "  LR_folds = confusionMatrix(LR_prediction_folds, test$default.payment.next.month)\n",
    "  accuracy = LR_folds$overall[1]\n",
    "  \n",
    "  return(accuracy)\n",
    "})"
   ]
  },
  {
   "cell_type": "code",
   "execution_count": 134,
   "id": "857aeff4",
   "metadata": {},
   "outputs": [
    {
     "data": {
      "text/html": [
       "0.807"
      ],
      "text/latex": [
       "0.807"
      ],
      "text/markdown": [
       "0.807"
      ],
      "text/plain": [
       "[1] 0.807"
      ]
     },
     "metadata": {},
     "output_type": "display_data"
    }
   ],
   "source": [
    "# Checking the accuracy after k-fold cross validation\n",
    "\n",
    "mean(as.numeric(LR_crossvalidation))"
   ]
  },
  {
   "cell_type": "markdown",
   "id": "9b0bf7c6",
   "metadata": {},
   "source": [
    "### 3. LDA"
   ]
  },
  {
   "cell_type": "code",
   "execution_count": 42,
   "id": "1fecec56",
   "metadata": {},
   "outputs": [
    {
     "data": {
      "text/plain": [
       "Call:\n",
       "lda(default.payment.next.month ~ ., data = train)\n",
       "\n",
       "Prior probabilities of groups:\n",
       "       0        1 \n",
       "0.779375 0.220625 \n",
       "\n",
       "Group means:\n",
       "  LIMIT_BAL      SEX2 EDUCATION2 EDUCATION3  EDUCATION4 MARRIAGE2  MARRIAGE3\n",
       "0  175657.3 0.6169206  0.4661588  0.1563753 0.017802727 0.5492382 0.01251002\n",
       "1  131855.5 0.5730878  0.4994334  0.1824363 0.003966006 0.5150142 0.01331445\n",
       "      AGE      PAY_0      PAY_2      PAY_3      PAY_4      PAY_5       PAY_6\n",
       "0 35.4320 -0.2091419 -0.2913392 -0.3104250 -0.3498797 -0.3841219 -0.40208500\n",
       "1 35.6813  0.6345609  0.4101983  0.3161473  0.2053824  0.1314448  0.07790368\n",
       "  BILL_AMT1 BILL_AMT2 BILL_AMT3 BILL_AMT4 BILL_AMT5 BILL_AMT6 PAY_AMT1 PAY_AMT2\n",
       "0  51555.11  48980.23  47147.85  43147.32  40078.56  38670.39 6000.381  6511.86\n",
       "1  47398.75  46263.27  44092.40  40957.10  38707.26  37529.21 3451.106  3335.43\n",
       "  PAY_AMT3 PAY_AMT4 PAY_AMT5 PAY_AMT6\n",
       "0 5681.403 5276.179 5306.328 5783.722\n",
       "1 3485.983 3010.149 3049.896 3318.331\n",
       "\n",
       "Coefficients of linear discriminants:\n",
       "                     LD1\n",
       "LIMIT_BAL  -4.296334e-07\n",
       "SEX2       -9.166042e-02\n",
       "EDUCATION2 -1.592451e-01\n",
       "EDUCATION3 -1.619105e-01\n",
       "EDUCATION4 -1.046797e+00\n",
       "MARRIAGE2  -1.940726e-01\n",
       "MARRIAGE3  -3.314659e-01\n",
       "AGE         8.500226e-03\n",
       "PAY_0       7.418875e-01\n",
       "PAY_2       9.860702e-02\n",
       "PAY_3       9.678878e-02\n",
       "PAY_4       7.286274e-04\n",
       "PAY_5       5.843517e-02\n",
       "PAY_6       6.925704e-03\n",
       "BILL_AMT1  -4.528409e-06\n",
       "BILL_AMT2   1.062725e-06\n",
       "BILL_AMT3   1.062402e-06\n",
       "BILL_AMT4  -2.229466e-06\n",
       "BILL_AMT5   4.279000e-07\n",
       "BILL_AMT6   1.293294e-06\n",
       "PAY_AMT1   -5.855665e-06\n",
       "PAY_AMT2   -2.077781e-06\n",
       "PAY_AMT3    1.069014e-06\n",
       "PAY_AMT4   -4.583339e-06\n",
       "PAY_AMT5   -3.989012e-06\n",
       "PAY_AMT6   -1.835144e-06"
      ]
     },
     "metadata": {},
     "output_type": "display_data"
    }
   ],
   "source": [
    "# fitting LDA model with our data set\n",
    "\n",
    "md_lda <- lda(default.payment.next.month ~ ., data=train)\n",
    "md_lda"
   ]
  },
  {
   "cell_type": "code",
   "execution_count": 154,
   "id": "b6c0ad4d",
   "metadata": {},
   "outputs": [
    {
     "data": {
      "image/png": "[encoded data removed]",
      "text/plain": [
       "plot without title"
      ]
     },
     "metadata": {
      "image/png": {
       "height": 300,
       "width": 600
      }
     },
     "output_type": "display_data"
    }
   ],
   "source": [
    "# Plotting LDA\n",
    "\n",
    "plot(md_lda)"
   ]
  },
  {
   "cell_type": "code",
   "execution_count": 159,
   "id": "742c0e16",
   "metadata": {},
   "outputs": [
    {
     "data": {
      "text/plain": [
       "Confusion Matrix and Statistics\n",
       "\n",
       "          Reference\n",
       "Prediction    0    1\n",
       "         0 3010  662\n",
       "         1  106  222\n",
       "                                          \n",
       "               Accuracy : 0.808           \n",
       "                 95% CI : (0.7954, 0.8201)\n",
       "    No Information Rate : 0.779           \n",
       "    P-Value [Acc > NIR] : 3.891e-06       \n",
       "                                          \n",
       "                  Kappa : 0.2802          \n",
       "                                          \n",
       " Mcnemar's Test P-Value : < 2.2e-16       \n",
       "                                          \n",
       "            Sensitivity : 0.9660          \n",
       "            Specificity : 0.2511          \n",
       "         Pos Pred Value : 0.8197          \n",
       "         Neg Pred Value : 0.6768          \n",
       "             Prevalence : 0.7790          \n",
       "         Detection Rate : 0.7525          \n",
       "   Detection Prevalence : 0.9180          \n",
       "      Balanced Accuracy : 0.6086          \n",
       "                                          \n",
       "       'Positive' Class : 0               \n",
       "                                          "
      ]
     },
     "metadata": {},
     "output_type": "display_data"
    }
   ],
   "source": [
    "# Making the prediction\n",
    "\n",
    "set.seed(1)\n",
    "\n",
    "LDA_prediction <- predict(md_lda, newdata=test, type='class')\n",
    "\n",
    "confusionMatrix(LDA_prediction$class, test$default.payment.next.month)"
   ]
  },
  {
   "cell_type": "code",
   "execution_count": 160,
   "id": "8a438db9",
   "metadata": {},
   "outputs": [
    {
     "name": "stderr",
     "output_type": "stream",
     "text": [
      "Setting levels: control = 0, case = 1\n",
      "\n",
      "Setting direction: controls < cases\n",
      "\n"
     ]
    },
    {
     "name": "stdout",
     "output_type": "stream",
     "text": [
      "[1] \"AUC = 0.711134038882661\"\n"
     ]
    }
   ],
   "source": [
    "# Getting AUC from probability \n",
    "\n",
    "pred_proba <- LDA_prediction$posterior[,2]\n",
    "\n",
    "# AUC\n",
    "print(paste0('AUC = ', pROC::auc(pROC::roc(test$default.payment.next.month, pred_proba))))"
   ]
  },
  {
   "cell_type": "code",
   "execution_count": 161,
   "id": "45467db7",
   "metadata": {},
   "outputs": [],
   "source": [
    "# Using K-fold cross validation\n",
    "\n",
    "folds = createFolds(y = train$default.payment.next.month, k = 10)\n",
    "\n",
    "LDA_crossvalidation = lapply(folds, function(var){\n",
    "  train_fold = train[-var, ]\n",
    "  test_fold = train[var, ]\n",
    "  \n",
    "  LDA_classify = lda(default.payment.next.month ~ ., data=train)\n",
    "    \n",
    "  LDA_prediction_folds = predict(LDA_classify, newdata = test_fold, type = \"class\")\n",
    "  \n",
    "  LDA_folds = confusionMatrix(LDA_prediction_folds$class, test_fold$default.payment.next.month)\n",
    "  accuracy = LDA_folds$overall[1]\n",
    "  \n",
    "  return(accuracy)\n",
    "})"
   ]
  },
  {
   "cell_type": "code",
   "execution_count": 162,
   "id": "2f67906d",
   "metadata": {},
   "outputs": [
    {
     "data": {
      "text/html": [
       "0.8114375"
      ],
      "text/latex": [
       "0.8114375"
      ],
      "text/markdown": [
       "0.8114375"
      ],
      "text/plain": [
       "[1] 0.8114375"
      ]
     },
     "metadata": {},
     "output_type": "display_data"
    }
   ],
   "source": [
    "# Checking the accuracy after k-fold cross validation\n",
    "\n",
    "mean(as.numeric(LDA_crossvalidation))"
   ]
  },
  {
   "cell_type": "markdown",
   "id": "d6d39c2f",
   "metadata": {},
   "source": [
    "### 4. Decision Tree"
   ]
  },
  {
   "cell_type": "code",
   "execution_count": 167,
   "id": "4010975d",
   "metadata": {},
   "outputs": [
    {
     "data": {
      "image/png": "[encoded data removed]",
      "text/plain": [
       "plot without title"
      ]
     },
     "metadata": {
      "image/png": {
       "height": 390,
       "width": 360
      }
     },
     "output_type": "display_data"
    }
   ],
   "source": [
    "# PAY_0 and PAY_1 for credit\n",
    "\n",
    "# Plot the partition of tree\n",
    "options(repr.plot.width=6, repr.plot.height=6.5)\n",
    "plot(credit$PAY_0, credit$PAY_1,\n",
    "     pch=c('x', '+')[as.numeric(credit$default.payment.next.month)],\n",
    "     col=c('red', 'green')[as.numeric(credit$default.payment.next.month)],\n",
    "     cex=0.7,\n",
    "     xlab='G2', ylab='G1'\n",
    "    )"
   ]
  },
  {
   "cell_type": "code",
   "execution_count": 45,
   "id": "545a866c",
   "metadata": {},
   "outputs": [
    {
     "data": {
      "text/plain": [
       "\n",
       "Classification tree:\n",
       "tree(formula = default.payment.next.month ~ ., data = train)\n",
       "Variables actually used in tree construction:\n",
       "[1] \"PAY_0\"\n",
       "Number of terminal nodes:  3 \n",
       "Residual mean deviance:  0.9108 = 14570 / 16000 \n",
       "Misclassification error rate: 0.1815 = 2904 / 16000 "
      ]
     },
     "metadata": {},
     "output_type": "display_data"
    }
   ],
   "source": [
    "# Fitting the decision tree model\n",
    "DecisionTreeModel <- tree(default.payment.next.month ~ ., train)\n",
    "summary(DecisionTreeModel)"
   ]
  },
  {
   "cell_type": "code",
   "execution_count": 46,
   "id": "fb313448",
   "metadata": {},
   "outputs": [
    {
     "data": {
      "text/plain": [
       "node), split, n, deviance, yval, (yprob)\n",
       "      * denotes terminal node\n",
       "\n",
       "1) root 16000 16890 0 ( 0.7794 0.2206 )  \n",
       "  2) PAY_0 < 1.5 14378 12990 0 ( 0.8327 0.1673 )  \n",
       "    4) PAY_0 < 0.5 12441 10080 0 ( 0.8599 0.1401 ) *\n",
       "    5) PAY_0 > 0.5 1937  2489 0 ( 0.6577 0.3423 ) *\n",
       "  3) PAY_0 > 1.5 1622  2001 1 ( 0.3070 0.6930 ) *"
      ]
     },
     "metadata": {},
     "output_type": "display_data"
    }
   ],
   "source": [
    "# Decision Tree Model detailed\n",
    "DecisionTreeModel"
   ]
  },
  {
   "cell_type": "code",
   "execution_count": 47,
   "id": "a4bec7d6",
   "metadata": {},
   "outputs": [
    {
     "data": {
      "image/png": "[encoded data removed]",
      "text/plain": [
       "plot without title"
      ]
     },
     "metadata": {
      "image/png": {
       "height": 300,
       "width": 600
      }
     },
     "output_type": "display_data"
    }
   ],
   "source": [
    "# Plotting the decision tree \n",
    "\n",
    "options(repr.plot.width=10, repr.plot.height=5)\n",
    "par(cex.lab=0.8, cex.axis=0.8, cex.main=0.8, cex.sub=0.8)\n",
    "plot(DecisionTreeModel)  # Plot the tree\n",
    "text(DecisionTreeModel, pretty=1) "
   ]
  },
  {
   "cell_type": "code",
   "execution_count": 48,
   "id": "af84a391",
   "metadata": {},
   "outputs": [
    {
     "data": {
      "text/plain": [
       "    \n",
       "pred    0    1\n",
       "   0 2970  608\n",
       "   1  146  276"
      ]
     },
     "metadata": {},
     "output_type": "display_data"
    },
    {
     "name": "stdout",
     "output_type": "stream",
     "text": [
      "[1] \"Accuracy = 0.8115\"\n"
     ]
    },
    {
     "name": "stderr",
     "output_type": "stream",
     "text": [
      "Setting levels: control = 0, case = 1\n",
      "\n",
      "Setting direction: controls < cases\n",
      "\n"
     ]
    },
    {
     "name": "stdout",
     "output_type": "stream",
     "text": [
      "[1] \"AUC = 0.319688485644085\"\n"
     ]
    }
   ],
   "source": [
    "# Making the prediction\n",
    "\n",
    "set.seed(1)\n",
    "\n",
    "pred <- predict(DecisionTreeModel, newdata=test, type='class')\n",
    "pred_proba <- predict(DecisionTreeModel, newdata=test, type='vector')[, 1]\n",
    "\n",
    "# Evaluation: confusion matrix\n",
    "table(pred, test$default.payment.next.month)\n",
    "\n",
    "# Accuracy\n",
    "print(paste0('Accuracy = ', mean(pred == test$default.payment.next.month)))\n",
    "\n",
    "# AUC\n",
    "print(paste0('AUC = ', pROC::auc(pROC::roc(test$default.payment.next.month, pred_proba))))"
   ]
  },
  {
   "cell_type": "code",
   "execution_count": 136,
   "id": "6d964828",
   "metadata": {},
   "outputs": [],
   "source": [
    "# Using K-fold cross validation\n",
    "\n",
    "folds = createFolds(y = train$default.payment.next.month, k = 10)\n",
    "\n",
    "DT_crossvalidation = lapply(folds, function(var){\n",
    "  train_fold = train[-var, ]\n",
    "  test_fold = train[var, ]\n",
    "  \n",
    "  DT_classify = tree(default.payment.next.month ~ ., train)\n",
    "    \n",
    "  DT_prediction_folds = predict(DT_classify, newdata = test_fold, type = \"class\")\n",
    "  \n",
    "  DT_folds = confusionMatrix(DT_prediction_folds, test_fold$default.payment.next.month)\n",
    "  accuracy = DT_folds$overall[1]\n",
    "  \n",
    "  return(accuracy)\n",
    "})"
   ]
  },
  {
   "cell_type": "code",
   "execution_count": 138,
   "id": "125313f0",
   "metadata": {},
   "outputs": [
    {
     "data": {
      "text/html": [
       "0.8185"
      ],
      "text/latex": [
       "0.8185"
      ],
      "text/markdown": [
       "0.8185"
      ],
      "text/plain": [
       "[1] 0.8185"
      ]
     },
     "metadata": {},
     "output_type": "display_data"
    }
   ],
   "source": [
    "# Checking the accuracy after k-fold cross validation\n",
    "\n",
    "mean(as.numeric(DT_crossvalidation))"
   ]
  },
  {
   "cell_type": "markdown",
   "id": "c7aa8cb0",
   "metadata": {},
   "source": [
    "### 5. QDA"
   ]
  },
  {
   "cell_type": "code",
   "execution_count": 50,
   "id": "8fdd613a",
   "metadata": {},
   "outputs": [
    {
     "data": {
      "text/plain": [
       "Call:\n",
       "qda(default.payment.next.month ~ ., data = train)\n",
       "\n",
       "Prior probabilities of groups:\n",
       "       0        1 \n",
       "0.779375 0.220625 \n",
       "\n",
       "Group means:\n",
       "  LIMIT_BAL      SEX2 EDUCATION2 EDUCATION3  EDUCATION4 MARRIAGE2  MARRIAGE3\n",
       "0  175657.3 0.6169206  0.4661588  0.1563753 0.017802727 0.5492382 0.01251002\n",
       "1  131855.5 0.5730878  0.4994334  0.1824363 0.003966006 0.5150142 0.01331445\n",
       "      AGE      PAY_0      PAY_2      PAY_3      PAY_4      PAY_5       PAY_6\n",
       "0 35.4320 -0.2091419 -0.2913392 -0.3104250 -0.3498797 -0.3841219 -0.40208500\n",
       "1 35.6813  0.6345609  0.4101983  0.3161473  0.2053824  0.1314448  0.07790368\n",
       "  BILL_AMT1 BILL_AMT2 BILL_AMT3 BILL_AMT4 BILL_AMT5 BILL_AMT6 PAY_AMT1 PAY_AMT2\n",
       "0  51555.11  48980.23  47147.85  43147.32  40078.56  38670.39 6000.381  6511.86\n",
       "1  47398.75  46263.27  44092.40  40957.10  38707.26  37529.21 3451.106  3335.43\n",
       "  PAY_AMT3 PAY_AMT4 PAY_AMT5 PAY_AMT6\n",
       "0 5681.403 5276.179 5306.328 5783.722\n",
       "1 3485.983 3010.149 3049.896 3318.331"
      ]
     },
     "metadata": {},
     "output_type": "display_data"
    }
   ],
   "source": [
    "# Fitting the model\n",
    "\n",
    "QDA <- qda(default.payment.next.month ~ ., data=train)\n",
    "QDA"
   ]
  },
  {
   "cell_type": "code",
   "execution_count": 51,
   "id": "c31723fb",
   "metadata": {},
   "outputs": [
    {
     "data": {
      "text/html": [
       "<style>\n",
       ".list-inline {list-style: none; margin:0; padding: 0}\n",
       ".list-inline>li {display: inline-block}\n",
       ".list-inline>li:not(:last-child)::after {content: \"\\00b7\"; padding: 0 .5ex}\n",
       "</style>\n",
       "<ol class=list-inline><li>1</li><li>0</li><li>0</li><li>1</li><li>1</li><li>1</li></ol>\n",
       "\n",
       "<details>\n",
       "\t<summary style=display:list-item;cursor:pointer>\n",
       "\t\t<strong>Levels</strong>:\n",
       "\t</summary>\n",
       "\t<style>\n",
       "\t.list-inline {list-style: none; margin:0; padding: 0}\n",
       "\t.list-inline>li {display: inline-block}\n",
       "\t.list-inline>li:not(:last-child)::after {content: \"\\00b7\"; padding: 0 .5ex}\n",
       "\t</style>\n",
       "\t<ol class=list-inline><li>'0'</li><li>'1'</li></ol>\n",
       "</details>"
      ],
      "text/latex": [
       "\\begin{enumerate*}\n",
       "\\item 1\n",
       "\\item 0\n",
       "\\item 0\n",
       "\\item 1\n",
       "\\item 1\n",
       "\\item 1\n",
       "\\end{enumerate*}\n",
       "\n",
       "\\emph{Levels}: \\begin{enumerate*}\n",
       "\\item '0'\n",
       "\\item '1'\n",
       "\\end{enumerate*}\n"
      ],
      "text/markdown": [
       "1. 1\n",
       "2. 0\n",
       "3. 0\n",
       "4. 1\n",
       "5. 1\n",
       "6. 1\n",
       "\n",
       "\n",
       "\n",
       "**Levels**: 1. '0'\n",
       "2. '1'\n",
       "\n",
       "\n"
      ],
      "text/plain": [
       "[1] 1 0 0 1 1 1\n",
       "Levels: 0 1"
      ]
     },
     "metadata": {},
     "output_type": "display_data"
    },
    {
     "data": {
      "text/html": [
       "<table class=\"dataframe\">\n",
       "<caption>A matrix: 6 × 2 of type dbl</caption>\n",
       "<thead>\n",
       "\t<tr><th></th><th scope=col>0</th><th scope=col>1</th></tr>\n",
       "</thead>\n",
       "<tbody>\n",
       "\t<tr><th scope=row>4</th><td>0.1701951260</td><td> 8.298049e-01</td></tr>\n",
       "\t<tr><th scope=row>18</th><td>1.0000000000</td><td>1.050647e-112</td></tr>\n",
       "\t<tr><th scope=row>21</th><td>0.9996773206</td><td> 3.226794e-04</td></tr>\n",
       "\t<tr><th scope=row>33</th><td>0.0015935946</td><td> 9.984064e-01</td></tr>\n",
       "\t<tr><th scope=row>43</th><td>0.0006507125</td><td> 9.993493e-01</td></tr>\n",
       "\t<tr><th scope=row>46</th><td>0.1300918430</td><td> 8.699082e-01</td></tr>\n",
       "</tbody>\n",
       "</table>\n"
      ],
      "text/latex": [
       "A matrix: 6 × 2 of type dbl\n",
       "\\begin{tabular}{r|ll}\n",
       "  & 0 & 1\\\\\n",
       "\\hline\n",
       "\t4 & 0.1701951260 &  8.298049e-01\\\\\n",
       "\t18 & 1.0000000000 & 1.050647e-112\\\\\n",
       "\t21 & 0.9996773206 &  3.226794e-04\\\\\n",
       "\t33 & 0.0015935946 &  9.984064e-01\\\\\n",
       "\t43 & 0.0006507125 &  9.993493e-01\\\\\n",
       "\t46 & 0.1300918430 &  8.699082e-01\\\\\n",
       "\\end{tabular}\n"
      ],
      "text/markdown": [
       "\n",
       "A matrix: 6 × 2 of type dbl\n",
       "\n",
       "| <!--/--> | 0 | 1 |\n",
       "|---|---|---|\n",
       "| 4 | 0.1701951260 |  8.298049e-01 |\n",
       "| 18 | 1.0000000000 | 1.050647e-112 |\n",
       "| 21 | 0.9996773206 |  3.226794e-04 |\n",
       "| 33 | 0.0015935946 |  9.984064e-01 |\n",
       "| 43 | 0.0006507125 |  9.993493e-01 |\n",
       "| 46 | 0.1300918430 |  8.699082e-01 |\n",
       "\n"
      ],
      "text/plain": [
       "   0            1            \n",
       "4  0.1701951260  8.298049e-01\n",
       "18 1.0000000000 1.050647e-112\n",
       "21 0.9996773206  3.226794e-04\n",
       "33 0.0015935946  9.984064e-01\n",
       "43 0.0006507125  9.993493e-01\n",
       "46 0.1300918430  8.699082e-01"
      ]
     },
     "metadata": {},
     "output_type": "display_data"
    }
   ],
   "source": [
    " # Predictions\n",
    "\n",
    "QDA_prediction <- predict(QDA, newdata=test)\n",
    "head(QDA_prediction$class)\n",
    "head(QDA_prediction$posterior)"
   ]
  },
  {
   "cell_type": "code",
   "execution_count": 52,
   "id": "f1bfc6e2",
   "metadata": {},
   "outputs": [
    {
     "name": "stdout",
     "output_type": "stream",
     "text": [
      "[1] \"Confusion matrix:\"\n"
     ]
    },
    {
     "data": {
      "text/plain": [
       "   \n",
       "       0    1\n",
       "  0  782   95\n",
       "  1 2334  789"
      ]
     },
     "metadata": {},
     "output_type": "display_data"
    },
    {
     "name": "stdout",
     "output_type": "stream",
     "text": [
      "[1] \"Accuracy = 0.39 %\"\n"
     ]
    }
   ],
   "source": [
    "# Evaluation\n",
    "\n",
    "# confusion matrix\n",
    "print('Confusion matrix:')\n",
    "table(QDA_prediction$class, test$default.payment.next.month)\n",
    "\n",
    "# accuracy \n",
    "acc <- mean(QDA_prediction$class == test$default.payment.next.month)\n",
    "print(paste('Accuracy =', round(acc, 2), '%'))"
   ]
  },
  {
   "cell_type": "code",
   "execution_count": 53,
   "id": "9d57dbc7",
   "metadata": {},
   "outputs": [
    {
     "name": "stderr",
     "output_type": "stream",
     "text": [
      "Setting levels: control = 0, case = 1\n",
      "\n",
      "Setting direction: controls < cases\n",
      "\n"
     ]
    },
    {
     "name": "stdout",
     "output_type": "stream",
     "text": [
      "[1] \"AUC = 0.715890361526264\"\n"
     ]
    }
   ],
   "source": [
    "# Getting AUC from probability \n",
    "\n",
    "pred_proba <- QDA_prediction$posterior[,2]\n",
    "\n",
    "# AUC\n",
    "print(paste0('AUC = ', pROC::auc(pROC::roc(test$default.payment.next.month, pred_proba))))"
   ]
  },
  {
   "cell_type": "code",
   "execution_count": 141,
   "id": "f0ee7c40",
   "metadata": {},
   "outputs": [],
   "source": [
    "# Using K-fold cross validation\n",
    "\n",
    "folds = createFolds(y = train$default.payment.next.month, k = 10)\n",
    "\n",
    "QDA_crossvalidation = lapply(folds, function(var){\n",
    "  train_fold = train[-var, ]\n",
    "  test_fold = train[var, ]\n",
    "  \n",
    "  QDA_classify = qda(default.payment.next.month ~ ., data=train)\n",
    "    \n",
    "  QDA_prediction_folds = predict(QDA_classify, newdata = test_fold, type = \"class\")\n",
    "  \n",
    "  QDA_folds = confusionMatrix(QDA_prediction_folds$class, test_fold$default.payment.next.month)\n",
    "  accuracy = QDA_folds$overall[1]\n",
    "  \n",
    "  return(accuracy)\n",
    "})"
   ]
  },
  {
   "cell_type": "code",
   "execution_count": 142,
   "id": "0b628952",
   "metadata": {},
   "outputs": [
    {
     "data": {
      "text/html": [
       "0.3904375"
      ],
      "text/latex": [
       "0.3904375"
      ],
      "text/markdown": [
       "0.3904375"
      ],
      "text/plain": [
       "[1] 0.3904375"
      ]
     },
     "metadata": {},
     "output_type": "display_data"
    }
   ],
   "source": [
    "# Checking the accuracy after k-fold cross validation\n",
    "\n",
    "mean(as.numeric(QDA_crossvalidation))"
   ]
  },
  {
   "cell_type": "code",
   "execution_count": 165,
   "id": "2dd6dde3",
   "metadata": {},
   "outputs": [
    {
     "data": {
      "image/png": "[encoded data removed]",
      "text/plain": [
       "plot without title"
      ]
     },
     "metadata": {
      "image/png": {
       "height": 300,
       "width": 600
      }
     },
     "output_type": "display_data"
    }
   ],
   "source": [
    "# ROC curves for QDA only\n",
    "\n",
    "prediction(QDA_prediction$posterior[,2], test$default) %>%\n",
    "  performance(measure = \"tpr\", x.measure = \"fpr\") %>%\n",
    "  plot()"
   ]
  },
  {
   "cell_type": "code",
   "execution_count": 164,
   "id": "7ba13336",
   "metadata": {},
   "outputs": [
    {
     "data": {
      "image/png": "[encoded data removed]",
      "text/plain": [
       "plot without title"
      ]
     },
     "metadata": {
      "image/png": {
       "height": 300,
       "width": 600
      }
     },
     "output_type": "display_data"
    }
   ],
   "source": [
    "# Differences between LDA and QDA\n",
    "\n",
    "# ROC curves\n",
    "\n",
    "par(mfrow=c(1, 2))\n",
    "\n",
    "prediction(LDA_prediction$posterior[,2], test$default) %>%\n",
    "  performance(measure = \"tpr\", x.measure = \"fpr\") %>%\n",
    "  plot()\n",
    "\n",
    "prediction(QDA_prediction$posterior[,2], test$default) %>%\n",
    "  performance(measure = \"tpr\", x.measure = \"fpr\") %>%\n",
    "  plot()"
   ]
  },
  {
   "cell_type": "markdown",
   "id": "d425a66e",
   "metadata": {},
   "source": [
    "### Sources"
   ]
  },
  {
   "cell_type": "markdown",
   "id": "ac4acd76",
   "metadata": {},
   "source": [
    "- Minh Phan’s courses\n",
    "\n",
    "- James, G., Witten, D., Hastie, T., & Tibshirani, R. (2013). An introduction to statistical learning. Springer.\n"
   ]
  },
  {
   "cell_type": "markdown",
   "id": "759ccb3d",
   "metadata": {},
   "source": [
    "For the calc\n",
    "\n",
    "- https://www.codingprof.com/how-to-replace-nas-with-the-mode-most-frequent-value-in-r/#:~:text=a%20character%20column.-,To%20replace%20NA%C2%B4s%20with%20the%20mode%20in%20a,function%20that%20returns%20the%20mode."
   ]
  },
  {
   "cell_type": "markdown",
   "id": "088adb42",
   "metadata": {},
   "source": [
    "Random forest \n",
    "\n",
    "- https://www.kaggle.com/sourabh24293/randomforest-for-default-of-credit-card-clients#6.-Modelling"
   ]
  },
  {
   "cell_type": "markdown",
   "id": "6d4c974e",
   "metadata": {},
   "source": [
    "Logistic Regression \n",
    "\n",
    "- https://www.r-bloggers.com/2019/11/logistic-regression-in-r-a-classification-technique-to-predict-credit-card-default/"
   ]
  },
  {
   "cell_type": "markdown",
   "id": "8a62e80a",
   "metadata": {},
   "source": [
    "Other:\n",
    "\n",
    "- https://rpubs.com/reksi/cc_default\n",
    "\n",
    "- https://www.kaggle.com/suzanaiacob/predicting-credit-card-balance-using-regression\n",
    "\n",
    "- https://afit-r.github.io/discriminant_analysis"
   ]
  }
 ],
 "metadata": {
  "kernelspec": {
   "display_name": "R",
   "language": "R",
   "name": "ir"
  },
  "language_info": {
   "codemirror_mode": "r",
   "file_extension": ".r",
   "mimetype": "text/x-r-source",
   "name": "R",
   "pygments_lexer": "r",
   "version": "4.0.5"
  }
 },
 "nbformat": 4,
 "nbformat_minor": 5
}
